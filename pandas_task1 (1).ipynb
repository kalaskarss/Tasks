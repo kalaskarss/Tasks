{
 "cells": [
  {
   "cell_type": "markdown",
   "id": "5d5ff628",
   "metadata": {},
   "source": [
    "# pandas Series\n",
    "1. Create pandas series with different `data types` in `different ways`\n",
    "2. Find the `attributes` of Series of [10,30,40,1,3,6,14,18,23] with index starts from `100`\n",
    "3. create salaries of `30 employee salaries randomly from 30000-90000` then `measure and describe` the data using pandas series.\n",
    "4. What are the `similaraties` and `differences` between pandas series and nnumpy array.Prove it with code.\n",
    "5. create pandas series with ranges from 100 to 150 then apply indexing and slicing on it."
   ]
  },
  {
   "cell_type": "code",
   "execution_count": null,
   "id": "83af7819",
   "metadata": {},
   "outputs": [],
   "source": []
  },
  {
   "cell_type": "code",
   "execution_count": 5,
   "id": "e73203bc",
   "metadata": {},
   "outputs": [],
   "source": [
    "import pandas as pd"
   ]
  },
  {
   "cell_type": "markdown",
   "id": "eada4bab",
   "metadata": {},
   "source": [
    "**pandas series form list**"
   ]
  },
  {
   "cell_type": "code",
   "execution_count": 3,
   "id": "e7853c5a",
   "metadata": {},
   "outputs": [
    {
     "data": {
      "text/plain": [
       "[40, 41, 42, 43, 44, 45, 46, 47, 48, 49]"
      ]
     },
     "execution_count": 3,
     "metadata": {},
     "output_type": "execute_result"
    }
   ],
   "source": [
    "age = list(range(40,50))\n",
    "age"
   ]
  },
  {
   "cell_type": "code",
   "execution_count": 4,
   "id": "5d5fc995",
   "metadata": {},
   "outputs": [
    {
     "data": {
      "text/plain": [
       "0    40\n",
       "1    41\n",
       "2    42\n",
       "3    43\n",
       "4    44\n",
       "5    45\n",
       "6    46\n",
       "7    47\n",
       "8    48\n",
       "9    49\n",
       "dtype: int64"
      ]
     },
     "execution_count": 4,
     "metadata": {},
     "output_type": "execute_result"
    }
   ],
   "source": [
    "pd.Series(age)"
   ]
  },
  {
   "cell_type": "markdown",
   "id": "3053c952",
   "metadata": {},
   "source": [
    "**pandas Series from tuple**"
   ]
  },
  {
   "cell_type": "code",
   "execution_count": 5,
   "id": "d1c39ed0",
   "metadata": {},
   "outputs": [
    {
     "data": {
      "text/plain": [
       "('priya', 'shri', 'shriya')"
      ]
     },
     "execution_count": 5,
     "metadata": {},
     "output_type": "execute_result"
    }
   ],
   "source": [
    "names = ('priya','shri','shriya')\n",
    "names"
   ]
  },
  {
   "cell_type": "code",
   "execution_count": 7,
   "id": "baee8ca5",
   "metadata": {},
   "outputs": [
    {
     "data": {
      "text/plain": [
       "0     priya\n",
       "1      shri\n",
       "2    shriya\n",
       "dtype: object"
      ]
     },
     "execution_count": 7,
     "metadata": {},
     "output_type": "execute_result"
    }
   ],
   "source": [
    "pd.Series(names)"
   ]
  },
  {
   "cell_type": "markdown",
   "id": "50632d66",
   "metadata": {},
   "source": [
    "**pandas series from array**"
   ]
  },
  {
   "cell_type": "code",
   "execution_count": 28,
   "id": "ef52de0d",
   "metadata": {},
   "outputs": [],
   "source": [
    "import numpy as np                          # pandas sereis from array"
   ]
  },
  {
   "cell_type": "code",
   "execution_count": 10,
   "id": "6bdb5b2b",
   "metadata": {},
   "outputs": [
    {
     "data": {
      "text/plain": [
       "array([39390, 36592, 32305, 39206, 24387, 24895, 33750, 33344, 39676,\n",
       "       21740, 21847, 29085, 38777, 30498, 23092, 34363, 33298, 34758,\n",
       "       25044, 23965])"
      ]
     },
     "execution_count": 10,
     "metadata": {},
     "output_type": "execute_result"
    }
   ],
   "source": [
    "arr = np.random.randint(20000,40000,20)  \n",
    "arr"
   ]
  },
  {
   "cell_type": "code",
   "execution_count": 11,
   "id": "990d344a",
   "metadata": {},
   "outputs": [
    {
     "data": {
      "text/plain": [
       "0     39390\n",
       "1     36592\n",
       "2     32305\n",
       "3     39206\n",
       "4     24387\n",
       "5     24895\n",
       "6     33750\n",
       "7     33344\n",
       "8     39676\n",
       "9     21740\n",
       "10    21847\n",
       "11    29085\n",
       "12    38777\n",
       "13    30498\n",
       "14    23092\n",
       "15    34363\n",
       "16    33298\n",
       "17    34758\n",
       "18    25044\n",
       "19    23965\n",
       "dtype: int32"
      ]
     },
     "execution_count": 11,
     "metadata": {},
     "output_type": "execute_result"
    }
   ],
   "source": [
    "pd.Series(arr)"
   ]
  },
  {
   "cell_type": "code",
   "execution_count": 13,
   "id": "f49976f2",
   "metadata": {},
   "outputs": [
    {
     "data": {
      "text/plain": [
       "1     39390\n",
       "2     36592\n",
       "3     32305\n",
       "4     39206\n",
       "5     24387\n",
       "6     24895\n",
       "7     33750\n",
       "8     33344\n",
       "9     39676\n",
       "10    21740\n",
       "11    21847\n",
       "12    29085\n",
       "13    38777\n",
       "14    30498\n",
       "15    23092\n",
       "16    34363\n",
       "17    33298\n",
       "18    34758\n",
       "19    25044\n",
       "20    23965\n",
       "dtype: int32"
      ]
     },
     "execution_count": 13,
     "metadata": {},
     "output_type": "execute_result"
    }
   ],
   "source": [
    "a = pd.Series(arr,index = list(range(1,21)))\n",
    "a"
   ]
  },
  {
   "cell_type": "markdown",
   "id": "18e09b52",
   "metadata": {},
   "source": [
    "**padas series from dictionary**"
   ]
  },
  {
   "cell_type": "code",
   "execution_count": 14,
   "id": "322189d6",
   "metadata": {},
   "outputs": [
    {
     "data": {
      "text/plain": [
       "{'A': 'shri', 'B': 'shriya', 'C': 'priya'}"
      ]
     },
     "execution_count": 14,
     "metadata": {},
     "output_type": "execute_result"
    }
   ],
   "source": [
    "students = {'A': 'shri','B':'shriya','C':'priya'}\n",
    "students"
   ]
  },
  {
   "cell_type": "code",
   "execution_count": 15,
   "id": "99912e1e",
   "metadata": {},
   "outputs": [
    {
     "data": {
      "text/plain": [
       "A      shri\n",
       "B    shriya\n",
       "C     priya\n",
       "dtype: object"
      ]
     },
     "execution_count": 15,
     "metadata": {},
     "output_type": "execute_result"
    }
   ],
   "source": [
    "pd.Series(students)"
   ]
  },
  {
   "cell_type": "markdown",
   "id": "9a937101",
   "metadata": {},
   "source": [
    "#### Find the attributes of Series of [10,30,40,1,3,6,14,18,23] with index starts from 100"
   ]
  },
  {
   "cell_type": "code",
   "execution_count": 4,
   "id": "07da2be1",
   "metadata": {},
   "outputs": [
    {
     "data": {
      "text/plain": [
       "100    10\n",
       "101    30\n",
       "102    40\n",
       "103     1\n",
       "104     3\n",
       "105     6\n",
       "106    14\n",
       "107    18\n",
       "108    23\n",
       "dtype: int8"
      ]
     },
     "execution_count": 4,
     "metadata": {},
     "output_type": "execute_result"
    }
   ],
   "source": [
    "lst =[10,30,40,1,3,6,14,18,23]\n",
    "\n",
    "lst =pd.Series(lst,index = list(range(100,109)),dtype = 'int8')\n",
    "lst"
   ]
  },
  {
   "cell_type": "code",
   "execution_count": 9,
   "id": "fca143ee",
   "metadata": {},
   "outputs": [
    {
     "data": {
      "text/plain": [
       "100    10\n",
       "101    30\n",
       "102    40\n",
       "103     1\n",
       "104     3\n",
       "dtype: int8"
      ]
     },
     "execution_count": 9,
     "metadata": {},
     "output_type": "execute_result"
    }
   ],
   "source": [
    "lst.head()"
   ]
  },
  {
   "cell_type": "code",
   "execution_count": 11,
   "id": "cb82f3ac",
   "metadata": {},
   "outputs": [
    {
     "data": {
      "text/plain": [
       "104     3\n",
       "105     6\n",
       "106    14\n",
       "107    18\n",
       "108    23\n",
       "dtype: int8"
      ]
     },
     "execution_count": 11,
     "metadata": {},
     "output_type": "execute_result"
    }
   ],
   "source": [
    "lst.tail()"
   ]
  },
  {
   "cell_type": "code",
   "execution_count": 26,
   "id": "7a569d4a",
   "metadata": {},
   "outputs": [
    {
     "name": "stdout",
     "output_type": "stream",
     "text": [
      "<class 'pandas.core.series.Series'>\n",
      "Index: 9 entries, 100 to 108\n",
      "Series name: None\n",
      "Non-Null Count  Dtype\n",
      "--------------  -----\n",
      "9 non-null      int8 \n",
      "dtypes: int8(1)\n",
      "memory usage: 81.0 bytes\n"
     ]
    }
   ],
   "source": [
    "lst.info()"
   ]
  },
  {
   "cell_type": "code",
   "execution_count": 18,
   "id": "10b39cd3",
   "metadata": {},
   "outputs": [
    {
     "data": {
      "text/plain": [
       "count     9.000000\n",
       "mean     16.111111\n",
       "std      13.033078\n",
       "min       1.000000\n",
       "25%       6.000000\n",
       "50%      14.000000\n",
       "75%      23.000000\n",
       "max      40.000000\n",
       "dtype: float64"
      ]
     },
     "execution_count": 18,
     "metadata": {},
     "output_type": "execute_result"
    }
   ],
   "source": [
    "lst.describe()"
   ]
  },
  {
   "cell_type": "code",
   "execution_count": 20,
   "id": "b0bb2085",
   "metadata": {},
   "outputs": [
    {
     "data": {
      "text/plain": [
       "1"
      ]
     },
     "execution_count": 20,
     "metadata": {},
     "output_type": "execute_result"
    }
   ],
   "source": [
    "lst.ndim"
   ]
  },
  {
   "cell_type": "code",
   "execution_count": 21,
   "id": "83e3ee4d",
   "metadata": {},
   "outputs": [
    {
     "data": {
      "text/plain": [
       "9"
      ]
     },
     "execution_count": 21,
     "metadata": {},
     "output_type": "execute_result"
    }
   ],
   "source": [
    "lst.size"
   ]
  },
  {
   "cell_type": "code",
   "execution_count": 23,
   "id": "c6507beb",
   "metadata": {},
   "outputs": [
    {
     "data": {
      "text/plain": [
       "<bound method Series.items of 100    10\n",
       "101    30\n",
       "102    40\n",
       "103     1\n",
       "104     3\n",
       "105     6\n",
       "106    14\n",
       "107    18\n",
       "108    23\n",
       "dtype: int8>"
      ]
     },
     "execution_count": 23,
     "metadata": {},
     "output_type": "execute_result"
    }
   ],
   "source": [
    "lst.items"
   ]
  },
  {
   "cell_type": "code",
   "execution_count": 25,
   "id": "f9f26a3c",
   "metadata": {},
   "outputs": [
    {
     "data": {
      "text/plain": [
       "9"
      ]
     },
     "execution_count": 25,
     "metadata": {},
     "output_type": "execute_result"
    }
   ],
   "source": [
    "lst.nbytes"
   ]
  },
  {
   "cell_type": "code",
   "execution_count": null,
   "id": "df6f02b5",
   "metadata": {},
   "outputs": [],
   "source": []
  },
  {
   "cell_type": "markdown",
   "id": "8f58ce06",
   "metadata": {},
   "source": [
    "#### create salaries of 30 employee salaries randomly from 30000-90000 then measure and describe the data using pandas series."
   ]
  },
  {
   "cell_type": "code",
   "execution_count": 29,
   "id": "3da57adc",
   "metadata": {},
   "outputs": [
    {
     "data": {
      "text/plain": [
       "0     30616\n",
       "1     56240\n",
       "2     81785\n",
       "3     63145\n",
       "4     31254\n",
       "5     33420\n",
       "6     71224\n",
       "7     53569\n",
       "8     76200\n",
       "9     69165\n",
       "10    53826\n",
       "11    34773\n",
       "12    88809\n",
       "13    76978\n",
       "14    62150\n",
       "15    37422\n",
       "16    66354\n",
       "17    71424\n",
       "18    69610\n",
       "19    88690\n",
       "20    37922\n",
       "21    44774\n",
       "22    62370\n",
       "23    72841\n",
       "24    49224\n",
       "25    48623\n",
       "26    51008\n",
       "27    38305\n",
       "28    48212\n",
       "29    87286\n",
       "dtype: int32"
      ]
     },
     "execution_count": 29,
     "metadata": {},
     "output_type": "execute_result"
    }
   ],
   "source": [
    "salaries = np.random.randint(30000,90000,30)\n",
    "sal1 = pd.Series(salaries)\n",
    "sal1."
   ]
  },
  {
   "cell_type": "code",
   "execution_count": 30,
   "id": "13a3f5aa",
   "metadata": {},
   "outputs": [
    {
     "data": {
      "text/plain": [
       "58573.96666666667"
      ]
     },
     "execution_count": 30,
     "metadata": {},
     "output_type": "execute_result"
    }
   ],
   "source": [
    "sal1.mean()"
   ]
  },
  {
   "cell_type": "code",
   "execution_count": 32,
   "id": "8961b9ca",
   "metadata": {},
   "outputs": [
    {
     "data": {
      "text/plain": [
       "59195.0"
      ]
     },
     "execution_count": 32,
     "metadata": {},
     "output_type": "execute_result"
    }
   ],
   "source": [
    "sal1.median()"
   ]
  },
  {
   "cell_type": "code",
   "execution_count": 34,
   "id": "5bede467",
   "metadata": {},
   "outputs": [
    {
     "data": {
      "text/plain": [
       "0     30616\n",
       "1     31254\n",
       "2     33420\n",
       "3     34773\n",
       "4     37422\n",
       "5     37922\n",
       "6     38305\n",
       "7     44774\n",
       "8     48212\n",
       "9     48623\n",
       "10    49224\n",
       "11    51008\n",
       "12    53569\n",
       "13    53826\n",
       "14    56240\n",
       "15    62150\n",
       "16    62370\n",
       "17    63145\n",
       "18    66354\n",
       "19    69165\n",
       "20    69610\n",
       "21    71224\n",
       "22    71424\n",
       "23    72841\n",
       "24    76200\n",
       "25    76978\n",
       "26    81785\n",
       "27    87286\n",
       "28    88690\n",
       "29    88809\n",
       "dtype: int32"
      ]
     },
     "execution_count": 34,
     "metadata": {},
     "output_type": "execute_result"
    }
   ],
   "source": [
    "sal1.mode()"
   ]
  },
  {
   "cell_type": "code",
   "execution_count": 35,
   "id": "978e8d5f",
   "metadata": {},
   "outputs": [
    {
     "data": {
      "text/plain": [
       "88809"
      ]
     },
     "execution_count": 35,
     "metadata": {},
     "output_type": "execute_result"
    }
   ],
   "source": [
    "sal1.max()"
   ]
  },
  {
   "cell_type": "code",
   "execution_count": 36,
   "id": "7ed87d3a",
   "metadata": {},
   "outputs": [
    {
     "data": {
      "text/plain": [
       "58573.96666666667"
      ]
     },
     "execution_count": 36,
     "metadata": {},
     "output_type": "execute_result"
    }
   ],
   "source": [
    "sal1.mean()"
   ]
  },
  {
   "cell_type": "code",
   "execution_count": 37,
   "id": "4433bd99",
   "metadata": {},
   "outputs": [
    {
     "data": {
      "text/plain": [
       "321084323.2057471"
      ]
     },
     "execution_count": 37,
     "metadata": {},
     "output_type": "execute_result"
    }
   ],
   "source": [
    "sal1.var()"
   ]
  },
  {
   "cell_type": "code",
   "execution_count": 38,
   "id": "7198bd3a",
   "metadata": {},
   "outputs": [
    {
     "data": {
      "text/plain": [
       "17918.82594384317"
      ]
     },
     "execution_count": 38,
     "metadata": {},
     "output_type": "execute_result"
    }
   ],
   "source": [
    "sal1.std()"
   ]
  },
  {
   "cell_type": "code",
   "execution_count": 39,
   "id": "39225530",
   "metadata": {},
   "outputs": [
    {
     "data": {
      "text/plain": [
       "45633.5"
      ]
     },
     "execution_count": 39,
     "metadata": {},
     "output_type": "execute_result"
    }
   ],
   "source": [
    "sal1.quantile(0.25)"
   ]
  },
  {
   "cell_type": "code",
   "execution_count": 40,
   "id": "4abeba40",
   "metadata": {},
   "outputs": [
    {
     "data": {
      "text/plain": [
       "71374.0"
      ]
     },
     "execution_count": 40,
     "metadata": {},
     "output_type": "execute_result"
    }
   ],
   "source": [
    "sal1.quantile(0.75)"
   ]
  },
  {
   "cell_type": "code",
   "execution_count": null,
   "id": "21e6f716",
   "metadata": {},
   "outputs": [],
   "source": []
  },
  {
   "cell_type": "markdown",
   "id": "e63d28b7",
   "metadata": {},
   "source": [
    "#### What are the similaraties and differences between pandas series and nnumpy array.Prove it with code."
   ]
  },
  {
   "cell_type": "raw",
   "id": "997ea37c",
   "metadata": {},
   "source": [
    "array --- is not index based\n",
    "pandas series ----- it is index based."
   ]
  },
  {
   "cell_type": "code",
   "execution_count": 2,
   "id": "5c9b72d1",
   "metadata": {},
   "outputs": [],
   "source": [
    "import numpy as np"
   ]
  },
  {
   "cell_type": "code",
   "execution_count": 10,
   "id": "588e2395",
   "metadata": {},
   "outputs": [
    {
     "data": {
      "text/plain": [
       "array([33429, 48302, 56440,  6867,  6637, 77205, 49010, 74118, 14134,\n",
       "       56879, 41759, 19902, 74211, 66281, 41376, 32004, 69992, 39402,\n",
       "       69412, 19901])"
      ]
     },
     "execution_count": 10,
     "metadata": {},
     "output_type": "execute_result"
    }
   ],
   "source": [
    "salaries = np.random.randint(4500,80000,20)\n",
    "salaries"
   ]
  },
  {
   "cell_type": "code",
   "execution_count": 11,
   "id": "6cdcf08f",
   "metadata": {},
   "outputs": [
    {
     "data": {
      "text/plain": [
       "0     33429\n",
       "1     48302\n",
       "2     56440\n",
       "3      6867\n",
       "4      6637\n",
       "5     77205\n",
       "6     49010\n",
       "7     74118\n",
       "8     14134\n",
       "9     56879\n",
       "10    41759\n",
       "11    19902\n",
       "12    74211\n",
       "13    66281\n",
       "14    41376\n",
       "15    32004\n",
       "16    69992\n",
       "17    39402\n",
       "18    69412\n",
       "19    19901\n",
       "dtype: int32"
      ]
     },
     "execution_count": 11,
     "metadata": {},
     "output_type": "execute_result"
    }
   ],
   "source": [
    "sal = pd.Series(salaries)\n",
    "sal"
   ]
  },
  {
   "cell_type": "code",
   "execution_count": null,
   "id": "cc747639",
   "metadata": {},
   "outputs": [],
   "source": []
  },
  {
   "cell_type": "markdown",
   "id": "4db5cbeb",
   "metadata": {},
   "source": [
    "#### 5.create pandas series with ranges from 100 to 150 then apply indexing and slicing on it."
   ]
  },
  {
   "cell_type": "code",
   "execution_count": 14,
   "id": "5a029514",
   "metadata": {},
   "outputs": [
    {
     "data": {
      "text/plain": [
       "0     100\n",
       "1     101\n",
       "2     102\n",
       "3     103\n",
       "4     104\n",
       "5     105\n",
       "6     106\n",
       "7     107\n",
       "8     108\n",
       "9     109\n",
       "10    110\n",
       "11    111\n",
       "12    112\n",
       "13    113\n",
       "14    114\n",
       "15    115\n",
       "16    116\n",
       "17    117\n",
       "18    118\n",
       "19    119\n",
       "20    120\n",
       "21    121\n",
       "22    122\n",
       "23    123\n",
       "24    124\n",
       "25    125\n",
       "26    126\n",
       "27    127\n",
       "28    128\n",
       "29    129\n",
       "30    130\n",
       "31    131\n",
       "32    132\n",
       "33    133\n",
       "34    134\n",
       "35    135\n",
       "36    136\n",
       "37    137\n",
       "38    138\n",
       "39    139\n",
       "40    140\n",
       "41    141\n",
       "42    142\n",
       "43    143\n",
       "44    144\n",
       "45    145\n",
       "46    146\n",
       "47    147\n",
       "48    148\n",
       "49    149\n",
       "dtype: int64"
      ]
     },
     "execution_count": 14,
     "metadata": {},
     "output_type": "execute_result"
    }
   ],
   "source": [
    "ser1 = list(range(100,150))\n",
    "ser2 = pd.Series(ser1)\n",
    "ser2"
   ]
  },
  {
   "cell_type": "code",
   "execution_count": 15,
   "id": "f293d92b",
   "metadata": {},
   "outputs": [
    {
     "data": {
      "text/plain": [
       "100"
      ]
     },
     "execution_count": 15,
     "metadata": {},
     "output_type": "execute_result"
    }
   ],
   "source": [
    "ser2[0]"
   ]
  },
  {
   "cell_type": "code",
   "execution_count": 16,
   "id": "8b3548a6",
   "metadata": {},
   "outputs": [
    {
     "data": {
      "text/plain": [
       "0    100\n",
       "1    101\n",
       "2    102\n",
       "3    103\n",
       "dtype: int64"
      ]
     },
     "execution_count": 16,
     "metadata": {},
     "output_type": "execute_result"
    }
   ],
   "source": [
    "ser2[0:4]"
   ]
  },
  {
   "cell_type": "code",
   "execution_count": null,
   "id": "3ecd7a61",
   "metadata": {},
   "outputs": [],
   "source": []
  }
 ],
 "metadata": {
  "kernelspec": {
   "display_name": "Python 3 (ipykernel)",
   "language": "python",
   "name": "python3"
  },
  "language_info": {
   "codemirror_mode": {
    "name": "ipython",
    "version": 3
   },
   "file_extension": ".py",
   "mimetype": "text/x-python",
   "name": "python",
   "nbconvert_exporter": "python",
   "pygments_lexer": "ipython3",
   "version": "3.11.4"
  }
 },
 "nbformat": 4,
 "nbformat_minor": 5
}
