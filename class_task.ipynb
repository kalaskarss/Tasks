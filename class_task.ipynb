{
 "cells": [
  {
   "cell_type": "markdown",
   "id": "93f90755",
   "metadata": {},
   "source": [
    "### class Task"
   ]
  },
  {
   "cell_type": "raw",
   "id": "2e4f61e0",
   "metadata": {},
   "source": [
    "1.clean the data(outlier,missing values,type conversion)\n",
    "2.What is the mean value of sepal length\n",
    "3.sort the sepal width in ascending order.\n",
    "4.apply all statistical measures on  sepal width and length\n",
    "5.after cleaning the data ,save the file as 'cleaned_iris.txt' and load to jupyter again to display the values"
   ]
  },
  {
   "cell_type": "code",
   "execution_count": 53,
   "id": "88b221a1",
   "metadata": {},
   "outputs": [],
   "source": [
    "import numpy as np"
   ]
  },
  {
   "cell_type": "code",
   "execution_count": 3,
   "id": "cf3b59af",
   "metadata": {},
   "outputs": [],
   "source": [
    "s =np.genfromtxt(r\"C:\\Users\\LENOVO\\Downloads\\Iris_clean_-_Copy.csv\",dtype = 'int32',delimiter = \",\")"
   ]
  },
  {
   "cell_type": "code",
   "execution_count": 4,
   "id": "8b081022",
   "metadata": {},
   "outputs": [
    {
     "data": {
      "text/plain": [
       "array([[ -1,  -1,  -1,  -1],\n",
       "       [  5,   3,   1,   0],\n",
       "       [  4,   3,   1,   0],\n",
       "       [  4,   3,   1,   0],\n",
       "       [  4,   3,   1,  10],\n",
       "       [ 50,   3,   1,   0],\n",
       "       [  5,  -1,   1,   0],\n",
       "       [  4,   3,   1,   0],\n",
       "       [  5,   3,   1,   0],\n",
       "       [  4,   2,   1,   0],\n",
       "       [  4,   3,  -1,   0],\n",
       "       [  5,   3,   1,   0],\n",
       "       [  4,   3,   1,   0],\n",
       "       [  4, 130,   1,  10],\n",
       "       [  4,   3,   1,   0],\n",
       "       [  5,   4,   1,   0],\n",
       "       [  5,   4,   1,   0],\n",
       "       [ 50,  -1,   1,   0],\n",
       "       [  5,   3,   1,   0],\n",
       "       [  5,   3,   1,   0],\n",
       "       [  5,   3,   1,   0],\n",
       "       [  5,   3,   1,   0],\n",
       "       [  5,   3,   1,   0],\n",
       "       [  4,   3,   1,   0],\n",
       "       [  5,   3,   1,   0],\n",
       "       [  4,   3,   1,   0],\n",
       "       [  5,   3,   1,   0],\n",
       "       [  5,  34,   1,   0],\n",
       "       [  5,   3,   1,   0],\n",
       "       [  5,   3,   1, 110],\n",
       "       [  4,   3,   1,   0],\n",
       "       [  4,   3,   1,   0],\n",
       "       [  5,   3,   1,   0],\n",
       "       [  5,   4,   1,   0],\n",
       "       [  5,   4,   1,   0],\n",
       "       [  4,   3,   1,   0],\n",
       "       [  5,   3,   1,   0],\n",
       "       [  5,   3,   1,   0],\n",
       "       [  4,   3,   1,   0],\n",
       "       [  4,   3,   1,   0],\n",
       "       [  5,   3,   1,   0],\n",
       "       [  5,   3,   1,   0],\n",
       "       [  4,   2,  13,   0],\n",
       "       [  4,   3,   1,   0],\n",
       "       [  5,   3,   1,   0],\n",
       "       [  5,   3,   1,   0],\n",
       "       [  4,   3,   1,   0],\n",
       "       [  5,   3,   1,   0],\n",
       "       [  4,   3,   1,   0],\n",
       "       [  5,   3,   1,   0],\n",
       "       [  5,   3,   1,   0],\n",
       "       [  7,   3,   4,   1],\n",
       "       [  6,   3,   4,   1],\n",
       "       [  6,  -1,   4,   1],\n",
       "       [  5,   2,   4,   1],\n",
       "       [  6,   2,   4,   1],\n",
       "       [  5,   2,   4,   1],\n",
       "       [116,   3,   4,   1],\n",
       "       [  4,   2,   3,  16],\n",
       "       [  6,   2,   4,   1],\n",
       "       [  5,   2,   3,   1],\n",
       "       [  5,   2,   3,   1],\n",
       "       [  5,   3,   4,   1],\n",
       "       [  6,   2,   4,   1],\n",
       "       [  6,   2,   4,   1],\n",
       "       [  5,   2,   3,   1],\n",
       "       [  6,   3,   4,   1],\n",
       "       [  5,   3,   4,   1],\n",
       "       [  5,   2,   4,   1],\n",
       "       [  6,   2,   4,   1],\n",
       "       [  5,   2,   3,   1],\n",
       "       [  5,   3,   4,   1],\n",
       "       [  6,   2,   4,   1],\n",
       "       [  6,   2,   4,   1],\n",
       "       [  6,  -1,   4,   1],\n",
       "       [  6,   2,   4,   1],\n",
       "       [  6,   3,   4,   1],\n",
       "       [  6,   2,   4,   1],\n",
       "       [  6,   3,   5,   1],\n",
       "       [  6,   2,   4,   1],\n",
       "       [  5,   2,   3,   1],\n",
       "       [  5,   2,  13,   1],\n",
       "       [  5,   2,   3,   1],\n",
       "       [  5,   2,   3,   1],\n",
       "       [  6,   2,   5,   1],\n",
       "       [  5,   3,   4,   1],\n",
       "       [  6,   3,   4,   1],\n",
       "       [  6,   3,   4,   1],\n",
       "       [  6,   2,   4,   1],\n",
       "       [  5,   3,   4,   1],\n",
       "       [  5,   2,   4,   1],\n",
       "       [  5,   2,   4,   1],\n",
       "       [  6,   3,  -1,   1],\n",
       "       [  5, 112,   4,   1],\n",
       "       [  5,   2,   3,   1],\n",
       "       [  5,   2,   4,   1],\n",
       "       [  5,   3,   4,   1],\n",
       "       [  5,   2,   4,   1],\n",
       "       [  6,   2,   4,   1],\n",
       "       [  5,   2,   3, 111],\n",
       "       [  5,   2,   4,   1],\n",
       "       [  6,   3,   6,   2],\n",
       "       [  5,   2,   5,   1],\n",
       "       [  7,   3,   5,   2],\n",
       "       [  6,   2,   5,   1],\n",
       "       [  6,   3,   5,   2],\n",
       "       [  7,   3,   6,   2],\n",
       "       [  4,   2,   4,   1],\n",
       "       [  7,   2,   6,   1],\n",
       "       [  6,   2,   5,   1],\n",
       "       [  7,   3,   6,   2],\n",
       "       [  6,   3,   5,   2],\n",
       "       [  6,   2,   5,   1],\n",
       "       [  6,   3,  -1,   2],\n",
       "       [  5,   2,   5,   2],\n",
       "       [  5,   2,   5,   2],\n",
       "       [  6,   3,   5,   2],\n",
       "       [  6,   3,   5,   1],\n",
       "       [  7,   3,   6,   2],\n",
       "       [  7,   2,   6,   2],\n",
       "       [  6,   2,   5,   1],\n",
       "       [  6,   3,   5,   2],\n",
       "       [  5,   2,   4,   2],\n",
       "       [  7,   2,   6,   2],\n",
       "       [  6,   2,   4,   1],\n",
       "       [  6,   3,   5,   2],\n",
       "       [  7,   3,   6,   1],\n",
       "       [  6,   2,   4,   1],\n",
       "       [  6,   3,   4,   1],\n",
       "       [  6,   2,   5,   2],\n",
       "       [ 70,   3,   5,   1],\n",
       "       [ -1,   2,   6,   1],\n",
       "       [ -1,   3,  -1,   2],\n",
       "       [  6,   2,   5,   2],\n",
       "       [  6,   2,   5,   1],\n",
       "       [  6,   2,   5,   1],\n",
       "       [  7,   3,   6,   2],\n",
       "       [  6,   3,   5,   2],\n",
       "       [  6,  -1,   5,   1],\n",
       "       [  6,   3,   4,   1],\n",
       "       [  6,   3,   5,   2],\n",
       "       [  6,   3,  -1,   2],\n",
       "       [  6,   3,   5,   2],\n",
       "       [  5,   2,   5,   1],\n",
       "       [  6,   3,   5,   2],\n",
       "       [  6,   3,   5,   2],\n",
       "       [  6,  -1,  -1,   2],\n",
       "       [  6,   2,   5,   1],\n",
       "       [  6,   3,   5,   2],\n",
       "       [  6,   3,   5,   2],\n",
       "       [  5,   3,   5,   1],\n",
       "       [  5,   2,   4,   2],\n",
       "       [  7,   2,   6,   2],\n",
       "       [ -1,   2,   4,   1],\n",
       "       [ -1,   3,   5,   2],\n",
       "       [  7,   3,   6,   1],\n",
       "       [  4,   2,   4,   1],\n",
       "       [  7,   2,   6,   1],\n",
       "       [  6,   2,   5,   1],\n",
       "       [  5,   3,   5,   1],\n",
       "       [  5,   2,   4,   2],\n",
       "       [  7,   2,   6,   2],\n",
       "       [  6,   2,   4,   1],\n",
       "       [  7,   3,   6,   2],\n",
       "       [  6,   3,   5,   2],\n",
       "       [  6,   2,   5,   1]])"
      ]
     },
     "execution_count": 4,
     "metadata": {},
     "output_type": "execute_result"
    }
   ],
   "source": [
    "s"
   ]
  },
  {
   "cell_type": "code",
   "execution_count": 5,
   "id": "94fd5fd5",
   "metadata": {},
   "outputs": [
    {
     "data": {
      "text/plain": [
       "array([  5,   4,   4,   4,  50,   5,   4,   5,   4,   4,   5,   4,   4,\n",
       "         4,   5,   5,  50,   5,   5,   5,   5,   5,   4,   5,   4,   5,\n",
       "         5,   5,   5,   4,   4,   5,   5,   5,   4,   5,   5,   4,   4,\n",
       "         5,   5,   4,   4,   5,   5,   4,   5,   4,   5,   5,   7,   6,\n",
       "         6,   5,   6,   5, 116,   4,   6,   5,   5,   5,   6,   6,   5,\n",
       "         6,   5,   5,   6,   5,   5,   6,   6,   6,   6,   6,   6,   6,\n",
       "         6,   5,   5,   5,   5,   6,   5,   6,   6,   6,   5,   5,   5,\n",
       "         6,   5,   5,   5,   5,   5,   6,   5,   5,   6,   5,   7,   6,\n",
       "         6,   7,   4,   7,   6,   7,   6,   6,   6,   5,   5,   6,   6,\n",
       "         7,   7,   6,   6,   5,   7,   6,   6,   7,   6,   6,   6,  70,\n",
       "        -1,  -1,   6,   6,   6,   7,   6,   6,   6,   6,   6,   6,   5,\n",
       "         6,   6,   6,   6,   6,   6,   5,   5,   7,  -1,  -1,   7,   4,\n",
       "         7,   6,   5,   5,   7,   6,   7,   6,   6])"
      ]
     },
     "execution_count": 5,
     "metadata": {},
     "output_type": "execute_result"
    }
   ],
   "source": [
    "sapl = s[1:,0]\n",
    "sapl"
   ]
  },
  {
   "cell_type": "code",
   "execution_count": 6,
   "id": "d07c344e",
   "metadata": {},
   "outputs": [
    {
     "data": {
      "text/plain": [
       "array([  5.,   4.,   4.,   4.,  50.,   5.,   4.,   5.,   4.,   4.,   5.,\n",
       "         4.,   4.,   4.,   5.,   5.,  50.,   5.,   5.,   5.,   5.,   5.,\n",
       "         4.,   5.,   4.,   5.,   5.,   5.,   5.,   4.,   4.,   5.,   5.,\n",
       "         5.,   4.,   5.,   5.,   4.,   4.,   5.,   5.,   4.,   4.,   5.,\n",
       "         5.,   4.,   5.,   4.,   5.,   5.,   7.,   6.,   6.,   5.,   6.,\n",
       "         5., 116.,   4.,   6.,   5.,   5.,   5.,   6.,   6.,   5.,   6.,\n",
       "         5.,   5.,   6.,   5.,   5.,   6.,   6.,   6.,   6.,   6.,   6.,\n",
       "         6.,   6.,   5.,   5.,   5.,   5.,   6.,   5.,   6.,   6.,   6.,\n",
       "         5.,   5.,   5.,   6.,   5.,   5.,   5.,   5.,   5.,   6.,   5.,\n",
       "         5.,   6.,   5.,   7.,   6.,   6.,   7.,   4.,   7.,   6.,   7.,\n",
       "         6.,   6.,   6.,   5.,   5.,   6.,   6.,   7.,   7.,   6.,   6.,\n",
       "         5.,   7.,   6.,   6.,   7.,   6.,   6.,   6.,  70.,  nan,  nan,\n",
       "         6.,   6.,   6.,   7.,   6.,   6.,   6.,   6.,   6.,   6.,   5.,\n",
       "         6.,   6.,   6.,   6.,   6.,   6.,   5.,   5.,   7.,  nan,  nan,\n",
       "         7.,   4.,   7.,   6.,   5.,   5.,   7.,   6.,   7.,   6.,   6.])"
      ]
     },
     "execution_count": 6,
     "metadata": {},
     "output_type": "execute_result"
    }
   ],
   "source": [
    "sapl = np.where(sapl == -1,np.nan,sapl)\n",
    "sapl"
   ]
  },
  {
   "cell_type": "code",
   "execution_count": 7,
   "id": "6bab01d0",
   "metadata": {},
   "outputs": [
    {
     "data": {
      "text/plain": [
       "7.049689440993789"
      ]
     },
     "execution_count": 7,
     "metadata": {},
     "output_type": "execute_result"
    }
   ],
   "source": [
    "np.nanmean(sapl)"
   ]
  },
  {
   "cell_type": "code",
   "execution_count": 8,
   "id": "088e2751",
   "metadata": {},
   "outputs": [
    {
     "data": {
      "text/plain": [
       "array([  5,   4,   4,   4,  50,   5,   4,   5,   4,   4,   5,   4,   4,\n",
       "         4,   5,   5,  50,   5,   5,   5,   5,   5,   4,   5,   4,   5,\n",
       "         5,   5,   5,   4,   4,   5,   5,   5,   4,   5,   5,   4,   4,\n",
       "         5,   5,   4,   4,   5,   5,   4,   5,   4,   5,   5,   7,   6,\n",
       "         6,   5,   6,   5, 116,   4,   6,   5,   5,   5,   6,   6,   5,\n",
       "         6,   5,   5,   6,   5,   5,   6,   6,   6,   6,   6,   6,   6,\n",
       "         6,   5,   5,   5,   5,   6,   5,   6,   6,   6,   5,   5,   5,\n",
       "         6,   5,   5,   5,   5,   5,   6,   5,   5,   6,   5,   7,   6,\n",
       "         6,   7,   4,   7,   6,   7,   6,   6,   6,   5,   5,   6,   6,\n",
       "         7,   7,   6,   6,   5,   7,   6,   6,   7,   6,   6,   6,  70,\n",
       "         7,   7,   6,   6,   6,   7,   6,   6,   6,   6,   6,   6,   5,\n",
       "         6,   6,   6,   6,   6,   6,   5,   5,   7,   7,   7,   7,   4,\n",
       "         7,   6,   5,   5,   7,   6,   7,   6,   6])"
      ]
     },
     "execution_count": 8,
     "metadata": {},
     "output_type": "execute_result"
    }
   ],
   "source": [
    "sapl1 = np.where(np.isnan(sapl),np.nanmean(sapl),sapl).astype('int32')\n",
    "sapl1"
   ]
  },
  {
   "cell_type": "code",
   "execution_count": 9,
   "id": "d84a0902",
   "metadata": {},
   "outputs": [],
   "source": [
    "cond = (sapl > 8) | (sapl < 3)"
   ]
  },
  {
   "cell_type": "code",
   "execution_count": 10,
   "id": "8676c1e4",
   "metadata": {},
   "outputs": [
    {
     "data": {
      "text/plain": [
       "4"
      ]
     },
     "execution_count": 10,
     "metadata": {},
     "output_type": "execute_result"
    }
   ],
   "source": [
    "np.sum(cond)"
   ]
  },
  {
   "cell_type": "code",
   "execution_count": 44,
   "id": "34571d1b",
   "metadata": {},
   "outputs": [
    {
     "data": {
      "text/plain": [
       "array([5, 4, 4, 4, 7, 5, 4, 5, 4, 4, 5, 4, 4, 4, 5, 5, 7, 5, 5, 5, 5, 5,\n",
       "       4, 5, 4, 5, 5, 5, 5, 4, 4, 5, 5, 5, 4, 5, 5, 4, 4, 5, 5, 4, 4, 5,\n",
       "       5, 4, 5, 4, 5, 5, 7, 6, 6, 5, 6, 5, 7, 4, 6, 5, 5, 5, 6, 6, 5, 6,\n",
       "       5, 5, 6, 5, 5, 6, 6, 6, 6, 6, 6, 6, 6, 5, 5, 5, 5, 6, 5, 6, 6, 6,\n",
       "       5, 5, 5, 6, 5, 5, 5, 5, 5, 6, 5, 5, 6, 5, 7, 6, 6, 7, 4, 7, 6, 7,\n",
       "       6, 6, 6, 5, 5, 6, 6, 7, 7, 6, 6, 5, 7, 6, 6, 7, 6, 6, 6, 7, 7, 7,\n",
       "       6, 6, 6, 7, 6, 6, 6, 6, 6, 6, 5, 6, 6, 6, 6, 6, 6, 5, 5, 7, 7, 7,\n",
       "       7, 4, 7, 6, 5, 5, 7, 6, 7, 6, 6])"
      ]
     },
     "execution_count": 44,
     "metadata": {},
     "output_type": "execute_result"
    }
   ],
   "source": [
    "sepal_length = np.where(cond,7,sapl1)\n",
    "sepal_length"
   ]
  },
  {
   "cell_type": "code",
   "execution_count": 12,
   "id": "e45334f8",
   "metadata": {},
   "outputs": [
    {
     "data": {
      "text/plain": [
       "5.484848484848484"
      ]
     },
     "execution_count": 12,
     "metadata": {},
     "output_type": "execute_result"
    }
   ],
   "source": [
    "np.mean(sepal_length)"
   ]
  },
  {
   "cell_type": "code",
   "execution_count": 13,
   "id": "65eb6967",
   "metadata": {},
   "outputs": [
    {
     "data": {
      "text/plain": [
       "5.0"
      ]
     },
     "execution_count": 13,
     "metadata": {},
     "output_type": "execute_result"
    }
   ],
   "source": [
    "np.median(sepal_length)"
   ]
  },
  {
   "cell_type": "code",
   "execution_count": 15,
   "id": "1507caf3",
   "metadata": {},
   "outputs": [
    {
     "data": {
      "text/plain": [
       "3"
      ]
     },
     "execution_count": 15,
     "metadata": {},
     "output_type": "execute_result"
    }
   ],
   "source": [
    "Range= np.max(sepal_length) - np.min(sepal_length)\n",
    "Range"
   ]
  },
  {
   "cell_type": "code",
   "execution_count": 16,
   "id": "b7ac3088",
   "metadata": {},
   "outputs": [
    {
     "data": {
      "text/plain": [
       "0.8073461891643708"
      ]
     },
     "execution_count": 16,
     "metadata": {},
     "output_type": "execute_result"
    }
   ],
   "source": [
    "np.var(sepal_length)"
   ]
  },
  {
   "cell_type": "code",
   "execution_count": 18,
   "id": "15c174d4",
   "metadata": {},
   "outputs": [
    {
     "data": {
      "text/plain": [
       "0.8985244510665087"
      ]
     },
     "execution_count": 18,
     "metadata": {},
     "output_type": "execute_result"
    }
   ],
   "source": [
    "np.std(sepal_length)"
   ]
  },
  {
   "cell_type": "markdown",
   "id": "281fb4af",
   "metadata": {},
   "source": [
    "#### sort the sepal width in ascending order."
   ]
  },
  {
   "cell_type": "code",
   "execution_count": 54,
   "id": "83468104",
   "metadata": {},
   "outputs": [
    {
     "data": {
      "text/plain": [
       "array([ -1,  -1,  -1,  -1,  -1,  -1,   2,   2,   2,   2,   2,   2,   2,\n",
       "         2,   2,   2,   2,   2,   2,   2,   2,   2,   2,   2,   2,   2,\n",
       "         2,   2,   2,   2,   2,   2,   2,   2,   2,   2,   2,   2,   2,\n",
       "         2,   2,   2,   2,   2,   2,   2,   2,   2,   2,   2,   2,   2,\n",
       "         2,   2,   2,   2,   2,   2,   2,   2,   2,   2,   2,   2,   2,\n",
       "         2,   2,   2,   2,   2,   2,   3,   3,   3,   3,   3,   3,   3,\n",
       "         3,   3,   3,   3,   3,   3,   3,   3,   3,   3,   3,   3,   3,\n",
       "         3,   3,   3,   3,   3,   3,   3,   3,   3,   3,   3,   3,   3,\n",
       "         3,   3,   3,   3,   3,   3,   3,   3,   3,   3,   3,   3,   3,\n",
       "         3,   3,   3,   3,   3,   3,   3,   3,   3,   3,   3,   3,   3,\n",
       "         3,   3,   3,   3,   3,   3,   3,   3,   3,   3,   3,   3,   3,\n",
       "         3,   3,   3,   3,   3,   3,   3,   3,   3,   3,   3,   3,   3,\n",
       "         3,   3,   4,   4,   4,   4,  34, 112, 130])"
      ]
     },
     "execution_count": 54,
     "metadata": {},
     "output_type": "execute_result"
    }
   ],
   "source": [
    "width = s[1:,1]\n",
    "np.sort(width)"
   ]
  },
  {
   "cell_type": "code",
   "execution_count": 55,
   "id": "61638c15",
   "metadata": {},
   "outputs": [
    {
     "data": {
      "text/plain": [
       "array([  3.,   3.,   3.,   3.,   3.,  nan,   3.,   3.,   2.,   3.,   3.,\n",
       "         3., 130.,   3.,   4.,   4.,  nan,   3.,   3.,   3.,   3.,   3.,\n",
       "         3.,   3.,   3.,   3.,  34.,   3.,   3.,   3.,   3.,   3.,   4.,\n",
       "         4.,   3.,   3.,   3.,   3.,   3.,   3.,   3.,   2.,   3.,   3.,\n",
       "         3.,   3.,   3.,   3.,   3.,   3.,   3.,   3.,  nan,   2.,   2.,\n",
       "         2.,   3.,   2.,   2.,   2.,   2.,   3.,   2.,   2.,   2.,   3.,\n",
       "         3.,   2.,   2.,   2.,   3.,   2.,   2.,  nan,   2.,   3.,   2.,\n",
       "         3.,   2.,   2.,   2.,   2.,   2.,   2.,   3.,   3.,   3.,   2.,\n",
       "         3.,   2.,   2.,   3., 112.,   2.,   2.,   3.,   2.,   2.,   2.,\n",
       "         2.,   3.,   2.,   3.,   2.,   3.,   3.,   2.,   2.,   2.,   3.,\n",
       "         3.,   2.,   3.,   2.,   2.,   3.,   3.,   3.,   2.,   2.,   3.,\n",
       "         2.,   2.,   2.,   3.,   3.,   2.,   3.,   2.,   3.,   2.,   3.,\n",
       "         2.,   2.,   2.,   3.,   3.,  nan,   3.,   3.,   3.,   3.,   2.,\n",
       "         3.,   3.,  nan,   2.,   3.,   3.,   3.,   2.,   2.,   2.,   3.,\n",
       "         3.,   2.,   2.,   2.,   3.,   2.,   2.,   2.,   3.,   3.,   2.])"
      ]
     },
     "execution_count": 55,
     "metadata": {},
     "output_type": "execute_result"
    }
   ],
   "source": [
    "width = np.where(width == -1,np.nan,width)\n",
    "width\n"
   ]
  },
  {
   "cell_type": "code",
   "execution_count": 56,
   "id": "8861f02e",
   "metadata": {},
   "outputs": [
    {
     "data": {
      "text/plain": [
       "4.29559748427673"
      ]
     },
     "execution_count": 56,
     "metadata": {},
     "output_type": "execute_result"
    }
   ],
   "source": [
    "np.nanmean(width)"
   ]
  },
  {
   "cell_type": "code",
   "execution_count": 73,
   "id": "3c6a8fed",
   "metadata": {},
   "outputs": [
    {
     "data": {
      "text/plain": [
       "array([  3,   3,   3,   3,   3,   4,   3,   3,   2,   3,   3,   3, 130,\n",
       "         3,   4,   4,   4,   3,   3,   3,   3,   3,   3,   3,   3,   3,\n",
       "        34,   3,   3,   3,   3,   3,   4,   4,   3,   3,   3,   3,   3,\n",
       "         3,   3,   2,   3,   3,   3,   3,   3,   3,   3,   3,   3,   3,\n",
       "         4,   2,   2,   2,   3,   2,   2,   2,   2,   3,   2,   2,   2,\n",
       "         3,   3,   2,   2,   2,   3,   2,   2,   4,   2,   3,   2,   3,\n",
       "         2,   2,   2,   2,   2,   2,   3,   3,   3,   2,   3,   2,   2,\n",
       "         3, 112,   2,   2,   3,   2,   2,   2,   2,   3,   2,   3,   2,\n",
       "         3,   3,   2,   2,   2,   3,   3,   2,   3,   2,   2,   3,   3,\n",
       "         3,   2,   2,   3,   2,   2,   2,   3,   3,   2,   3,   2,   3,\n",
       "         2,   3,   2,   2,   2,   3,   3,   4,   3,   3,   3,   3,   2,\n",
       "         3,   3,   4,   2,   3,   3,   3,   2,   2,   2,   3,   3,   2,\n",
       "         2,   2,   3,   2,   2,   2,   3,   3,   2])"
      ]
     },
     "execution_count": 73,
     "metadata": {},
     "output_type": "execute_result"
    }
   ],
   "source": [
    "width1 = np.where(np.isnan(width),np.nanmean(width),width).astype('int32')\n",
    "width1"
   ]
  },
  {
   "cell_type": "code",
   "execution_count": 58,
   "id": "290d69db",
   "metadata": {},
   "outputs": [],
   "source": [
    "condi = (width> 5 )| (width <2)"
   ]
  },
  {
   "cell_type": "code",
   "execution_count": 59,
   "id": "6ba390af",
   "metadata": {},
   "outputs": [
    {
     "data": {
      "text/plain": [
       "array([False, False, False, False, False, False, False, False, False,\n",
       "       False, False, False,  True, False, False, False, False, False,\n",
       "       False, False, False, False, False, False, False, False,  True,\n",
       "       False, False, False, False, False, False, False, False, False,\n",
       "       False, False, False, False, False, False, False, False, False,\n",
       "       False, False, False, False, False, False, False, False, False,\n",
       "       False, False, False, False, False, False, False, False, False,\n",
       "       False, False, False, False, False, False, False, False, False,\n",
       "       False, False, False, False, False, False, False, False, False,\n",
       "       False, False, False, False, False, False, False, False, False,\n",
       "       False, False,  True, False, False, False, False, False, False,\n",
       "       False, False, False, False, False, False, False, False, False,\n",
       "       False, False, False, False, False, False, False, False, False,\n",
       "       False, False, False, False, False, False, False, False, False,\n",
       "       False, False, False, False, False, False, False, False, False,\n",
       "       False, False, False, False, False, False, False, False, False,\n",
       "       False, False, False, False, False, False, False, False, False,\n",
       "       False, False, False, False, False, False, False, False, False,\n",
       "       False, False, False])"
      ]
     },
     "execution_count": 59,
     "metadata": {},
     "output_type": "execute_result"
    }
   ],
   "source": [
    "condi"
   ]
  },
  {
   "cell_type": "code",
   "execution_count": 60,
   "id": "aff04665",
   "metadata": {},
   "outputs": [
    {
     "data": {
      "text/plain": [
       "3"
      ]
     },
     "execution_count": 60,
     "metadata": {},
     "output_type": "execute_result"
    }
   ],
   "source": [
    "np.sum(condi)   #outlier"
   ]
  },
  {
   "cell_type": "code",
   "execution_count": 61,
   "id": "38825ca8",
   "metadata": {},
   "outputs": [
    {
     "data": {
      "text/plain": [
       "array([3, 3, 3, 3, 3, 4, 3, 3, 2, 3, 3, 3, 4, 3, 4, 4, 4, 3, 3, 3, 3, 3,\n",
       "       3, 3, 3, 3, 4, 3, 3, 3, 3, 3, 4, 4, 3, 3, 3, 3, 3, 3, 3, 2, 3, 3,\n",
       "       3, 3, 3, 3, 3, 3, 3, 3, 4, 2, 2, 2, 3, 2, 2, 2, 2, 3, 2, 2, 2, 3,\n",
       "       3, 2, 2, 2, 3, 2, 2, 4, 2, 3, 2, 3, 2, 2, 2, 2, 2, 2, 3, 3, 3, 2,\n",
       "       3, 2, 2, 3, 4, 2, 2, 3, 2, 2, 2, 2, 3, 2, 3, 2, 3, 3, 2, 2, 2, 3,\n",
       "       3, 2, 3, 2, 2, 3, 3, 3, 2, 2, 3, 2, 2, 2, 3, 3, 2, 3, 2, 3, 2, 3,\n",
       "       2, 2, 2, 3, 3, 4, 3, 3, 3, 3, 2, 3, 3, 4, 2, 3, 3, 3, 2, 2, 2, 3,\n",
       "       3, 2, 2, 2, 3, 2, 2, 2, 3, 3, 2])"
      ]
     },
     "execution_count": 61,
     "metadata": {},
     "output_type": "execute_result"
    }
   ],
   "source": [
    "sepal_width = np.where(condi,4,width1)\n",
    "sepal_width"
   ]
  },
  {
   "cell_type": "code",
   "execution_count": 62,
   "id": "e483e24e",
   "metadata": {},
   "outputs": [
    {
     "data": {
      "text/plain": [
       "4.284848484848485"
      ]
     },
     "execution_count": 62,
     "metadata": {},
     "output_type": "execute_result"
    }
   ],
   "source": [
    "np.mean(width1)"
   ]
  },
  {
   "cell_type": "code",
   "execution_count": 63,
   "id": "3d739ebf",
   "metadata": {},
   "outputs": [
    {
     "data": {
      "text/plain": [
       "3.0"
      ]
     },
     "execution_count": 63,
     "metadata": {},
     "output_type": "execute_result"
    }
   ],
   "source": [
    "np.median(width1)"
   ]
  },
  {
   "cell_type": "code",
   "execution_count": 64,
   "id": "cb45570a",
   "metadata": {},
   "outputs": [
    {
     "data": {
      "text/plain": [
       "2"
      ]
     },
     "execution_count": 64,
     "metadata": {},
     "output_type": "execute_result"
    }
   ],
   "source": [
    "Range = np.max(sepal_width) - np.min(sepal_width)\n",
    "Range"
   ]
  },
  {
   "cell_type": "code",
   "execution_count": 66,
   "id": "ecd02dbc",
   "metadata": {},
   "outputs": [
    {
     "data": {
      "text/plain": [
       "0.37340679522497705"
      ]
     },
     "execution_count": 66,
     "metadata": {},
     "output_type": "execute_result"
    }
   ],
   "source": [
    "np.var(sepal_width)"
   ]
  },
  {
   "cell_type": "code",
   "execution_count": 67,
   "id": "ecacff93",
   "metadata": {},
   "outputs": [
    {
     "data": {
      "text/plain": [
       "0.6110702048250897"
      ]
     },
     "execution_count": 67,
     "metadata": {},
     "output_type": "execute_result"
    }
   ],
   "source": [
    "np.std(sepal_width)"
   ]
  },
  {
   "cell_type": "markdown",
   "id": "58e9c1d3",
   "metadata": {},
   "source": [
    "###### 5.after cleaning the data ,save the file as 'cleaned_iris.txt' and load to jupyter again to display the values"
   ]
  },
  {
   "cell_type": "code",
   "execution_count": 68,
   "id": "6b0d0eb5",
   "metadata": {},
   "outputs": [],
   "source": [
    "np.savetxt('cleaned_iris.txt',sepal_length)"
   ]
  },
  {
   "cell_type": "code",
   "execution_count": 69,
   "id": "5e4635cf",
   "metadata": {},
   "outputs": [
    {
     "data": {
      "text/plain": [
       "array([5., 4., 4., 4., 7., 5., 4., 5., 4., 4., 5., 4., 4., 4., 5., 5., 7.,\n",
       "       5., 5., 5., 5., 5., 4., 5., 4., 5., 5., 5., 5., 4., 4., 5., 5., 5.,\n",
       "       4., 5., 5., 4., 4., 5., 5., 4., 4., 5., 5., 4., 5., 4., 5., 5., 7.,\n",
       "       6., 6., 5., 6., 5., 7., 4., 6., 5., 5., 5., 6., 6., 5., 6., 5., 5.,\n",
       "       6., 5., 5., 6., 6., 6., 6., 6., 6., 6., 6., 5., 5., 5., 5., 6., 5.,\n",
       "       6., 6., 6., 5., 5., 5., 6., 5., 5., 5., 5., 5., 6., 5., 5., 6., 5.,\n",
       "       7., 6., 6., 7., 4., 7., 6., 7., 6., 6., 6., 5., 5., 6., 6., 7., 7.,\n",
       "       6., 6., 5., 7., 6., 6., 7., 6., 6., 6., 7., 7., 7., 6., 6., 6., 7.,\n",
       "       6., 6., 6., 6., 6., 6., 5., 6., 6., 6., 6., 6., 6., 5., 5., 7., 7.,\n",
       "       7., 7., 4., 7., 6., 5., 5., 7., 6., 7., 6., 6.])"
      ]
     },
     "execution_count": 69,
     "metadata": {},
     "output_type": "execute_result"
    }
   ],
   "source": [
    "np.loadtxt('cleaned_iris.txt')"
   ]
  },
  {
   "cell_type": "code",
   "execution_count": 70,
   "id": "a61b6dd6",
   "metadata": {},
   "outputs": [],
   "source": [
    "np.savetxt('cleaned_iris.txt',sepal_width)"
   ]
  },
  {
   "cell_type": "code",
   "execution_count": 71,
   "id": "85a27bc6",
   "metadata": {},
   "outputs": [
    {
     "data": {
      "text/plain": [
       "array([3., 3., 3., 3., 3., 4., 3., 3., 2., 3., 3., 3., 4., 3., 4., 4., 4.,\n",
       "       3., 3., 3., 3., 3., 3., 3., 3., 3., 4., 3., 3., 3., 3., 3., 4., 4.,\n",
       "       3., 3., 3., 3., 3., 3., 3., 2., 3., 3., 3., 3., 3., 3., 3., 3., 3.,\n",
       "       3., 4., 2., 2., 2., 3., 2., 2., 2., 2., 3., 2., 2., 2., 3., 3., 2.,\n",
       "       2., 2., 3., 2., 2., 4., 2., 3., 2., 3., 2., 2., 2., 2., 2., 2., 3.,\n",
       "       3., 3., 2., 3., 2., 2., 3., 4., 2., 2., 3., 2., 2., 2., 2., 3., 2.,\n",
       "       3., 2., 3., 3., 2., 2., 2., 3., 3., 2., 3., 2., 2., 3., 3., 3., 2.,\n",
       "       2., 3., 2., 2., 2., 3., 3., 2., 3., 2., 3., 2., 3., 2., 2., 2., 3.,\n",
       "       3., 4., 3., 3., 3., 3., 2., 3., 3., 4., 2., 3., 3., 3., 2., 2., 2.,\n",
       "       3., 3., 2., 2., 2., 3., 2., 2., 2., 3., 3., 2.])"
      ]
     },
     "execution_count": 71,
     "metadata": {},
     "output_type": "execute_result"
    }
   ],
   "source": [
    "np.loadtxt('cleaned_iris.txt')"
   ]
  },
  {
   "cell_type": "code",
   "execution_count": null,
   "id": "1b45a495",
   "metadata": {},
   "outputs": [],
   "source": []
  }
 ],
 "metadata": {
  "kernelspec": {
   "display_name": "Python 3 (ipykernel)",
   "language": "python",
   "name": "python3"
  },
  "language_info": {
   "codemirror_mode": {
    "name": "ipython",
    "version": 3
   },
   "file_extension": ".py",
   "mimetype": "text/x-python",
   "name": "python",
   "nbconvert_exporter": "python",
   "pygments_lexer": "ipython3",
   "version": "3.11.4"
  }
 },
 "nbformat": 4,
 "nbformat_minor": 5
}
