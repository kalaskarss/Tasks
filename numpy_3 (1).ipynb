{
 "cells": [
  {
   "cell_type": "markdown",
   "id": "cc8d4d50",
   "metadata": {},
   "source": [
    "### Data Cleaning using numpy"
   ]
  },
  {
   "cell_type": "markdown",
   "id": "a9f62f05",
   "metadata": {},
   "source": [
    "**The following are the student marks of a class**\n",
    "[44,24,np.nan,59,32,96,188,52,62,58,52,120,np.nan,np.nan,3,56,81,59,,122,92,np.nan,87,96,97,1,19,2,53, 44]\n",
    "\n"
   ]
  },
  {
   "cell_type": "markdown",
   "id": "69b2a360",
   "metadata": {},
   "source": [
    "1. Find the no of outliers and missing values?\n",
    "2. replace the outliers with 45 and missing value with 87.\n",
    "3. what is the average marks of students after 2nd step?\n",
    "4. How many students got less than 60 marks?\n",
    "5. what is the maximum marks?\n",
    "6. Convert the marks to float32."
   ]
  },
  {
   "cell_type": "markdown",
   "id": "3692b4ec",
   "metadata": {},
   "source": [
    "### Solving Linear Equations"
   ]
  },
  {
   "cell_type": "markdown",
   "id": "b5172cfe",
   "metadata": {},
   "source": [
    "\n",
    "    \n",
    "1. 2x + 3y - z = 10\n",
    "\n",
    "    x - y + 2z = 5\n",
    "    \n",
    "    3x + 2y + z = 12\n",
    "    \n",
    "    \n",
    "    \n",
    "2. 2x + y - z + 3w = 8\n",
    "\n",
    "    3x - 2y + 2z + 2w = 1\n",
    "    \n",
    "    x + 3y - 2z + w = 7\n",
    "    \n",
    "    4x - y + z - 2w = 3\n",
    "   \n",
    "   \n",
    "   \n",
    "3. 4x + 2y - 3z = 10\n",
    "\n",
    "    -2x + 3y + z = -3\n",
    "    \n",
    "    x - y + 2z = 4\n",
    "    \n",
    "Solve the system of equations using NumPy's linalg.solve function.\n"
   ]
  },
  {
   "cell_type": "markdown",
   "id": "5bebe166",
   "metadata": {},
   "source": [
    "### Conditional Selection with np.where()"
   ]
  },
  {
   "cell_type": "markdown",
   "id": "036735c5",
   "metadata": {},
   "source": [
    "\n",
    "1.\tGenerate a random 1D array A of 10 integers between 1 and 100.\n",
    "\n",
    "2.\tUse np.where() to find the indices where the elements of A are greater than 50.\n",
    "\n",
    "3.\tCreate a new array B that contains elements from A where the condition is met.\n",
    "\n",
    "4.\tCalculate the mean of array B and print it along with arrays A and B."
   ]
  },
  {
   "cell_type": "markdown",
   "id": "f935d75b",
   "metadata": {},
   "source": [
    "### Replace Values with np.where()"
   ]
  },
  {
   "cell_type": "markdown",
   "id": "9c5ac3b7",
   "metadata": {},
   "source": [
    "1.\tCreate a 4x4 random integer matrix C with values between -10 and 10.\n",
    "\n",
    "2.\tUse np.where() to replace all negative values in matrix C with 0.\n",
    "\n",
    "3.\tPrint the original matrix C and the modified matrix."
   ]
  },
  {
   "cell_type": "code",
   "execution_count": null,
   "id": "0353f30e",
   "metadata": {},
   "outputs": [],
   "source": []
  },
  {
   "cell_type": "code",
   "execution_count": null,
   "id": "1a94f4b5",
   "metadata": {},
   "outputs": [],
   "source": []
  },
  {
   "cell_type": "markdown",
   "id": "67d8aa99",
   "metadata": {},
   "source": [
    "### Data Cleaning using numpy"
   ]
  },
  {
   "cell_type": "markdown",
   "id": "cb295098",
   "metadata": {},
   "source": [
    "[44,24,np.nan,59,32,96,188,52,62,58,52,120,np.nan,np.nan,3,56,81,59,122,92,np.nan,87,96,97,1,19,2,53, 44]"
   ]
  },
  {
   "cell_type": "markdown",
   "id": "77bb46e8",
   "metadata": {},
   "source": [
    "**Find the no of outliers and missing values?**"
   ]
  },
  {
   "cell_type": "code",
   "execution_count": 98,
   "id": "4d4da3c4",
   "metadata": {},
   "outputs": [],
   "source": [
    "import numpy as np"
   ]
  },
  {
   "cell_type": "code",
   "execution_count": 99,
   "id": "e5f3181b",
   "metadata": {},
   "outputs": [],
   "source": [
    "marks = np.array([44,24,np.nan,59,32,96,188,52,62,58,52,120,np.nan,np.nan,3,56,81,59,122,92,np.nan,87,96,97,1,19,2,53, 44])"
   ]
  },
  {
   "cell_type": "code",
   "execution_count": 100,
   "id": "42940b5d",
   "metadata": {},
   "outputs": [
    {
     "data": {
      "text/plain": [
       "array([ 44.,  24.,  nan,  59.,  32.,  96., 188.,  52.,  62.,  58.,  52.,\n",
       "       120.,  nan,  nan,   3.,  56.,  81.,  59., 122.,  92.,  nan,  87.,\n",
       "        96.,  97.,   1.,  19.,   2.,  53.,  44.])"
      ]
     },
     "execution_count": 100,
     "metadata": {},
     "output_type": "execute_result"
    }
   ],
   "source": [
    "marks"
   ]
  },
  {
   "cell_type": "code",
   "execution_count": 101,
   "id": "983ed8db",
   "metadata": {},
   "outputs": [
    {
     "data": {
      "text/plain": [
       "array([False, False,  True, False, False, False, False, False, False,\n",
       "       False, False, False,  True,  True, False, False, False, False,\n",
       "       False, False,  True, False, False, False, False, False, False,\n",
       "       False, False])"
      ]
     },
     "execution_count": 101,
     "metadata": {},
     "output_type": "execute_result"
    }
   ],
   "source": [
    "np.isnan(marks)\n"
   ]
  },
  {
   "cell_type": "code",
   "execution_count": 107,
   "id": "baec8e96",
   "metadata": {},
   "outputs": [
    {
     "data": {
      "text/plain": [
       "4"
      ]
     },
     "execution_count": 107,
     "metadata": {},
     "output_type": "execute_result"
    }
   ],
   "source": [
    "np.sum(np.isnan(marks))  # missing values"
   ]
  },
  {
   "cell_type": "code",
   "execution_count": null,
   "id": "ef24c77a",
   "metadata": {},
   "outputs": [],
   "source": [
    "# replace missing values by 87"
   ]
  },
  {
   "cell_type": "code",
   "execution_count": 102,
   "id": "60916063",
   "metadata": {},
   "outputs": [
    {
     "data": {
      "text/plain": [
       "array([ 44,  24,  87,  59,  32,  96, 188,  52,  62,  58,  52, 120,  87,\n",
       "        87,   3,  56,  81,  59, 122,  92,  87,  87,  96,  97,   1,  19,\n",
       "         2,  53,  44], dtype=int16)"
      ]
     },
     "execution_count": 102,
     "metadata": {},
     "output_type": "execute_result"
    }
   ],
   "source": [
    "mark1 = np.where(np.isnan(marks),87,marks).astype('int16')\n",
    "mark1"
   ]
  },
  {
   "cell_type": "code",
   "execution_count": 104,
   "id": "da3a7ade",
   "metadata": {},
   "outputs": [
    {
     "data": {
      "text/plain": [
       "array([False, False, False, False, False, False,  True, False, False,\n",
       "       False, False,  True, False, False, False, False, False, False,\n",
       "        True, False, False, False, False, False, False, False, False,\n",
       "       False, False])"
      ]
     },
     "execution_count": 104,
     "metadata": {},
     "output_type": "execute_result"
    }
   ],
   "source": [
    "cond = (marks > 100 ) | (marks < 0)   #outlier\n",
    "cond"
   ]
  },
  {
   "cell_type": "code",
   "execution_count": 105,
   "id": "0f3428df",
   "metadata": {},
   "outputs": [
    {
     "data": {
      "text/plain": [
       "3"
      ]
     },
     "execution_count": 105,
     "metadata": {},
     "output_type": "execute_result"
    }
   ],
   "source": [
    "np.sum(cond)"
   ]
  },
  {
   "cell_type": "code",
   "execution_count": null,
   "id": "86307039",
   "metadata": {},
   "outputs": [],
   "source": [
    "#replace outliers by 45"
   ]
  },
  {
   "cell_type": "code",
   "execution_count": 109,
   "id": "9f75c51a",
   "metadata": {},
   "outputs": [
    {
     "data": {
      "text/plain": [
       "array([44, 24, 87, 59, 32, 96, 45, 52, 62, 58, 52, 45, 87, 87,  3, 56, 81,\n",
       "       59, 45, 92, 87, 87, 96, 97,  1, 19,  2, 53, 44], dtype=int16)"
      ]
     },
     "execution_count": 109,
     "metadata": {},
     "output_type": "execute_result"
    }
   ],
   "source": [
    "S = np.where(cond,45,mark)\n",
    "S"
   ]
  },
  {
   "cell_type": "code",
   "execution_count": null,
   "id": "08d439b9",
   "metadata": {},
   "outputs": [],
   "source": [
    "#what is the average marks of students after 2nd step?"
   ]
  },
  {
   "cell_type": "code",
   "execution_count": 110,
   "id": "94d0ebae",
   "metadata": {},
   "outputs": [
    {
     "data": {
      "text/plain": [
       "56.96551724137931"
      ]
     },
     "execution_count": 110,
     "metadata": {},
     "output_type": "execute_result"
    }
   ],
   "source": [
    "np.mean(S)"
   ]
  },
  {
   "cell_type": "code",
   "execution_count": null,
   "id": "c86aa3f4",
   "metadata": {},
   "outputs": [],
   "source": [
    "#How many students got less than 60 marks?"
   ]
  },
  {
   "cell_type": "code",
   "execution_count": 111,
   "id": "74d86658",
   "metadata": {},
   "outputs": [
    {
     "data": {
      "text/plain": [
       "18"
      ]
     },
     "execution_count": 111,
     "metadata": {},
     "output_type": "execute_result"
    }
   ],
   "source": [
    "len(S[S<60])"
   ]
  },
  {
   "cell_type": "code",
   "execution_count": null,
   "id": "51dec933",
   "metadata": {},
   "outputs": [],
   "source": [
    "#what is the maximum marks?"
   ]
  },
  {
   "cell_type": "code",
   "execution_count": 114,
   "id": "dcdd8d2b",
   "metadata": {},
   "outputs": [
    {
     "data": {
      "text/plain": [
       "97"
      ]
     },
     "execution_count": 114,
     "metadata": {},
     "output_type": "execute_result"
    }
   ],
   "source": [
    "np.max(S)"
   ]
  },
  {
   "cell_type": "code",
   "execution_count": null,
   "id": "647aea0f",
   "metadata": {},
   "outputs": [],
   "source": []
  },
  {
   "cell_type": "markdown",
   "id": "70c32019",
   "metadata": {},
   "source": [
    "### Solving Linear Equations"
   ]
  },
  {
   "cell_type": "markdown",
   "id": "f89b317d",
   "metadata": {},
   "source": [
    "2x + 3y - z = 10\n",
    "\n",
    "x - y + 2z = 5\n",
    "\n",
    "3x + 2y + z = 12"
   ]
  },
  {
   "cell_type": "code",
   "execution_count": 6,
   "id": "52e33b7e",
   "metadata": {},
   "outputs": [
    {
     "data": {
      "text/plain": [
       "array([[ 2,  3, -1],\n",
       "       [ 1, -1,  2],\n",
       "       [ 3,  2,  1]])"
      ]
     },
     "execution_count": 6,
     "metadata": {},
     "output_type": "execute_result"
    }
   ],
   "source": [
    "a = np.array([[2,3,-1],[1,-1,2],[3,2,1]])\n",
    "a"
   ]
  },
  {
   "cell_type": "code",
   "execution_count": 7,
   "id": "5baec02c",
   "metadata": {},
   "outputs": [
    {
     "data": {
      "text/plain": [
       "array([10,  5, 12])"
      ]
     },
     "execution_count": 7,
     "metadata": {},
     "output_type": "execute_result"
    }
   ],
   "source": [
    "b = np.array([10,5,12])\n",
    "b"
   ]
  },
  {
   "cell_type": "code",
   "execution_count": 8,
   "id": "02add672",
   "metadata": {},
   "outputs": [
    {
     "data": {
      "text/plain": [
       "array([-6.75539944e+15,  6.75539944e+15,  6.75539944e+15])"
      ]
     },
     "execution_count": 8,
     "metadata": {},
     "output_type": "execute_result"
    }
   ],
   "source": [
    "np.linalg.solve(a,b)"
   ]
  },
  {
   "cell_type": "code",
   "execution_count": null,
   "id": "7e6b56cc",
   "metadata": {},
   "outputs": [],
   "source": []
  },
  {
   "cell_type": "raw",
   "id": "c682e8c1",
   "metadata": {},
   "source": [
    "2x + y - z + 3w = 8\n",
    "\n",
    "3x - 2y + 2z + 2w = 1\n",
    "\n",
    "x + 3y - 2z + w = 7\n",
    "\n",
    "4x - y + z - 2w = 3"
   ]
  },
  {
   "cell_type": "code",
   "execution_count": 11,
   "id": "13dfb9ba",
   "metadata": {},
   "outputs": [
    {
     "data": {
      "text/plain": [
       "array([[ 2,  1, -1,  3],\n",
       "       [ 3, -2,  2,  2],\n",
       "       [ 1,  3, -2,  1],\n",
       "       [ 4, -1,  1, -2]])"
      ]
     },
     "execution_count": 11,
     "metadata": {},
     "output_type": "execute_result"
    }
   ],
   "source": [
    "a1 = np.array([[2,1,-1,3],[3,-2,2,2],[1,3,-2,1],[4,-1,1,-2]])\n",
    "a1"
   ]
  },
  {
   "cell_type": "code",
   "execution_count": 14,
   "id": "d86739f4",
   "metadata": {},
   "outputs": [
    {
     "data": {
      "text/plain": [
       "array([8, 1, 7, 3])"
      ]
     },
     "execution_count": 14,
     "metadata": {},
     "output_type": "execute_result"
    }
   ],
   "source": [
    "b1 = np.array([8,1,7,3])\n",
    "b1"
   ]
  },
  {
   "cell_type": "code",
   "execution_count": 15,
   "id": "98ecd6a9",
   "metadata": {},
   "outputs": [
    {
     "data": {
      "text/plain": [
       "array([ 1.73170732, -0.75609756, -3.46341463,  0.6097561 ])"
      ]
     },
     "execution_count": 15,
     "metadata": {},
     "output_type": "execute_result"
    }
   ],
   "source": [
    "np.linalg.solve(a1,b1)"
   ]
  },
  {
   "cell_type": "code",
   "execution_count": null,
   "id": "e08bcf7a",
   "metadata": {},
   "outputs": [],
   "source": []
  },
  {
   "cell_type": "raw",
   "id": "50509e89",
   "metadata": {},
   "source": [
    "4x + 2y - 3z = 10\n",
    "\n",
    "-2x + 3y + z = -3\n",
    "\n",
    "x - y + 2z = 4"
   ]
  },
  {
   "cell_type": "code",
   "execution_count": 17,
   "id": "d4f4cc31",
   "metadata": {},
   "outputs": [
    {
     "data": {
      "text/plain": [
       "array([[ 4,  2, -3],\n",
       "       [-2,  3,  1],\n",
       "       [ 1, -1,  2]])"
      ]
     },
     "execution_count": 17,
     "metadata": {},
     "output_type": "execute_result"
    }
   ],
   "source": [
    "a2 = np.array([[4,2,-3],[-2,3,1],[1,-1,2]])\n",
    "a2"
   ]
  },
  {
   "cell_type": "code",
   "execution_count": 18,
   "id": "a1628f58",
   "metadata": {},
   "outputs": [
    {
     "data": {
      "text/plain": [
       "array([10, -3,  4])"
      ]
     },
     "execution_count": 18,
     "metadata": {},
     "output_type": "execute_result"
    }
   ],
   "source": [
    "b2 = np.array([10,-3,4])\n",
    "b2"
   ]
  },
  {
   "cell_type": "code",
   "execution_count": 20,
   "id": "7969f292",
   "metadata": {},
   "outputs": [
    {
     "data": {
      "text/plain": [
       "array([2.85365854, 0.6097561 , 0.87804878])"
      ]
     },
     "execution_count": 20,
     "metadata": {},
     "output_type": "execute_result"
    }
   ],
   "source": [
    "np.linalg.solve(a2,b2)"
   ]
  },
  {
   "cell_type": "code",
   "execution_count": null,
   "id": "7e8f39ce",
   "metadata": {},
   "outputs": [],
   "source": []
  },
  {
   "cell_type": "markdown",
   "id": "512977f0",
   "metadata": {},
   "source": [
    "### Conditional Selection with np.where() "
   ]
  },
  {
   "cell_type": "code",
   "execution_count": null,
   "id": "de6473ea",
   "metadata": {},
   "outputs": [],
   "source": [
    "# Generate a random 1D array A of 10 integers between 1 and 100."
   ]
  },
  {
   "cell_type": "code",
   "execution_count": 73,
   "id": "3cf73237",
   "metadata": {},
   "outputs": [
    {
     "data": {
      "text/plain": [
       "array([25, 55, 30, 11,  5, 12, 76, 61, 66, 95])"
      ]
     },
     "execution_count": 73,
     "metadata": {},
     "output_type": "execute_result"
    }
   ],
   "source": [
    "A = np.random.randint(1,100,10)\n",
    "A"
   ]
  },
  {
   "cell_type": "markdown",
   "id": "b25ac4de",
   "metadata": {},
   "source": [
    "**Use np.where() to find the indices where the elements of A are greater than 50.**"
   ]
  },
  {
   "cell_type": "code",
   "execution_count": 74,
   "id": "2317117d",
   "metadata": {},
   "outputs": [
    {
     "data": {
      "text/plain": [
       "array([55, 76, 61, 66, 95])"
      ]
     },
     "execution_count": 74,
     "metadata": {},
     "output_type": "execute_result"
    }
   ],
   "source": [
    "c = np.array(A[A >50])\n",
    "c"
   ]
  },
  {
   "cell_type": "code",
   "execution_count": 75,
   "id": "e03c0314",
   "metadata": {},
   "outputs": [],
   "source": [
    "#Use np.where() to find the indices where the elements of A are greater than 50."
   ]
  },
  {
   "cell_type": "code",
   "execution_count": 78,
   "id": "e77f13d4",
   "metadata": {},
   "outputs": [
    {
     "data": {
      "text/plain": [
       "(array([1, 6, 7, 8, 9], dtype=int64),)"
      ]
     },
     "execution_count": 78,
     "metadata": {},
     "output_type": "execute_result"
    }
   ],
   "source": [
    "a1 = np.where(A>50)\n",
    "a1"
   ]
  },
  {
   "cell_type": "code",
   "execution_count": null,
   "id": "2d1bca33",
   "metadata": {},
   "outputs": [],
   "source": [
    "#Create a new array B that contains elements from A where the condition is met."
   ]
  },
  {
   "cell_type": "code",
   "execution_count": 83,
   "id": "b136c99c",
   "metadata": {},
   "outputs": [
    {
     "data": {
      "text/plain": [
       "array([55, 76, 61, 66, 95])"
      ]
     },
     "execution_count": 83,
     "metadata": {},
     "output_type": "execute_result"
    }
   ],
   "source": [
    "B = np.array(A[A>50]) \n",
    "B"
   ]
  },
  {
   "cell_type": "code",
   "execution_count": null,
   "id": "6cbab935",
   "metadata": {},
   "outputs": [],
   "source": [
    "#Calculate the mean of array B and print it along with arrays A and B."
   ]
  },
  {
   "cell_type": "code",
   "execution_count": 89,
   "id": "f3c8fa9b",
   "metadata": {},
   "outputs": [
    {
     "name": "stdout",
     "output_type": "stream",
     "text": [
      "70.6\n",
      "[25 55 30 11  5 12 76 61 66 95]\n",
      "[55 76 61 66 95]\n"
     ]
    }
   ],
   "source": [
    "np.mean(B)    #mean of B"
   ]
  },
  {
   "cell_type": "code",
   "execution_count": null,
   "id": "21fc46ea",
   "metadata": {},
   "outputs": [],
   "source": []
  },
  {
   "cell_type": "markdown",
   "id": "289513b9",
   "metadata": {},
   "source": [
    "### Replace Values with np.where()¶"
   ]
  },
  {
   "cell_type": "code",
   "execution_count": null,
   "id": "d0a014e1",
   "metadata": {},
   "outputs": [],
   "source": [
    "# Create a 4x4 random integer matrix C with values between -10 and 10."
   ]
  },
  {
   "cell_type": "code",
   "execution_count": 93,
   "id": "0f4cc955",
   "metadata": {},
   "outputs": [
    {
     "data": {
      "text/plain": [
       "array([[  6,   8,  -3,  -5],\n",
       "       [ -7,  -1,  -2,  -6],\n",
       "       [ -4,   6,   1, -10],\n",
       "       [ -7,   0,  -7,   2]])"
      ]
     },
     "execution_count": 93,
     "metadata": {},
     "output_type": "execute_result"
    }
   ],
   "source": [
    "C = np.random.randint(-10,10,16).reshape(4,4)\n",
    "C"
   ]
  },
  {
   "cell_type": "code",
   "execution_count": null,
   "id": "3e3ff7cd",
   "metadata": {},
   "outputs": [],
   "source": []
  },
  {
   "cell_type": "code",
   "execution_count": null,
   "id": "39d049d6",
   "metadata": {},
   "outputs": [],
   "source": [
    "#Use np.where() to replace all negative values in matrix C with 0."
   ]
  },
  {
   "cell_type": "code",
   "execution_count": 94,
   "id": "43d8f33b",
   "metadata": {},
   "outputs": [
    {
     "data": {
      "text/plain": [
       "array([[6, 8, 0, 0],\n",
       "       [0, 0, 0, 0],\n",
       "       [0, 6, 1, 0],\n",
       "       [0, 0, 0, 2]])"
      ]
     },
     "execution_count": 94,
     "metadata": {},
     "output_type": "execute_result"
    }
   ],
   "source": [
    "D = np.where(C < 0 , 0,C)\n",
    "D"
   ]
  },
  {
   "cell_type": "code",
   "execution_count": null,
   "id": "ff1b8aa6",
   "metadata": {},
   "outputs": [],
   "source": [
    "#Print the original matrix C and the modified matrix."
   ]
  },
  {
   "cell_type": "code",
   "execution_count": 97,
   "id": "040649a1",
   "metadata": {},
   "outputs": [
    {
     "name": "stdout",
     "output_type": "stream",
     "text": [
      "[[  6   8  -3  -5]\n",
      " [ -7  -1  -2  -6]\n",
      " [ -4   6   1 -10]\n",
      " [ -7   0  -7   2]]\n",
      "[[6 8 0 0]\n",
      " [0 0 0 0]\n",
      " [0 6 1 0]\n",
      " [0 0 0 2]]\n"
     ]
    }
   ],
   "source": [
    "print(C)\n",
    "print(D)"
   ]
  },
  {
   "cell_type": "code",
   "execution_count": null,
   "id": "8b72819f",
   "metadata": {},
   "outputs": [],
   "source": []
  },
  {
   "cell_type": "code",
   "execution_count": null,
   "id": "4ca3f4ea",
   "metadata": {},
   "outputs": [],
   "source": []
  }
 ],
 "metadata": {
  "kernelspec": {
   "display_name": "Python 3 (ipykernel)",
   "language": "python",
   "name": "python3"
  },
  "language_info": {
   "codemirror_mode": {
    "name": "ipython",
    "version": 3
   },
   "file_extension": ".py",
   "mimetype": "text/x-python",
   "name": "python",
   "nbconvert_exporter": "python",
   "pygments_lexer": "ipython3",
   "version": "3.11.4"
  }
 },
 "nbformat": 4,
 "nbformat_minor": 5
}
