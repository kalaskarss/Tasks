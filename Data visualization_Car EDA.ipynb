{
 "cells": [
  {
   "cell_type": "markdown",
   "id": "6654c863",
   "metadata": {},
   "source": [
    "### car_EDA"
   ]
  },
  {
   "cell_type": "markdown",
   "id": "6194eb63",
   "metadata": {},
   "source": [
    "#### importing the libraries"
   ]
  },
  {
   "cell_type": "code",
   "execution_count": 1,
   "id": "a1c582ad",
   "metadata": {},
   "outputs": [],
   "source": [
    "import numpy as np\n",
    "import pandas as pd\n",
    "import matplotlib.pyplot as plt\n",
    "import seaborn as sns"
   ]
  },
  {
   "cell_type": "code",
   "execution_count": 2,
   "id": "1ac9f02e",
   "metadata": {},
   "outputs": [
    {
     "name": "stdout",
     "output_type": "stream",
     "text": [
      "Requirement already satisfied: seaborn in c:\\users\\lenovo\\anaconda3\\envs\\data\\lib\\site-packages (0.13.0)\n",
      "Requirement already satisfied: numpy!=1.24.0,>=1.20 in c:\\users\\lenovo\\anaconda3\\envs\\data\\lib\\site-packages (from seaborn) (1.26.0)\n",
      "Requirement already satisfied: pandas>=1.2 in c:\\users\\lenovo\\anaconda3\\envs\\data\\lib\\site-packages (from seaborn) (2.1.1)\n",
      "Requirement already satisfied: matplotlib!=3.6.1,>=3.3 in c:\\users\\lenovo\\anaconda3\\envs\\data\\lib\\site-packages (from seaborn) (3.8.0)\n",
      "Requirement already satisfied: contourpy>=1.0.1 in c:\\users\\lenovo\\anaconda3\\envs\\data\\lib\\site-packages (from matplotlib!=3.6.1,>=3.3->seaborn) (1.1.1)\n",
      "Requirement already satisfied: cycler>=0.10 in c:\\users\\lenovo\\anaconda3\\envs\\data\\lib\\site-packages (from matplotlib!=3.6.1,>=3.3->seaborn) (0.12.1)\n",
      "Requirement already satisfied: fonttools>=4.22.0 in c:\\users\\lenovo\\anaconda3\\envs\\data\\lib\\site-packages (from matplotlib!=3.6.1,>=3.3->seaborn) (4.43.1)\n",
      "Requirement already satisfied: kiwisolver>=1.0.1 in c:\\users\\lenovo\\anaconda3\\envs\\data\\lib\\site-packages (from matplotlib!=3.6.1,>=3.3->seaborn) (1.4.5)\n",
      "Requirement already satisfied: packaging>=20.0 in c:\\users\\lenovo\\anaconda3\\envs\\data\\lib\\site-packages (from matplotlib!=3.6.1,>=3.3->seaborn) (23.0)\n",
      "Requirement already satisfied: pillow>=6.2.0 in c:\\users\\lenovo\\anaconda3\\envs\\data\\lib\\site-packages (from matplotlib!=3.6.1,>=3.3->seaborn) (10.1.0)\n",
      "Requirement already satisfied: pyparsing>=2.3.1 in c:\\users\\lenovo\\anaconda3\\envs\\data\\lib\\site-packages (from matplotlib!=3.6.1,>=3.3->seaborn) (3.1.1)\n",
      "Requirement already satisfied: python-dateutil>=2.7 in c:\\users\\lenovo\\anaconda3\\envs\\data\\lib\\site-packages (from matplotlib!=3.6.1,>=3.3->seaborn) (2.8.2)\n",
      "Requirement already satisfied: pytz>=2020.1 in c:\\users\\lenovo\\anaconda3\\envs\\data\\lib\\site-packages (from pandas>=1.2->seaborn) (2023.3.post1)\n",
      "Requirement already satisfied: tzdata>=2022.1 in c:\\users\\lenovo\\anaconda3\\envs\\data\\lib\\site-packages (from pandas>=1.2->seaborn) (2023.3)\n",
      "Requirement already satisfied: six>=1.5 in c:\\users\\lenovo\\anaconda3\\envs\\data\\lib\\site-packages (from python-dateutil>=2.7->matplotlib!=3.6.1,>=3.3->seaborn) (1.16.0)\n"
     ]
    }
   ],
   "source": [
    "\n",
    "!pip install seaborn "
   ]
  },
  {
   "cell_type": "markdown",
   "id": "b749aa14",
   "metadata": {},
   "source": [
    "#### importing dataset"
   ]
  },
  {
   "cell_type": "code",
   "execution_count": 3,
   "id": "02db211a",
   "metadata": {},
   "outputs": [],
   "source": [
    "df = pd.read_csv(r\"C:\\Users\\LENOVO\\Downloads\\car_df_EDA (1).csv\")"
   ]
  },
  {
   "cell_type": "code",
   "execution_count": 4,
   "id": "91944aa9",
   "metadata": {},
   "outputs": [
    {
     "data": {
      "text/html": [
       "<div>\n",
       "<style scoped>\n",
       "    .dataframe tbody tr th:only-of-type {\n",
       "        vertical-align: middle;\n",
       "    }\n",
       "\n",
       "    .dataframe tbody tr th {\n",
       "        vertical-align: top;\n",
       "    }\n",
       "\n",
       "    .dataframe thead th {\n",
       "        text-align: right;\n",
       "    }\n",
       "</style>\n",
       "<table border=\"1\" class=\"dataframe\">\n",
       "  <thead>\n",
       "    <tr style=\"text-align: right;\">\n",
       "      <th></th>\n",
       "      <th>Unnamed: 0.1</th>\n",
       "      <th>Unnamed: 0</th>\n",
       "      <th>make</th>\n",
       "      <th>fuel_type</th>\n",
       "      <th>aspiration</th>\n",
       "      <th>num_of_doors</th>\n",
       "      <th>body_style</th>\n",
       "      <th>drive_wheels</th>\n",
       "      <th>engine_location</th>\n",
       "      <th>wheel_base</th>\n",
       "      <th>...</th>\n",
       "      <th>engine_type</th>\n",
       "      <th>num_of_cylinders</th>\n",
       "      <th>engine_size</th>\n",
       "      <th>fuel_system</th>\n",
       "      <th>compression_ratio</th>\n",
       "      <th>horsepower</th>\n",
       "      <th>peak_rpm</th>\n",
       "      <th>city_mpg</th>\n",
       "      <th>highway_mpg</th>\n",
       "      <th>price</th>\n",
       "    </tr>\n",
       "  </thead>\n",
       "  <tbody>\n",
       "    <tr>\n",
       "      <th>203</th>\n",
       "      <td>203</td>\n",
       "      <td>204</td>\n",
       "      <td>volvo</td>\n",
       "      <td>diesel</td>\n",
       "      <td>turbo</td>\n",
       "      <td>four</td>\n",
       "      <td>sedan</td>\n",
       "      <td>rwd</td>\n",
       "      <td>front</td>\n",
       "      <td>109.1</td>\n",
       "      <td>...</td>\n",
       "      <td>ohc</td>\n",
       "      <td>six</td>\n",
       "      <td>145.0</td>\n",
       "      <td>idi</td>\n",
       "      <td>23.0</td>\n",
       "      <td>106</td>\n",
       "      <td>4800</td>\n",
       "      <td>26</td>\n",
       "      <td>27</td>\n",
       "      <td>NaN</td>\n",
       "    </tr>\n",
       "    <tr>\n",
       "      <th>204</th>\n",
       "      <td>204</td>\n",
       "      <td>205</td>\n",
       "      <td>volvo</td>\n",
       "      <td>gas</td>\n",
       "      <td>turbo</td>\n",
       "      <td>four</td>\n",
       "      <td>sedan</td>\n",
       "      <td>rwd</td>\n",
       "      <td>front</td>\n",
       "      <td>109.1</td>\n",
       "      <td>...</td>\n",
       "      <td>ohc</td>\n",
       "      <td>four</td>\n",
       "      <td>141.0</td>\n",
       "      <td>mpfi</td>\n",
       "      <td>9.5</td>\n",
       "      <td>114</td>\n",
       "      <td>5400</td>\n",
       "      <td>19</td>\n",
       "      <td>25</td>\n",
       "      <td>22625</td>\n",
       "    </tr>\n",
       "    <tr>\n",
       "      <th>205</th>\n",
       "      <td>202</td>\n",
       "      <td>203</td>\n",
       "      <td>volvo</td>\n",
       "      <td>gas</td>\n",
       "      <td>std</td>\n",
       "      <td>four</td>\n",
       "      <td>sedan</td>\n",
       "      <td>rwd</td>\n",
       "      <td>front</td>\n",
       "      <td>109.1</td>\n",
       "      <td>...</td>\n",
       "      <td>ohcv</td>\n",
       "      <td>six</td>\n",
       "      <td>173.0</td>\n",
       "      <td>mpfi</td>\n",
       "      <td>8.8</td>\n",
       "      <td>134</td>\n",
       "      <td>5500</td>\n",
       "      <td>18</td>\n",
       "      <td>23</td>\n",
       "      <td>21485</td>\n",
       "    </tr>\n",
       "    <tr>\n",
       "      <th>206</th>\n",
       "      <td>203</td>\n",
       "      <td>204</td>\n",
       "      <td>volvo</td>\n",
       "      <td>diesel</td>\n",
       "      <td>turbo</td>\n",
       "      <td>four</td>\n",
       "      <td>sedan</td>\n",
       "      <td>rwd</td>\n",
       "      <td>front</td>\n",
       "      <td>109.1</td>\n",
       "      <td>...</td>\n",
       "      <td>ohc</td>\n",
       "      <td>six</td>\n",
       "      <td>145.0</td>\n",
       "      <td>idi</td>\n",
       "      <td>23.0</td>\n",
       "      <td>106</td>\n",
       "      <td>4800</td>\n",
       "      <td>26</td>\n",
       "      <td>27</td>\n",
       "      <td>NaN</td>\n",
       "    </tr>\n",
       "    <tr>\n",
       "      <th>207</th>\n",
       "      <td>204</td>\n",
       "      <td>205</td>\n",
       "      <td>volvo</td>\n",
       "      <td>gas</td>\n",
       "      <td>turbo</td>\n",
       "      <td>four</td>\n",
       "      <td>sedan</td>\n",
       "      <td>rwd</td>\n",
       "      <td>front</td>\n",
       "      <td>109.1</td>\n",
       "      <td>...</td>\n",
       "      <td>ohc</td>\n",
       "      <td>four</td>\n",
       "      <td>141.0</td>\n",
       "      <td>mpfi</td>\n",
       "      <td>9.5</td>\n",
       "      <td>114</td>\n",
       "      <td>5400</td>\n",
       "      <td>19</td>\n",
       "      <td>25</td>\n",
       "      <td>22625</td>\n",
       "    </tr>\n",
       "  </tbody>\n",
       "</table>\n",
       "<p>5 rows × 24 columns</p>\n",
       "</div>"
      ],
      "text/plain": [
       "     Unnamed: 0.1  Unnamed: 0   make fuel_type aspiration num_of_doors  \\\n",
       "203           203         204  volvo    diesel      turbo         four   \n",
       "204           204         205  volvo       gas      turbo         four   \n",
       "205           202         203  volvo       gas        std         four   \n",
       "206           203         204  volvo    diesel      turbo         four   \n",
       "207           204         205  volvo       gas      turbo         four   \n",
       "\n",
       "    body_style drive_wheels engine_location  wheel_base  ...  engine_type  \\\n",
       "203      sedan          rwd           front       109.1  ...          ohc   \n",
       "204      sedan          rwd           front       109.1  ...          ohc   \n",
       "205      sedan          rwd           front       109.1  ...         ohcv   \n",
       "206      sedan          rwd           front       109.1  ...          ohc   \n",
       "207      sedan          rwd           front       109.1  ...          ohc   \n",
       "\n",
       "     num_of_cylinders  engine_size  fuel_system compression_ratio horsepower  \\\n",
       "203               six        145.0          idi              23.0        106   \n",
       "204              four        141.0         mpfi               9.5        114   \n",
       "205               six        173.0         mpfi               8.8        134   \n",
       "206               six        145.0          idi              23.0        106   \n",
       "207              four        141.0         mpfi               9.5        114   \n",
       "\n",
       "     peak_rpm city_mpg  highway_mpg  price  \n",
       "203      4800       26           27    NaN  \n",
       "204      5400       19           25  22625  \n",
       "205      5500       18           23  21485  \n",
       "206      4800       26           27    NaN  \n",
       "207      5400       19           25  22625  \n",
       "\n",
       "[5 rows x 24 columns]"
      ]
     },
     "execution_count": 4,
     "metadata": {},
     "output_type": "execute_result"
    }
   ],
   "source": [
    "df.tail()"
   ]
  },
  {
   "cell_type": "code",
   "execution_count": 5,
   "id": "70661ae5",
   "metadata": {},
   "outputs": [
    {
     "data": {
      "text/html": [
       "<div>\n",
       "<style scoped>\n",
       "    .dataframe tbody tr th:only-of-type {\n",
       "        vertical-align: middle;\n",
       "    }\n",
       "\n",
       "    .dataframe tbody tr th {\n",
       "        vertical-align: top;\n",
       "    }\n",
       "\n",
       "    .dataframe thead th {\n",
       "        text-align: right;\n",
       "    }\n",
       "</style>\n",
       "<table border=\"1\" class=\"dataframe\">\n",
       "  <thead>\n",
       "    <tr style=\"text-align: right;\">\n",
       "      <th></th>\n",
       "      <th>Unnamed: 0.1</th>\n",
       "      <th>Unnamed: 0</th>\n",
       "      <th>make</th>\n",
       "      <th>fuel_type</th>\n",
       "      <th>aspiration</th>\n",
       "      <th>num_of_doors</th>\n",
       "      <th>body_style</th>\n",
       "      <th>drive_wheels</th>\n",
       "      <th>engine_location</th>\n",
       "      <th>wheel_base</th>\n",
       "      <th>...</th>\n",
       "      <th>engine_type</th>\n",
       "      <th>num_of_cylinders</th>\n",
       "      <th>engine_size</th>\n",
       "      <th>fuel_system</th>\n",
       "      <th>compression_ratio</th>\n",
       "      <th>horsepower</th>\n",
       "      <th>peak_rpm</th>\n",
       "      <th>city_mpg</th>\n",
       "      <th>highway_mpg</th>\n",
       "      <th>price</th>\n",
       "    </tr>\n",
       "  </thead>\n",
       "  <tbody>\n",
       "    <tr>\n",
       "      <th>0</th>\n",
       "      <td>0</td>\n",
       "      <td>1</td>\n",
       "      <td>alfa-romero</td>\n",
       "      <td>gas</td>\n",
       "      <td>std</td>\n",
       "      <td>two</td>\n",
       "      <td>convertible</td>\n",
       "      <td>rwd</td>\n",
       "      <td>front</td>\n",
       "      <td>88.6</td>\n",
       "      <td>...</td>\n",
       "      <td>dohc</td>\n",
       "      <td>four</td>\n",
       "      <td>130.0</td>\n",
       "      <td>mpfi</td>\n",
       "      <td>9.0</td>\n",
       "      <td>111</td>\n",
       "      <td>5000</td>\n",
       "      <td>21</td>\n",
       "      <td>27</td>\n",
       "      <td>13495</td>\n",
       "    </tr>\n",
       "    <tr>\n",
       "      <th>1</th>\n",
       "      <td>1</td>\n",
       "      <td>2</td>\n",
       "      <td>alfa-romero</td>\n",
       "      <td>gas</td>\n",
       "      <td>std</td>\n",
       "      <td>two</td>\n",
       "      <td>convertible</td>\n",
       "      <td>rwd</td>\n",
       "      <td>front</td>\n",
       "      <td>88.6</td>\n",
       "      <td>...</td>\n",
       "      <td>dohc</td>\n",
       "      <td>four</td>\n",
       "      <td>130.0</td>\n",
       "      <td>mpfi</td>\n",
       "      <td>9.0</td>\n",
       "      <td>111</td>\n",
       "      <td>5000</td>\n",
       "      <td>21</td>\n",
       "      <td>27</td>\n",
       "      <td>16500</td>\n",
       "    </tr>\n",
       "    <tr>\n",
       "      <th>2</th>\n",
       "      <td>2</td>\n",
       "      <td>3</td>\n",
       "      <td>alfa-romero</td>\n",
       "      <td>gas</td>\n",
       "      <td>std</td>\n",
       "      <td>two</td>\n",
       "      <td>hatchback</td>\n",
       "      <td>rwd</td>\n",
       "      <td>front</td>\n",
       "      <td>94.5</td>\n",
       "      <td>...</td>\n",
       "      <td>ohcv</td>\n",
       "      <td>six</td>\n",
       "      <td>152.0</td>\n",
       "      <td>mpfi</td>\n",
       "      <td>9.0</td>\n",
       "      <td>154</td>\n",
       "      <td>5000</td>\n",
       "      <td>19</td>\n",
       "      <td>26</td>\n",
       "      <td>16500</td>\n",
       "    </tr>\n",
       "    <tr>\n",
       "      <th>3</th>\n",
       "      <td>3</td>\n",
       "      <td>4</td>\n",
       "      <td>audi</td>\n",
       "      <td>gas</td>\n",
       "      <td>std</td>\n",
       "      <td>four</td>\n",
       "      <td>sedan</td>\n",
       "      <td>fwd</td>\n",
       "      <td>front</td>\n",
       "      <td>99.8</td>\n",
       "      <td>...</td>\n",
       "      <td>ohc</td>\n",
       "      <td>four</td>\n",
       "      <td>109.0</td>\n",
       "      <td>mpfi</td>\n",
       "      <td>10.0</td>\n",
       "      <td>102</td>\n",
       "      <td>5500</td>\n",
       "      <td>24</td>\n",
       "      <td>30</td>\n",
       "      <td>13950</td>\n",
       "    </tr>\n",
       "    <tr>\n",
       "      <th>4</th>\n",
       "      <td>4</td>\n",
       "      <td>5</td>\n",
       "      <td>audi</td>\n",
       "      <td>gas</td>\n",
       "      <td>std</td>\n",
       "      <td>four</td>\n",
       "      <td>sedan</td>\n",
       "      <td>4wd</td>\n",
       "      <td>front</td>\n",
       "      <td>99.4</td>\n",
       "      <td>...</td>\n",
       "      <td>ohc</td>\n",
       "      <td>five</td>\n",
       "      <td>136.0</td>\n",
       "      <td>mpfi</td>\n",
       "      <td>8.0</td>\n",
       "      <td>115</td>\n",
       "      <td>5500</td>\n",
       "      <td>18</td>\n",
       "      <td>22</td>\n",
       "      <td>17450</td>\n",
       "    </tr>\n",
       "  </tbody>\n",
       "</table>\n",
       "<p>5 rows × 24 columns</p>\n",
       "</div>"
      ],
      "text/plain": [
       "   Unnamed: 0.1  Unnamed: 0         make fuel_type aspiration num_of_doors  \\\n",
       "0             0           1  alfa-romero       gas        std          two   \n",
       "1             1           2  alfa-romero       gas        std          two   \n",
       "2             2           3  alfa-romero       gas        std          two   \n",
       "3             3           4         audi       gas        std         four   \n",
       "4             4           5         audi       gas        std         four   \n",
       "\n",
       "    body_style drive_wheels engine_location  wheel_base  ...  engine_type  \\\n",
       "0  convertible          rwd           front        88.6  ...         dohc   \n",
       "1  convertible          rwd           front        88.6  ...         dohc   \n",
       "2    hatchback          rwd           front        94.5  ...         ohcv   \n",
       "3        sedan          fwd           front        99.8  ...          ohc   \n",
       "4        sedan          4wd           front        99.4  ...          ohc   \n",
       "\n",
       "   num_of_cylinders  engine_size  fuel_system compression_ratio horsepower  \\\n",
       "0              four        130.0         mpfi               9.0        111   \n",
       "1              four        130.0         mpfi               9.0        111   \n",
       "2               six        152.0         mpfi               9.0        154   \n",
       "3              four        109.0         mpfi              10.0        102   \n",
       "4              five        136.0         mpfi               8.0        115   \n",
       "\n",
       "   peak_rpm city_mpg  highway_mpg  price  \n",
       "0      5000       21           27  13495  \n",
       "1      5000       21           27  16500  \n",
       "2      5000       19           26  16500  \n",
       "3      5500       24           30  13950  \n",
       "4      5500       18           22  17450  \n",
       "\n",
       "[5 rows x 24 columns]"
      ]
     },
     "execution_count": 5,
     "metadata": {},
     "output_type": "execute_result"
    }
   ],
   "source": [
    "df.head() #first five rows of columns"
   ]
  },
  {
   "cell_type": "code",
   "execution_count": 6,
   "id": "2c1edc66",
   "metadata": {},
   "outputs": [
    {
     "name": "stdout",
     "output_type": "stream",
     "text": [
      "<class 'pandas.core.frame.DataFrame'>\n",
      "RangeIndex: 208 entries, 0 to 207\n",
      "Data columns (total 24 columns):\n",
      " #   Column             Non-Null Count  Dtype  \n",
      "---  ------             --------------  -----  \n",
      " 0   Unnamed: 0.1       208 non-null    int64  \n",
      " 1   Unnamed: 0         208 non-null    int64  \n",
      " 2   make               208 non-null    object \n",
      " 3   fuel_type          208 non-null    object \n",
      " 4   aspiration         208 non-null    object \n",
      " 5   num_of_doors       208 non-null    object \n",
      " 6   body_style         208 non-null    object \n",
      " 7   drive_wheels       208 non-null    object \n",
      " 8   engine_location    208 non-null    object \n",
      " 9   wheel_base         206 non-null    float64\n",
      " 10  length             208 non-null    float64\n",
      " 11  width              208 non-null    float64\n",
      " 12  height             208 non-null    float64\n",
      " 13  curb_weight        208 non-null    int64  \n",
      " 14  engine_type        207 non-null    object \n",
      " 15  num_of_cylinders   208 non-null    object \n",
      " 16  engine_size        206 non-null    float64\n",
      " 17  fuel_system        208 non-null    object \n",
      " 18  compression_ratio  208 non-null    float64\n",
      " 19  horsepower         208 non-null    object \n",
      " 20  peak_rpm           208 non-null    object \n",
      " 21  city_mpg           208 non-null    int64  \n",
      " 22  highway_mpg        208 non-null    int64  \n",
      " 23  price              204 non-null    object \n",
      "dtypes: float64(6), int64(5), object(13)\n",
      "memory usage: 39.1+ KB\n"
     ]
    }
   ],
   "source": [
    "df.info()     #information"
   ]
  },
  {
   "cell_type": "code",
   "execution_count": 7,
   "id": "4a11cf5b",
   "metadata": {},
   "outputs": [
    {
     "data": {
      "text/html": [
       "<div>\n",
       "<style scoped>\n",
       "    .dataframe tbody tr th:only-of-type {\n",
       "        vertical-align: middle;\n",
       "    }\n",
       "\n",
       "    .dataframe tbody tr th {\n",
       "        vertical-align: top;\n",
       "    }\n",
       "\n",
       "    .dataframe thead th {\n",
       "        text-align: right;\n",
       "    }\n",
       "</style>\n",
       "<table border=\"1\" class=\"dataframe\">\n",
       "  <thead>\n",
       "    <tr style=\"text-align: right;\">\n",
       "      <th></th>\n",
       "      <th>Unnamed: 0.1</th>\n",
       "      <th>Unnamed: 0</th>\n",
       "      <th>wheel_base</th>\n",
       "      <th>length</th>\n",
       "      <th>width</th>\n",
       "      <th>height</th>\n",
       "      <th>curb_weight</th>\n",
       "      <th>engine_size</th>\n",
       "      <th>compression_ratio</th>\n",
       "      <th>city_mpg</th>\n",
       "      <th>highway_mpg</th>\n",
       "    </tr>\n",
       "  </thead>\n",
       "  <tbody>\n",
       "    <tr>\n",
       "      <th>count</th>\n",
       "      <td>208.000000</td>\n",
       "      <td>208.000000</td>\n",
       "      <td>206.000000</td>\n",
       "      <td>208.000000</td>\n",
       "      <td>208.000000</td>\n",
       "      <td>208.000000</td>\n",
       "      <td>208.000000</td>\n",
       "      <td>206.000000</td>\n",
       "      <td>208.000000</td>\n",
       "      <td>208.000000</td>\n",
       "      <td>208.000000</td>\n",
       "    </tr>\n",
       "    <tr>\n",
       "      <th>mean</th>\n",
       "      <td>103.456731</td>\n",
       "      <td>104.456731</td>\n",
       "      <td>98.919903</td>\n",
       "      <td>174.262019</td>\n",
       "      <td>65.950962</td>\n",
       "      <td>53.750481</td>\n",
       "      <td>2563.375000</td>\n",
       "      <td>127.543689</td>\n",
       "      <td>10.194808</td>\n",
       "      <td>25.158654</td>\n",
       "      <td>30.668269</td>\n",
       "    </tr>\n",
       "    <tr>\n",
       "      <th>std</th>\n",
       "      <td>60.115573</td>\n",
       "      <td>60.115573</td>\n",
       "      <td>6.121266</td>\n",
       "      <td>12.373790</td>\n",
       "      <td>2.159419</td>\n",
       "      <td>2.435010</td>\n",
       "      <td>521.034018</td>\n",
       "      <td>41.599197</td>\n",
       "      <td>4.044135</td>\n",
       "      <td>6.528187</td>\n",
       "      <td>6.873639</td>\n",
       "    </tr>\n",
       "    <tr>\n",
       "      <th>min</th>\n",
       "      <td>0.000000</td>\n",
       "      <td>1.000000</td>\n",
       "      <td>86.600000</td>\n",
       "      <td>141.100000</td>\n",
       "      <td>60.300000</td>\n",
       "      <td>47.800000</td>\n",
       "      <td>1488.000000</td>\n",
       "      <td>61.000000</td>\n",
       "      <td>7.000000</td>\n",
       "      <td>13.000000</td>\n",
       "      <td>16.000000</td>\n",
       "    </tr>\n",
       "    <tr>\n",
       "      <th>25%</th>\n",
       "      <td>51.750000</td>\n",
       "      <td>52.750000</td>\n",
       "      <td>94.500000</td>\n",
       "      <td>166.675000</td>\n",
       "      <td>64.100000</td>\n",
       "      <td>52.000000</td>\n",
       "      <td>2163.000000</td>\n",
       "      <td>98.000000</td>\n",
       "      <td>8.600000</td>\n",
       "      <td>19.000000</td>\n",
       "      <td>25.000000</td>\n",
       "    </tr>\n",
       "    <tr>\n",
       "      <th>50%</th>\n",
       "      <td>103.500000</td>\n",
       "      <td>104.500000</td>\n",
       "      <td>97.000000</td>\n",
       "      <td>173.200000</td>\n",
       "      <td>65.500000</td>\n",
       "      <td>54.100000</td>\n",
       "      <td>2422.500000</td>\n",
       "      <td>120.000000</td>\n",
       "      <td>9.000000</td>\n",
       "      <td>24.000000</td>\n",
       "      <td>30.000000</td>\n",
       "    </tr>\n",
       "    <tr>\n",
       "      <th>75%</th>\n",
       "      <td>155.250000</td>\n",
       "      <td>156.250000</td>\n",
       "      <td>102.400000</td>\n",
       "      <td>183.775000</td>\n",
       "      <td>66.900000</td>\n",
       "      <td>55.500000</td>\n",
       "      <td>2959.250000</td>\n",
       "      <td>145.000000</td>\n",
       "      <td>9.400000</td>\n",
       "      <td>30.000000</td>\n",
       "      <td>34.000000</td>\n",
       "    </tr>\n",
       "    <tr>\n",
       "      <th>max</th>\n",
       "      <td>204.000000</td>\n",
       "      <td>205.000000</td>\n",
       "      <td>120.900000</td>\n",
       "      <td>208.100000</td>\n",
       "      <td>72.300000</td>\n",
       "      <td>59.800000</td>\n",
       "      <td>4066.000000</td>\n",
       "      <td>326.000000</td>\n",
       "      <td>23.000000</td>\n",
       "      <td>49.000000</td>\n",
       "      <td>54.000000</td>\n",
       "    </tr>\n",
       "  </tbody>\n",
       "</table>\n",
       "</div>"
      ],
      "text/plain": [
       "       Unnamed: 0.1  Unnamed: 0  wheel_base      length       width  \\\n",
       "count    208.000000  208.000000  206.000000  208.000000  208.000000   \n",
       "mean     103.456731  104.456731   98.919903  174.262019   65.950962   \n",
       "std       60.115573   60.115573    6.121266   12.373790    2.159419   \n",
       "min        0.000000    1.000000   86.600000  141.100000   60.300000   \n",
       "25%       51.750000   52.750000   94.500000  166.675000   64.100000   \n",
       "50%      103.500000  104.500000   97.000000  173.200000   65.500000   \n",
       "75%      155.250000  156.250000  102.400000  183.775000   66.900000   \n",
       "max      204.000000  205.000000  120.900000  208.100000   72.300000   \n",
       "\n",
       "           height  curb_weight  engine_size  compression_ratio    city_mpg  \\\n",
       "count  208.000000   208.000000   206.000000         208.000000  208.000000   \n",
       "mean    53.750481  2563.375000   127.543689          10.194808   25.158654   \n",
       "std      2.435010   521.034018    41.599197           4.044135    6.528187   \n",
       "min     47.800000  1488.000000    61.000000           7.000000   13.000000   \n",
       "25%     52.000000  2163.000000    98.000000           8.600000   19.000000   \n",
       "50%     54.100000  2422.500000   120.000000           9.000000   24.000000   \n",
       "75%     55.500000  2959.250000   145.000000           9.400000   30.000000   \n",
       "max     59.800000  4066.000000   326.000000          23.000000   49.000000   \n",
       "\n",
       "       highway_mpg  \n",
       "count   208.000000  \n",
       "mean     30.668269  \n",
       "std       6.873639  \n",
       "min      16.000000  \n",
       "25%      25.000000  \n",
       "50%      30.000000  \n",
       "75%      34.000000  \n",
       "max      54.000000  "
      ]
     },
     "execution_count": 7,
     "metadata": {},
     "output_type": "execute_result"
    }
   ],
   "source": [
    "df.describe()   #description of data"
   ]
  },
  {
   "cell_type": "code",
   "execution_count": null,
   "id": "b964ac59",
   "metadata": {},
   "outputs": [],
   "source": []
  },
  {
   "cell_type": "markdown",
   "id": "a1367cf8",
   "metadata": {},
   "source": [
    "### Data cleaning"
   ]
  },
  {
   "cell_type": "markdown",
   "id": "8164fcef",
   "metadata": {},
   "source": [
    "#### Duplicates values"
   ]
  },
  {
   "cell_type": "code",
   "execution_count": 8,
   "id": "74073e0f",
   "metadata": {},
   "outputs": [
    {
     "data": {
      "text/plain": [
       "3"
      ]
     },
     "execution_count": 8,
     "metadata": {},
     "output_type": "execute_result"
    }
   ],
   "source": [
    "df.duplicated().sum()"
   ]
  },
  {
   "cell_type": "code",
   "execution_count": 9,
   "id": "39e33633",
   "metadata": {},
   "outputs": [],
   "source": [
    "df.drop_duplicates(keep = 'first',inplace = True)"
   ]
  },
  {
   "cell_type": "code",
   "execution_count": 10,
   "id": "7a001215",
   "metadata": {},
   "outputs": [
    {
     "data": {
      "text/plain": [
       "0"
      ]
     },
     "execution_count": 10,
     "metadata": {},
     "output_type": "execute_result"
    }
   ],
   "source": [
    "df.duplicated().sum()"
   ]
  },
  {
   "cell_type": "code",
   "execution_count": 11,
   "id": "587a2a71",
   "metadata": {},
   "outputs": [
    {
     "data": {
      "text/plain": [
       "Unnamed: 0.1         0\n",
       "Unnamed: 0           0\n",
       "make                 0\n",
       "fuel_type            0\n",
       "aspiration           0\n",
       "num_of_doors         0\n",
       "body_style           0\n",
       "drive_wheels         0\n",
       "engine_location      0\n",
       "wheel_base           2\n",
       "length               0\n",
       "width                0\n",
       "height               0\n",
       "curb_weight          0\n",
       "engine_type          1\n",
       "num_of_cylinders     0\n",
       "engine_size          2\n",
       "fuel_system          0\n",
       "compression_ratio    0\n",
       "horsepower           0\n",
       "peak_rpm             0\n",
       "city_mpg             0\n",
       "highway_mpg          0\n",
       "price                3\n",
       "dtype: int64"
      ]
     },
     "execution_count": 11,
     "metadata": {},
     "output_type": "execute_result"
    }
   ],
   "source": [
    "df.isna().sum()"
   ]
  },
  {
   "cell_type": "code",
   "execution_count": null,
   "id": "43a9e448",
   "metadata": {},
   "outputs": [],
   "source": []
  },
  {
   "cell_type": "markdown",
   "id": "ca3fc174",
   "metadata": {},
   "source": [
    "#### Structural errors"
   ]
  },
  {
   "cell_type": "code",
   "execution_count": 12,
   "id": "ac04e8a6",
   "metadata": {},
   "outputs": [
    {
     "data": {
      "text/html": [
       "<div>\n",
       "<style scoped>\n",
       "    .dataframe tbody tr th:only-of-type {\n",
       "        vertical-align: middle;\n",
       "    }\n",
       "\n",
       "    .dataframe tbody tr th {\n",
       "        vertical-align: top;\n",
       "    }\n",
       "\n",
       "    .dataframe thead th {\n",
       "        text-align: right;\n",
       "    }\n",
       "</style>\n",
       "<table border=\"1\" class=\"dataframe\">\n",
       "  <thead>\n",
       "    <tr style=\"text-align: right;\">\n",
       "      <th></th>\n",
       "      <th>Unnamed: 0.1</th>\n",
       "      <th>Unnamed: 0</th>\n",
       "      <th>make</th>\n",
       "      <th>fuel_type</th>\n",
       "      <th>aspiration</th>\n",
       "      <th>num_of_doors</th>\n",
       "      <th>body_style</th>\n",
       "      <th>drive_wheels</th>\n",
       "      <th>engine_location</th>\n",
       "      <th>wheel_base</th>\n",
       "      <th>...</th>\n",
       "      <th>engine_type</th>\n",
       "      <th>num_of_cylinders</th>\n",
       "      <th>engine_size</th>\n",
       "      <th>fuel_system</th>\n",
       "      <th>compression_ratio</th>\n",
       "      <th>horsepower</th>\n",
       "      <th>peak_rpm</th>\n",
       "      <th>city_mpg</th>\n",
       "      <th>highway_mpg</th>\n",
       "      <th>price</th>\n",
       "    </tr>\n",
       "  </thead>\n",
       "  <tbody>\n",
       "    <tr>\n",
       "      <th>0</th>\n",
       "      <td>0</td>\n",
       "      <td>1</td>\n",
       "      <td>alfa-romero</td>\n",
       "      <td>gas</td>\n",
       "      <td>std</td>\n",
       "      <td>two</td>\n",
       "      <td>convertible</td>\n",
       "      <td>rwd</td>\n",
       "      <td>front</td>\n",
       "      <td>88.6</td>\n",
       "      <td>...</td>\n",
       "      <td>dohc</td>\n",
       "      <td>four</td>\n",
       "      <td>130.0</td>\n",
       "      <td>mpfi</td>\n",
       "      <td>9.0</td>\n",
       "      <td>111</td>\n",
       "      <td>5000</td>\n",
       "      <td>21</td>\n",
       "      <td>27</td>\n",
       "      <td>13495</td>\n",
       "    </tr>\n",
       "    <tr>\n",
       "      <th>1</th>\n",
       "      <td>1</td>\n",
       "      <td>2</td>\n",
       "      <td>alfa-romero</td>\n",
       "      <td>gas</td>\n",
       "      <td>std</td>\n",
       "      <td>two</td>\n",
       "      <td>convertible</td>\n",
       "      <td>rwd</td>\n",
       "      <td>front</td>\n",
       "      <td>88.6</td>\n",
       "      <td>...</td>\n",
       "      <td>dohc</td>\n",
       "      <td>four</td>\n",
       "      <td>130.0</td>\n",
       "      <td>mpfi</td>\n",
       "      <td>9.0</td>\n",
       "      <td>111</td>\n",
       "      <td>5000</td>\n",
       "      <td>21</td>\n",
       "      <td>27</td>\n",
       "      <td>16500</td>\n",
       "    </tr>\n",
       "  </tbody>\n",
       "</table>\n",
       "<p>2 rows × 24 columns</p>\n",
       "</div>"
      ],
      "text/plain": [
       "   Unnamed: 0.1  Unnamed: 0         make fuel_type aspiration num_of_doors  \\\n",
       "0             0           1  alfa-romero       gas        std          two   \n",
       "1             1           2  alfa-romero       gas        std          two   \n",
       "\n",
       "    body_style drive_wheels engine_location  wheel_base  ...  engine_type  \\\n",
       "0  convertible          rwd           front        88.6  ...         dohc   \n",
       "1  convertible          rwd           front        88.6  ...         dohc   \n",
       "\n",
       "   num_of_cylinders  engine_size  fuel_system compression_ratio horsepower  \\\n",
       "0              four        130.0         mpfi               9.0        111   \n",
       "1              four        130.0         mpfi               9.0        111   \n",
       "\n",
       "   peak_rpm city_mpg  highway_mpg  price  \n",
       "0      5000       21           27  13495  \n",
       "1      5000       21           27  16500  \n",
       "\n",
       "[2 rows x 24 columns]"
      ]
     },
     "execution_count": 12,
     "metadata": {},
     "output_type": "execute_result"
    }
   ],
   "source": [
    "df.head(2)"
   ]
  },
  {
   "cell_type": "code",
   "execution_count": 13,
   "id": "d8e2fdb9",
   "metadata": {},
   "outputs": [],
   "source": [
    "df.drop(['Unnamed: 0.1','Unnamed: 0'],axis = 1,inplace = True)"
   ]
  },
  {
   "cell_type": "code",
   "execution_count": 14,
   "id": "3582328c",
   "metadata": {},
   "outputs": [
    {
     "data": {
      "text/plain": [
       "Index(['make', 'fuel_type', 'aspiration', 'num_of_doors', 'body_style',\n",
       "       'drive_wheels', 'engine_location', 'wheel_base', 'length', 'width',\n",
       "       'height', 'curb_weight', 'engine_type', 'num_of_cylinders',\n",
       "       'engine_size', 'fuel_system', 'compression_ratio', 'horsepower',\n",
       "       'peak_rpm', 'city_mpg', 'highway_mpg', 'price'],\n",
       "      dtype='object')"
      ]
     },
     "execution_count": 14,
     "metadata": {},
     "output_type": "execute_result"
    }
   ],
   "source": [
    "df.columns"
   ]
  },
  {
   "cell_type": "raw",
   "id": "0978a2a5",
   "metadata": {},
   "source": [
    "#to find the structural errors :\n",
    "    if data type is categorical---- unique()  method\n",
    "    if data type is numerical----- "
   ]
  },
  {
   "cell_type": "code",
   "execution_count": 15,
   "id": "b0416869",
   "metadata": {},
   "outputs": [
    {
     "data": {
      "text/plain": [
       "dtype('O')"
      ]
     },
     "execution_count": 15,
     "metadata": {},
     "output_type": "execute_result"
    }
   ],
   "source": [
    "df['make'].dtype"
   ]
  },
  {
   "cell_type": "code",
   "execution_count": 16,
   "id": "9c85cbae",
   "metadata": {},
   "outputs": [
    {
     "data": {
      "text/plain": [
       "array(['alfa-romero', 'audi', 'bmw', 'chevrolet', 'dodge', 'honda',\n",
       "       'isuzu', 'jaguar', 'mazda', 'mercedes-benz', 'mercury',\n",
       "       'mitsubishi', 'nissan', 'peugot', 'plymouth', 'porsche', 'renault',\n",
       "       'saab', 'subaru', 'toyota', 'volkswagen', 'volvo'], dtype=object)"
      ]
     },
     "execution_count": 16,
     "metadata": {},
     "output_type": "execute_result"
    }
   ],
   "source": [
    "df['make'].unique()"
   ]
  },
  {
   "cell_type": "code",
   "execution_count": 17,
   "id": "6eacdc61",
   "metadata": {},
   "outputs": [
    {
     "data": {
      "text/plain": [
       "dtype('O')"
      ]
     },
     "execution_count": 17,
     "metadata": {},
     "output_type": "execute_result"
    }
   ],
   "source": [
    "df['fuel_type'].dtype"
   ]
  },
  {
   "cell_type": "code",
   "execution_count": 18,
   "id": "cd9c2ecb",
   "metadata": {},
   "outputs": [
    {
     "data": {
      "text/plain": [
       "array(['gas', 'diesel'], dtype=object)"
      ]
     },
     "execution_count": 18,
     "metadata": {},
     "output_type": "execute_result"
    }
   ],
   "source": [
    "df['fuel_type'].unique()"
   ]
  },
  {
   "cell_type": "code",
   "execution_count": 19,
   "id": "f23e93d4",
   "metadata": {},
   "outputs": [
    {
     "data": {
      "text/plain": [
       "dtype('O')"
      ]
     },
     "execution_count": 19,
     "metadata": {},
     "output_type": "execute_result"
    }
   ],
   "source": [
    "df['aspiration'].dtype"
   ]
  },
  {
   "cell_type": "code",
   "execution_count": 20,
   "id": "46e31604",
   "metadata": {},
   "outputs": [
    {
     "data": {
      "text/plain": [
       "array(['std', 'turbo'], dtype=object)"
      ]
     },
     "execution_count": 20,
     "metadata": {},
     "output_type": "execute_result"
    }
   ],
   "source": [
    "df['aspiration'].unique()"
   ]
  },
  {
   "cell_type": "code",
   "execution_count": 21,
   "id": "6cd71af2",
   "metadata": {},
   "outputs": [
    {
     "data": {
      "text/plain": [
       "dtype('O')"
      ]
     },
     "execution_count": 21,
     "metadata": {},
     "output_type": "execute_result"
    }
   ],
   "source": [
    "df['num_of_doors'].dtype"
   ]
  },
  {
   "cell_type": "code",
   "execution_count": 22,
   "id": "4bed4b04",
   "metadata": {},
   "outputs": [
    {
     "data": {
      "text/plain": [
       "array(['two', 'four', '?'], dtype=object)"
      ]
     },
     "execution_count": 22,
     "metadata": {},
     "output_type": "execute_result"
    }
   ],
   "source": [
    "df['num_of_doors'].unique()"
   ]
  },
  {
   "cell_type": "code",
   "execution_count": 23,
   "id": "5a5cc2dc",
   "metadata": {},
   "outputs": [],
   "source": [
    "def door(n):\n",
    "    if n== 'two':\n",
    "        return 2\n",
    "    elif n == 'four':\n",
    "        return 4\n",
    "    else:\n",
    "        return np.nan   "
   ]
  },
  {
   "cell_type": "code",
   "execution_count": 24,
   "id": "b1bbddc7",
   "metadata": {},
   "outputs": [],
   "source": [
    "df['num_of_doors'] = df['num_of_doors'].apply(door)"
   ]
  },
  {
   "cell_type": "code",
   "execution_count": 25,
   "id": "f3061157",
   "metadata": {},
   "outputs": [
    {
     "data": {
      "text/plain": [
       "array([ 2.,  4., nan])"
      ]
     },
     "execution_count": 25,
     "metadata": {},
     "output_type": "execute_result"
    }
   ],
   "source": [
    "df['num_of_doors'].unique()"
   ]
  },
  {
   "cell_type": "code",
   "execution_count": 26,
   "id": "d45daa96",
   "metadata": {},
   "outputs": [
    {
     "data": {
      "text/plain": [
       "2"
      ]
     },
     "execution_count": 26,
     "metadata": {},
     "output_type": "execute_result"
    }
   ],
   "source": [
    "df['num_of_doors'].isna().sum()"
   ]
  },
  {
   "cell_type": "code",
   "execution_count": 27,
   "id": "0943fbfb",
   "metadata": {},
   "outputs": [],
   "source": [
    "df['num_of_doors'].fillna(df['num_of_doors'].mode()[0],inplace = True) # filling missing values"
   ]
  },
  {
   "cell_type": "code",
   "execution_count": 28,
   "id": "e725771d",
   "metadata": {},
   "outputs": [
    {
     "data": {
      "text/plain": [
       "0"
      ]
     },
     "execution_count": 28,
     "metadata": {},
     "output_type": "execute_result"
    }
   ],
   "source": [
    "df['num_of_doors'].isna().sum()"
   ]
  },
  {
   "cell_type": "code",
   "execution_count": 29,
   "id": "55734c71",
   "metadata": {},
   "outputs": [
    {
     "data": {
      "text/plain": [
       "dtype('O')"
      ]
     },
     "execution_count": 29,
     "metadata": {},
     "output_type": "execute_result"
    }
   ],
   "source": [
    "df['body_style'].dtype"
   ]
  },
  {
   "cell_type": "code",
   "execution_count": 30,
   "id": "b34f038a",
   "metadata": {},
   "outputs": [
    {
     "data": {
      "text/plain": [
       "array(['convertible', 'hatchback', 'sedan', 'wagon', 'hardtop'],\n",
       "      dtype=object)"
      ]
     },
     "execution_count": 30,
     "metadata": {},
     "output_type": "execute_result"
    }
   ],
   "source": [
    "df['body_style'].unique()"
   ]
  },
  {
   "cell_type": "code",
   "execution_count": 31,
   "id": "74a6bd7e",
   "metadata": {},
   "outputs": [
    {
     "data": {
      "text/plain": [
       "dtype('O')"
      ]
     },
     "execution_count": 31,
     "metadata": {},
     "output_type": "execute_result"
    }
   ],
   "source": [
    "df['drive_wheels'].dtype"
   ]
  },
  {
   "cell_type": "code",
   "execution_count": 32,
   "id": "7c189520",
   "metadata": {},
   "outputs": [
    {
     "data": {
      "text/plain": [
       "array(['rwd', 'fwd', '4wd'], dtype=object)"
      ]
     },
     "execution_count": 32,
     "metadata": {},
     "output_type": "execute_result"
    }
   ],
   "source": [
    "df['drive_wheels'].unique()"
   ]
  },
  {
   "cell_type": "code",
   "execution_count": 33,
   "id": "6332e8af",
   "metadata": {},
   "outputs": [
    {
     "data": {
      "text/plain": [
       "dtype('O')"
      ]
     },
     "execution_count": 33,
     "metadata": {},
     "output_type": "execute_result"
    }
   ],
   "source": [
    "df['engine_location'].dtype"
   ]
  },
  {
   "cell_type": "code",
   "execution_count": 34,
   "id": "749084c2",
   "metadata": {},
   "outputs": [
    {
     "data": {
      "text/plain": [
       "array(['front', 'rear'], dtype=object)"
      ]
     },
     "execution_count": 34,
     "metadata": {},
     "output_type": "execute_result"
    }
   ],
   "source": [
    "df['engine_location'].unique()"
   ]
  },
  {
   "cell_type": "code",
   "execution_count": 35,
   "id": "31cea922",
   "metadata": {},
   "outputs": [
    {
     "data": {
      "text/plain": [
       "dtype('float64')"
      ]
     },
     "execution_count": 35,
     "metadata": {},
     "output_type": "execute_result"
    }
   ],
   "source": [
    "df['wheel_base'].dtype"
   ]
  },
  {
   "cell_type": "code",
   "execution_count": 36,
   "id": "5e48dc19",
   "metadata": {},
   "outputs": [
    {
     "data": {
      "text/plain": [
       "array([ 88.6,  94.5,  99.8,  99.4, 105.8,  99.5, 101.2,   nan, 103.5,\n",
       "       110. ,  88.4,  93.7, 103.3,  95.9,  86.6,  96.5,  94.3,  96. ,\n",
       "       113. , 102. ,  93.1,  95.3,  98.8, 104.9, 106.7, 115.6,  96.6,\n",
       "       120.9, 112. , 102.7,  93. ,  96.3,  95.1,  97.2, 100.4,  91.3,\n",
       "        99.2, 107.9, 114.2, 108. ,  89.5,  98.4,  96.1,  99.1,  93.3,\n",
       "        97. ,  96.9,  95.7, 102.4, 102.9, 104.5,  97.3, 104.3, 109.1])"
      ]
     },
     "execution_count": 36,
     "metadata": {},
     "output_type": "execute_result"
    }
   ],
   "source": [
    "df['wheel_base'].unique()"
   ]
  },
  {
   "cell_type": "code",
   "execution_count": 37,
   "id": "e6e51714",
   "metadata": {},
   "outputs": [
    {
     "data": {
      "text/plain": [
       "dtype('float64')"
      ]
     },
     "execution_count": 37,
     "metadata": {},
     "output_type": "execute_result"
    }
   ],
   "source": [
    "df['length'].dtype"
   ]
  },
  {
   "cell_type": "code",
   "execution_count": 38,
   "id": "3ba7e7b0",
   "metadata": {},
   "outputs": [
    {
     "data": {
      "text/plain": [
       "array([168.8, 171.2, 176.6, 177.3, 192.7, 178.2, 176.8, 189. , 193.8,\n",
       "       197. , 141.1, 155.9, 158.8, 157.3, 174.6, 173.2, 144.6, 150. ,\n",
       "       163.4, 157.1, 167.5, 175.4, 169.1, 170.7, 172.6, 199.6, 191.7,\n",
       "       159.1, 166.8, 169. , 177.8, 175. , 190.9, 187.5, 202.6, 180.3,\n",
       "       208.1, 199.2, 178.4, 173. , 172.4, 165.3, 170.2, 165.6, 162.4,\n",
       "       173.4, 181.7, 184.6, 178.5, 186.7, 198.9, 167.3, 168.9, 175.7,\n",
       "       181.5, 186.6, 156.9, 157.9, 172. , 173.5, 173.6, 158.7, 169.7,\n",
       "       166.3, 168.7, 176.2, 175.6, 183.5, 187.8, 171.7, 159.3, 165.7,\n",
       "       180.2, 183.1, 188.8])"
      ]
     },
     "execution_count": 38,
     "metadata": {},
     "output_type": "execute_result"
    }
   ],
   "source": [
    "df['length'].unique()"
   ]
  },
  {
   "cell_type": "code",
   "execution_count": 39,
   "id": "be69c52c",
   "metadata": {},
   "outputs": [
    {
     "data": {
      "text/plain": [
       "dtype('float64')"
      ]
     },
     "execution_count": 39,
     "metadata": {},
     "output_type": "execute_result"
    }
   ],
   "source": [
    "df['width'].dtype"
   ]
  },
  {
   "cell_type": "code",
   "execution_count": 40,
   "id": "a8030677",
   "metadata": {},
   "outputs": [
    {
     "data": {
      "text/plain": [
       "array([64.1, 65.5, 66.2, 66.4, 66.3, 71.4, 67.9, 64.8, 66.9, 70.9, 60.3,\n",
       "       63.6, 63.8, 64.6, 63.9, 64. , 65.2, 62.5, 66. , 61.8, 69.6, 70.6,\n",
       "       64.2, 65.7, 66.5, 66.1, 70.3, 71.7, 70.5, 72. , 68. , 64.4, 65.4,\n",
       "       68.4, 68.3, 65. , 72.3, 66.6, 63.4, 65.6, 67.7, 67.2, 68.9, 68.8])"
      ]
     },
     "execution_count": 40,
     "metadata": {},
     "output_type": "execute_result"
    }
   ],
   "source": [
    "df['width'].unique()"
   ]
  },
  {
   "cell_type": "code",
   "execution_count": 41,
   "id": "db0d0e07",
   "metadata": {},
   "outputs": [
    {
     "data": {
      "text/plain": [
       "dtype('float64')"
      ]
     },
     "execution_count": 41,
     "metadata": {},
     "output_type": "execute_result"
    }
   ],
   "source": [
    "df['height'].dtype"
   ]
  },
  {
   "cell_type": "code",
   "execution_count": 42,
   "id": "2f016fc1",
   "metadata": {},
   "outputs": [
    {
     "data": {
      "text/plain": [
       "array([48.8, 52.4, 54.3, 53.1, 55.7, 55.9, 52. , 53.7, 56.3, 53.2, 50.8,\n",
       "       50.6, 59.8, 50.2, 52.6, 54.5, 58.3, 53.3, 54.1, 51. , 53.5, 51.4,\n",
       "       52.8, 47.8, 49.6, 55.5, 54.4, 56.5, 58.7, 54.9, 56.7, 55.4, 54.8,\n",
       "       49.4, 51.6, 54.7, 55.1, 56.1, 49.7, 56. , 50.5, 55.2, 52.5, 53. ,\n",
       "       59.1, 53.9, 55.6, 56.2, 57.5])"
      ]
     },
     "execution_count": 42,
     "metadata": {},
     "output_type": "execute_result"
    }
   ],
   "source": [
    "df['height'].unique()"
   ]
  },
  {
   "cell_type": "code",
   "execution_count": 43,
   "id": "7dccfd76",
   "metadata": {},
   "outputs": [
    {
     "data": {
      "text/plain": [
       "dtype('int64')"
      ]
     },
     "execution_count": 43,
     "metadata": {},
     "output_type": "execute_result"
    }
   ],
   "source": [
    "df['curb_weight'].dtype"
   ]
  },
  {
   "cell_type": "code",
   "execution_count": 44,
   "id": "aed482c4",
   "metadata": {},
   "outputs": [
    {
     "data": {
      "text/plain": [
       "array([2548, 2823, 2337, 2824, 2507, 2844, 2954, 3086, 3053, 2395, 2710,\n",
       "       2765, 3055, 3230, 3380, 3505, 1488, 1874, 1909, 1876, 2128, 1967,\n",
       "       1989, 2191, 2535, 2811, 1713, 1819, 1837, 1940, 1956, 2010, 2024,\n",
       "       2236, 2289, 2304, 2372, 2465, 2293, 2734, 4066, 3950, 1890, 1900,\n",
       "       1905, 1945, 1950, 2380, 2385, 2500, 2410, 2443, 2425, 2670, 2700,\n",
       "       3515, 3750, 3495, 3770, 3740, 3685, 3900, 3715, 2910, 1918, 1944,\n",
       "       2004, 2145, 2370, 2328, 2833, 2921, 2926, 2365, 2405, 2403, 1889,\n",
       "       2017, 1938, 1951, 2028, 1971, 2037, 2008, 2324, 2302, 3095, 3296,\n",
       "       3060, 3071, 3139, 3020, 3197, 3430, 3075, 3252, 3285, 3485, 3130,\n",
       "       2818, 2778, 2756, 2800, 3366, 2579, 2460, 2658, 2695, 2707, 2758,\n",
       "       2808, 2847, 2050, 2120, 2240, 2190, 2340, 2510, 2290, 2455, 2420,\n",
       "       2650, 1985, 2040, 2015, 2280, 3110, 2081, 2109, 2275, 2094, 2122,\n",
       "       2140, 2169, 2204, 2265, 2300, 2540, 2536, 2551, 2679, 2714, 2975,\n",
       "       2326, 2480, 2414, 2458, 2976, 3016, 3131, 3151, 2261, 2209, 2264,\n",
       "       2212, 2319, 2254, 2221, 2661, 2563, 2912, 3034, 2935, 3042, 3045,\n",
       "       3157, 2952, 3049, 3012, 3217, 3062], dtype=int64)"
      ]
     },
     "execution_count": 44,
     "metadata": {},
     "output_type": "execute_result"
    }
   ],
   "source": [
    "df['curb_weight'].unique()"
   ]
  },
  {
   "cell_type": "code",
   "execution_count": 45,
   "id": "16653521",
   "metadata": {},
   "outputs": [
    {
     "data": {
      "text/plain": [
       "Index(['make', 'fuel_type', 'aspiration', 'num_of_doors', 'body_style',\n",
       "       'drive_wheels', 'engine_location', 'wheel_base', 'length', 'width',\n",
       "       'height', 'curb_weight', 'engine_type', 'num_of_cylinders',\n",
       "       'engine_size', 'fuel_system', 'compression_ratio', 'horsepower',\n",
       "       'peak_rpm', 'city_mpg', 'highway_mpg', 'price'],\n",
       "      dtype='object')"
      ]
     },
     "execution_count": 45,
     "metadata": {},
     "output_type": "execute_result"
    }
   ],
   "source": [
    "df.columns"
   ]
  },
  {
   "cell_type": "code",
   "execution_count": 46,
   "id": "f82d9041",
   "metadata": {},
   "outputs": [
    {
     "data": {
      "text/plain": [
       "dtype('O')"
      ]
     },
     "execution_count": 46,
     "metadata": {},
     "output_type": "execute_result"
    }
   ],
   "source": [
    "df['engine_type'].dtype"
   ]
  },
  {
   "cell_type": "code",
   "execution_count": 47,
   "id": "1e7df1ea",
   "metadata": {},
   "outputs": [
    {
     "data": {
      "text/plain": [
       "array(['dohc', 'ohcv', 'ohc', 'l', 'rotor', nan, 'ohcf', 'dohcv'],\n",
       "      dtype=object)"
      ]
     },
     "execution_count": 47,
     "metadata": {},
     "output_type": "execute_result"
    }
   ],
   "source": [
    "df['engine_type'].unique()"
   ]
  },
  {
   "cell_type": "code",
   "execution_count": 48,
   "id": "951a6618",
   "metadata": {},
   "outputs": [
    {
     "data": {
      "text/plain": [
       "dtype('O')"
      ]
     },
     "execution_count": 48,
     "metadata": {},
     "output_type": "execute_result"
    }
   ],
   "source": [
    "df['num_of_cylinders'].dtype"
   ]
  },
  {
   "cell_type": "code",
   "execution_count": 49,
   "id": "c800fac7",
   "metadata": {},
   "outputs": [
    {
     "data": {
      "text/plain": [
       "array(['four', 'six', 'five', 'three', 'twelve', 'two', 'eight'],\n",
       "      dtype=object)"
      ]
     },
     "execution_count": 49,
     "metadata": {},
     "output_type": "execute_result"
    }
   ],
   "source": [
    "df['num_of_cylinders'].unique()"
   ]
  },
  {
   "cell_type": "code",
   "execution_count": 50,
   "id": "ff3b6c40",
   "metadata": {},
   "outputs": [],
   "source": [
    "def cyl(n):\n",
    "    if n == 'two':\n",
    "        return 2\n",
    "    elif n== 'three':\n",
    "        return 3\n",
    "    elif n== 'four':\n",
    "        return 4\n",
    "    elif n== 'six':\n",
    "        return 6\n",
    "    elif n== 'eight':\n",
    "        return 8\n",
    "    else:\n",
    "        return 12\n",
    "        "
   ]
  },
  {
   "cell_type": "code",
   "execution_count": 51,
   "id": "ffefbcb2",
   "metadata": {},
   "outputs": [],
   "source": [
    "df['num_of_cylinders'] = df['num_of_cylinders'].apply(cyl)"
   ]
  },
  {
   "cell_type": "code",
   "execution_count": 52,
   "id": "327dc884",
   "metadata": {},
   "outputs": [
    {
     "data": {
      "text/plain": [
       "array([ 4,  6, 12,  3,  2,  8], dtype=int64)"
      ]
     },
     "execution_count": 52,
     "metadata": {},
     "output_type": "execute_result"
    }
   ],
   "source": [
    "df['num_of_cylinders'].unique()"
   ]
  },
  {
   "cell_type": "code",
   "execution_count": null,
   "id": "bfe7c74e",
   "metadata": {},
   "outputs": [],
   "source": []
  },
  {
   "cell_type": "code",
   "execution_count": 53,
   "id": "4e5b0494",
   "metadata": {},
   "outputs": [
    {
     "data": {
      "text/plain": [
       "dtype('float64')"
      ]
     },
     "execution_count": 53,
     "metadata": {},
     "output_type": "execute_result"
    }
   ],
   "source": [
    "df['engine_size'].dtype"
   ]
  },
  {
   "cell_type": "code",
   "execution_count": 54,
   "id": "9c9520b1",
   "metadata": {},
   "outputs": [
    {
     "data": {
      "text/plain": [
       "array([130., 152., 109., 136., 131., 108., 164., 209.,  61.,  90.,  98.,\n",
       "       122., 156.,  92.,  79., 110.,  nan, 111., 119., 258., 326.,  91.,\n",
       "        70.,  80., 140., 134., 183., 234., 308., 304.,  97., 103., 120.,\n",
       "       181., 151., 194., 203., 132., 121., 146., 171., 161., 141., 173.,\n",
       "       145.])"
      ]
     },
     "execution_count": 54,
     "metadata": {},
     "output_type": "execute_result"
    }
   ],
   "source": [
    "df['engine_size'].unique()"
   ]
  },
  {
   "cell_type": "code",
   "execution_count": 55,
   "id": "f3ff2591",
   "metadata": {},
   "outputs": [
    {
     "data": {
      "text/plain": [
       "dtype('O')"
      ]
     },
     "execution_count": 55,
     "metadata": {},
     "output_type": "execute_result"
    }
   ],
   "source": [
    "df['fuel_system'].dtype"
   ]
  },
  {
   "cell_type": "code",
   "execution_count": 56,
   "id": "eebad3bb",
   "metadata": {},
   "outputs": [
    {
     "data": {
      "text/plain": [
       "array(['mpfi', '2bbl', 'mfi', '1bbl', 'spfi', '4bbl', 'idi', 'spdi'],\n",
       "      dtype=object)"
      ]
     },
     "execution_count": 56,
     "metadata": {},
     "output_type": "execute_result"
    }
   ],
   "source": [
    "df['fuel_system'].unique()"
   ]
  },
  {
   "cell_type": "code",
   "execution_count": 57,
   "id": "a0176584",
   "metadata": {},
   "outputs": [
    {
     "data": {
      "text/plain": [
       "dtype('float64')"
      ]
     },
     "execution_count": 57,
     "metadata": {},
     "output_type": "execute_result"
    }
   ],
   "source": [
    "df['compression_ratio'].dtype"
   ]
  },
  {
   "cell_type": "code",
   "execution_count": 58,
   "id": "7512e5c0",
   "metadata": {},
   "outputs": [
    {
     "data": {
      "text/plain": [
       "array([ 9.  , 10.  ,  8.  ,  8.5 ,  8.3 ,  7.  ,  8.8 ,  9.5 ,  9.6 ,\n",
       "        9.41,  9.4 ,  7.6 ,  9.2 , 10.1 ,  9.1 ,  8.1 , 11.5 ,  8.6 ,\n",
       "       22.7 , 22.  , 21.5 ,  7.5 , 21.9 ,  7.8 ,  8.4 , 21.  ,  8.7 ,\n",
       "        9.31,  9.3 ,  7.7 , 22.5 , 23.  ])"
      ]
     },
     "execution_count": 58,
     "metadata": {},
     "output_type": "execute_result"
    }
   ],
   "source": [
    "df['compression_ratio'].unique()"
   ]
  },
  {
   "cell_type": "code",
   "execution_count": 59,
   "id": "a18980c2",
   "metadata": {},
   "outputs": [
    {
     "data": {
      "text/plain": [
       "Index(['make', 'fuel_type', 'aspiration', 'num_of_doors', 'body_style',\n",
       "       'drive_wheels', 'engine_location', 'wheel_base', 'length', 'width',\n",
       "       'height', 'curb_weight', 'engine_type', 'num_of_cylinders',\n",
       "       'engine_size', 'fuel_system', 'compression_ratio', 'horsepower',\n",
       "       'peak_rpm', 'city_mpg', 'highway_mpg', 'price'],\n",
       "      dtype='object')"
      ]
     },
     "execution_count": 59,
     "metadata": {},
     "output_type": "execute_result"
    }
   ],
   "source": [
    "df.columns"
   ]
  },
  {
   "cell_type": "code",
   "execution_count": 60,
   "id": "5fbf87be",
   "metadata": {},
   "outputs": [
    {
     "data": {
      "text/plain": [
       "dtype('O')"
      ]
     },
     "execution_count": 60,
     "metadata": {},
     "output_type": "execute_result"
    }
   ],
   "source": [
    "df['horsepower'].dtype"
   ]
  },
  {
   "cell_type": "code",
   "execution_count": 61,
   "id": "1fd37698",
   "metadata": {},
   "outputs": [
    {
     "data": {
      "text/plain": [
       "array(['111', '154', '102', '115', '110', '140', '160', '101', '121',\n",
       "       '182', '48', '70', '68', '88', '145', '58', '76', '60', '86',\n",
       "       '100', '78', '90', '176', '262', '135', '84', '64', '120', '72',\n",
       "       '123', '155', '184', '175', '116', '69', '55', '97', '152', '200',\n",
       "       '95', '142', '143', '207', '288', '?', '73', '82', '94', '62',\n",
       "       '56', '112', '92', '161', '156', '52', '85', '114', '162', '134',\n",
       "       '106'], dtype=object)"
      ]
     },
     "execution_count": 61,
     "metadata": {},
     "output_type": "execute_result"
    }
   ],
   "source": [
    "df['horsepower'].unique()"
   ]
  },
  {
   "cell_type": "code",
   "execution_count": 62,
   "id": "861a3528",
   "metadata": {},
   "outputs": [
    {
     "data": {
      "text/plain": [
       "array(['111', '154', '102', '115', '110', '140', '160', '101', '121',\n",
       "       '182', '48', '70', '68', '88', '145', '58', '76', '60', '86',\n",
       "       '100', '78', '90', '176', '262', '135', '84', '64', '120', '72',\n",
       "       '123', '155', '184', '175', '116', '69', '55', '97', '152', '200',\n",
       "       '95', '142', '143', '207', '288', nan, '73', '82', '94', '62',\n",
       "       '56', '112', '92', '161', '156', '52', '85', '114', '162', '134',\n",
       "       '106'], dtype=object)"
      ]
     },
     "execution_count": 62,
     "metadata": {},
     "output_type": "execute_result"
    }
   ],
   "source": [
    "df['horsepower'] = df['horsepower'].replace(\"?\",np.nan) \n",
    "df['horsepower'].unique()"
   ]
  },
  {
   "cell_type": "code",
   "execution_count": 63,
   "id": "960e7a30",
   "metadata": {},
   "outputs": [
    {
     "data": {
      "text/plain": [
       "dtype('O')"
      ]
     },
     "execution_count": 63,
     "metadata": {},
     "output_type": "execute_result"
    }
   ],
   "source": [
    "df['peak_rpm'].dtype"
   ]
  },
  {
   "cell_type": "code",
   "execution_count": 64,
   "id": "0d980eb3",
   "metadata": {},
   "outputs": [
    {
     "data": {
      "text/plain": [
       "array(['5000', '5500', '5800', '4250', '5400', '5100', '4800', '6000',\n",
       "       '4750', '4650', '4200', '4350', '4500', '5200', '4150', '5600',\n",
       "       '5900', '5750', '?', '5250', '4900', '4400', '6600', '5300'],\n",
       "      dtype=object)"
      ]
     },
     "execution_count": 64,
     "metadata": {},
     "output_type": "execute_result"
    }
   ],
   "source": [
    "df['peak_rpm'].unique()"
   ]
  },
  {
   "cell_type": "code",
   "execution_count": 65,
   "id": "e6b550e8",
   "metadata": {},
   "outputs": [],
   "source": [
    "df['peak_rpm'] = df['peak_rpm'].replace(\"?\",np.nan)  #replcing stuctural error by nan      "
   ]
  },
  {
   "cell_type": "code",
   "execution_count": 66,
   "id": "ef34d6cd",
   "metadata": {},
   "outputs": [
    {
     "data": {
      "text/plain": [
       "array(['5000', '5500', '5800', '4250', '5400', '5100', '4800', '6000',\n",
       "       '4750', '4650', '4200', '4350', '4500', '5200', '4150', '5600',\n",
       "       '5900', '5750', nan, '5250', '4900', '4400', '6600', '5300'],\n",
       "      dtype=object)"
      ]
     },
     "execution_count": 66,
     "metadata": {},
     "output_type": "execute_result"
    }
   ],
   "source": [
    "df['peak_rpm'].unique()"
   ]
  },
  {
   "cell_type": "code",
   "execution_count": 67,
   "id": "758f2fed",
   "metadata": {},
   "outputs": [
    {
     "data": {
      "text/plain": [
       "dtype('int64')"
      ]
     },
     "execution_count": 67,
     "metadata": {},
     "output_type": "execute_result"
    }
   ],
   "source": [
    "df['city_mpg'].dtype"
   ]
  },
  {
   "cell_type": "code",
   "execution_count": 68,
   "id": "9181df3d",
   "metadata": {},
   "outputs": [
    {
     "data": {
      "text/plain": [
       "array([21, 19, 24, 18, 17, 16, 23, 20, 15, 47, 38, 37, 31, 49, 30, 27, 25,\n",
       "       13, 26, 36, 22, 14, 45, 28, 32, 35, 34, 29, 33], dtype=int64)"
      ]
     },
     "execution_count": 68,
     "metadata": {},
     "output_type": "execute_result"
    }
   ],
   "source": [
    "df['city_mpg'].unique()"
   ]
  },
  {
   "cell_type": "code",
   "execution_count": 69,
   "id": "588b6016",
   "metadata": {},
   "outputs": [
    {
     "data": {
      "text/plain": [
       "dtype('int64')"
      ]
     },
     "execution_count": 69,
     "metadata": {},
     "output_type": "execute_result"
    }
   ],
   "source": [
    "df['highway_mpg'].dtype"
   ]
  },
  {
   "cell_type": "code",
   "execution_count": 70,
   "id": "8b636e37",
   "metadata": {},
   "outputs": [
    {
     "data": {
      "text/plain": [
       "array([27, 26, 30, 22, 25, 20, 29, 28, 53, 43, 41, 38, 24, 54, 42, 34, 33,\n",
       "       31, 19, 17, 23, 32, 39, 18, 16, 37, 50, 36, 47, 46], dtype=int64)"
      ]
     },
     "execution_count": 70,
     "metadata": {},
     "output_type": "execute_result"
    }
   ],
   "source": [
    "df['highway_mpg'].unique()"
   ]
  },
  {
   "cell_type": "code",
   "execution_count": 71,
   "id": "6642fb91",
   "metadata": {},
   "outputs": [
    {
     "data": {
      "text/plain": [
       "dtype('O')"
      ]
     },
     "execution_count": 71,
     "metadata": {},
     "output_type": "execute_result"
    }
   ],
   "source": [
    "df['price'].dtype"
   ]
  },
  {
   "cell_type": "code",
   "execution_count": 72,
   "id": "c7a79f84",
   "metadata": {},
   "outputs": [
    {
     "data": {
      "text/plain": [
       "array(['13495', '16500', '13950', '17450', '15250', '17710', '18920',\n",
       "       '23875', '?', '16430', '16925', '20970', '21105', '24565', '30760',\n",
       "       '41315', '36880', '5151', '6295', '6575', '5572', '6377', '7957',\n",
       "       '6229', '6692', '7609', '8558', '8921', '12964', '6479', '6855',\n",
       "       '5399', '6529', '7129', '7295', '7895', '9095', '8845', '10295',\n",
       "       '12945', '10345', '6785', '11048', nan, '35550', '36000', '5195',\n",
       "       '6095', '6795', '6695', '7395', '10945', '11845', '13645', '15645',\n",
       "       '8495', '10595', '10245', '10795', '11245', '18280', '18344',\n",
       "       '25552', '28248', '28176', '31600', '34184', '35056', '40960',\n",
       "       '45400', '16503', '5389', '6189', '6669', '7689', '9959', '8499',\n",
       "       '12629', '14869', '14489', '6989', '8189', '9279', '5499', '7099',\n",
       "       '6649', '6849', '7349', '7299', '7799', '7499', '7999', '8249',\n",
       "       '8949', '9549', '13499', '14399', '17199', '19699', '18399',\n",
       "       '11900', '13200', '12440', '13860', '15580', '16695', '17075',\n",
       "       '16630', '17950', '18150', '12764', '22018', '32528', '34028',\n",
       "       '37028', '9295', '9895', '11850', '12170', '15040', '15510',\n",
       "       '18620', '5118', '7053', '7603', '7126', '7775', '9960', '9233',\n",
       "       '11259', '7463', '10198', '8013', '11694', '5348', '6338', '6488',\n",
       "       '6918', '7898', '8778', '6938', '7198', '7788', '7738', '8358',\n",
       "       '9258', '8058', '8238', '9298', '9538', '8449', '9639', '9989',\n",
       "       '11199', '11549', '17669', '8948', '10698', '9988', '10898',\n",
       "       '11248', '16558', '15998', '15690', '15750', '7975', '7995',\n",
       "       '8195', '9495', '9995', '11595', '9980', '13295', '13845', '12290',\n",
       "       '12940', '13415', '15985', '16515', '18420', '18950', '16845',\n",
       "       '19045', '21485', '22625'], dtype=object)"
      ]
     },
     "execution_count": 72,
     "metadata": {},
     "output_type": "execute_result"
    }
   ],
   "source": [
    "df['price'].unique()"
   ]
  },
  {
   "cell_type": "code",
   "execution_count": 73,
   "id": "8666047b",
   "metadata": {},
   "outputs": [],
   "source": [
    "df['price'] = df['price'].replace(\"?\",np.nan)        "
   ]
  },
  {
   "cell_type": "code",
   "execution_count": 74,
   "id": "42a2a21e",
   "metadata": {},
   "outputs": [
    {
     "data": {
      "text/plain": [
       "array(['13495', '16500', '13950', '17450', '15250', '17710', '18920',\n",
       "       '23875', nan, '16430', '16925', '20970', '21105', '24565', '30760',\n",
       "       '41315', '36880', '5151', '6295', '6575', '5572', '6377', '7957',\n",
       "       '6229', '6692', '7609', '8558', '8921', '12964', '6479', '6855',\n",
       "       '5399', '6529', '7129', '7295', '7895', '9095', '8845', '10295',\n",
       "       '12945', '10345', '6785', '11048', '35550', '36000', '5195',\n",
       "       '6095', '6795', '6695', '7395', '10945', '11845', '13645', '15645',\n",
       "       '8495', '10595', '10245', '10795', '11245', '18280', '18344',\n",
       "       '25552', '28248', '28176', '31600', '34184', '35056', '40960',\n",
       "       '45400', '16503', '5389', '6189', '6669', '7689', '9959', '8499',\n",
       "       '12629', '14869', '14489', '6989', '8189', '9279', '5499', '7099',\n",
       "       '6649', '6849', '7349', '7299', '7799', '7499', '7999', '8249',\n",
       "       '8949', '9549', '13499', '14399', '17199', '19699', '18399',\n",
       "       '11900', '13200', '12440', '13860', '15580', '16695', '17075',\n",
       "       '16630', '17950', '18150', '12764', '22018', '32528', '34028',\n",
       "       '37028', '9295', '9895', '11850', '12170', '15040', '15510',\n",
       "       '18620', '5118', '7053', '7603', '7126', '7775', '9960', '9233',\n",
       "       '11259', '7463', '10198', '8013', '11694', '5348', '6338', '6488',\n",
       "       '6918', '7898', '8778', '6938', '7198', '7788', '7738', '8358',\n",
       "       '9258', '8058', '8238', '9298', '9538', '8449', '9639', '9989',\n",
       "       '11199', '11549', '17669', '8948', '10698', '9988', '10898',\n",
       "       '11248', '16558', '15998', '15690', '15750', '7975', '7995',\n",
       "       '8195', '9495', '9995', '11595', '9980', '13295', '13845', '12290',\n",
       "       '12940', '13415', '15985', '16515', '18420', '18950', '16845',\n",
       "       '19045', '21485', '22625'], dtype=object)"
      ]
     },
     "execution_count": 74,
     "metadata": {},
     "output_type": "execute_result"
    }
   ],
   "source": [
    "df['price'].unique()"
   ]
  },
  {
   "cell_type": "code",
   "execution_count": null,
   "id": "69352a31",
   "metadata": {},
   "outputs": [],
   "source": []
  },
  {
   "cell_type": "markdown",
   "id": "5ade8f3a",
   "metadata": {},
   "source": [
    "### Missing values"
   ]
  },
  {
   "cell_type": "code",
   "execution_count": 75,
   "id": "957a9253",
   "metadata": {},
   "outputs": [
    {
     "data": {
      "text/plain": [
       "make                 0\n",
       "fuel_type            0\n",
       "aspiration           0\n",
       "num_of_doors         0\n",
       "body_style           0\n",
       "drive_wheels         0\n",
       "engine_location      0\n",
       "wheel_base           2\n",
       "length               0\n",
       "width                0\n",
       "height               0\n",
       "curb_weight          0\n",
       "engine_type          1\n",
       "num_of_cylinders     0\n",
       "engine_size          2\n",
       "fuel_system          0\n",
       "compression_ratio    0\n",
       "horsepower           2\n",
       "peak_rpm             2\n",
       "city_mpg             0\n",
       "highway_mpg          0\n",
       "price                7\n",
       "dtype: int64"
      ]
     },
     "execution_count": 75,
     "metadata": {},
     "output_type": "execute_result"
    }
   ],
   "source": [
    "df.isna().sum()"
   ]
  },
  {
   "cell_type": "code",
   "execution_count": 76,
   "id": "5b7fa8c3",
   "metadata": {},
   "outputs": [],
   "source": [
    "df['wheel_base'].fillna(df['wheel_base'].median(),inplace = True) \n",
    "\n",
    "df['engine_type'].fillna(df['engine_type'].mode()[0],inplace = True)\n",
    "\n",
    "df['price'].fillna(df['price'].mode()[0],inplace = True)  \n",
    "\n",
    "df['horsepower'].fillna(df['horsepower'].median(),inplace = True) \n",
    "\n",
    "df['engine_size'].fillna(df['engine_size'].mode()[0],inplace = True) \n",
    "\n",
    "df['peak_rpm'].fillna(df['peak_rpm'].mode()[0],inplace = True)  "
   ]
  },
  {
   "cell_type": "code",
   "execution_count": 77,
   "id": "ab3ee9bf",
   "metadata": {},
   "outputs": [
    {
     "data": {
      "text/plain": [
       "make                 0\n",
       "fuel_type            0\n",
       "aspiration           0\n",
       "num_of_doors         0\n",
       "body_style           0\n",
       "drive_wheels         0\n",
       "engine_location      0\n",
       "wheel_base           0\n",
       "length               0\n",
       "width                0\n",
       "height               0\n",
       "curb_weight          0\n",
       "engine_type          0\n",
       "num_of_cylinders     0\n",
       "engine_size          0\n",
       "fuel_system          0\n",
       "compression_ratio    0\n",
       "horsepower           0\n",
       "peak_rpm             0\n",
       "city_mpg             0\n",
       "highway_mpg          0\n",
       "price                0\n",
       "dtype: int64"
      ]
     },
     "execution_count": 77,
     "metadata": {},
     "output_type": "execute_result"
    }
   ],
   "source": [
    "df.isna().sum()"
   ]
  },
  {
   "cell_type": "code",
   "execution_count": null,
   "id": "db8718e7",
   "metadata": {},
   "outputs": [],
   "source": []
  },
  {
   "cell_type": "markdown",
   "id": "63e048c3",
   "metadata": {},
   "source": [
    "### Type casting "
   ]
  },
  {
   "cell_type": "code",
   "execution_count": 78,
   "id": "82bf06e3",
   "metadata": {
    "scrolled": true
   },
   "outputs": [
    {
     "name": "stdout",
     "output_type": "stream",
     "text": [
      "<class 'pandas.core.frame.DataFrame'>\n",
      "Index: 205 entries, 0 to 204\n",
      "Data columns (total 22 columns):\n",
      " #   Column             Non-Null Count  Dtype  \n",
      "---  ------             --------------  -----  \n",
      " 0   make               205 non-null    object \n",
      " 1   fuel_type          205 non-null    object \n",
      " 2   aspiration         205 non-null    object \n",
      " 3   num_of_doors       205 non-null    float64\n",
      " 4   body_style         205 non-null    object \n",
      " 5   drive_wheels       205 non-null    object \n",
      " 6   engine_location    205 non-null    object \n",
      " 7   wheel_base         205 non-null    float64\n",
      " 8   length             205 non-null    float64\n",
      " 9   width              205 non-null    float64\n",
      " 10  height             205 non-null    float64\n",
      " 11  curb_weight        205 non-null    int64  \n",
      " 12  engine_type        205 non-null    object \n",
      " 13  num_of_cylinders   205 non-null    int64  \n",
      " 14  engine_size        205 non-null    float64\n",
      " 15  fuel_system        205 non-null    object \n",
      " 16  compression_ratio  205 non-null    float64\n",
      " 17  horsepower         205 non-null    object \n",
      " 18  peak_rpm           205 non-null    object \n",
      " 19  city_mpg           205 non-null    int64  \n",
      " 20  highway_mpg        205 non-null    int64  \n",
      " 21  price              205 non-null    object \n",
      "dtypes: float64(7), int64(4), object(11)\n",
      "memory usage: 36.8+ KB\n"
     ]
    }
   ],
   "source": [
    "df.info()"
   ]
  },
  {
   "cell_type": "code",
   "execution_count": 79,
   "id": "94e65714",
   "metadata": {},
   "outputs": [],
   "source": [
    "df['num_of_doors'] = df['num_of_doors'].astype('int8')\n",
    "df['height'] = df['height'].astype('float32')\n",
    "df['compression_ratio'] = df['compression_ratio'].astype('float32')\n",
    "df['horsepower'] = df['horsepower'].astype('int64')\n",
    "df['peak_rpm'] = df['peak_rpm'].astype('int64')\n",
    "df['city_mpg'] = df['city_mpg'].astype('float16')\n",
    "df['highway_mpg'] = df['highway_mpg'].astype('int16')\n",
    "df['price'] = df['price'].astype('float64')"
   ]
  },
  {
   "cell_type": "code",
   "execution_count": 80,
   "id": "d1004730",
   "metadata": {},
   "outputs": [
    {
     "name": "stdout",
     "output_type": "stream",
     "text": [
      "<class 'pandas.core.frame.DataFrame'>\n",
      "Index: 205 entries, 0 to 204\n",
      "Data columns (total 22 columns):\n",
      " #   Column             Non-Null Count  Dtype  \n",
      "---  ------             --------------  -----  \n",
      " 0   make               205 non-null    object \n",
      " 1   fuel_type          205 non-null    object \n",
      " 2   aspiration         205 non-null    object \n",
      " 3   num_of_doors       205 non-null    int8   \n",
      " 4   body_style         205 non-null    object \n",
      " 5   drive_wheels       205 non-null    object \n",
      " 6   engine_location    205 non-null    object \n",
      " 7   wheel_base         205 non-null    float64\n",
      " 8   length             205 non-null    float64\n",
      " 9   width              205 non-null    float64\n",
      " 10  height             205 non-null    float32\n",
      " 11  curb_weight        205 non-null    int64  \n",
      " 12  engine_type        205 non-null    object \n",
      " 13  num_of_cylinders   205 non-null    int64  \n",
      " 14  engine_size        205 non-null    float64\n",
      " 15  fuel_system        205 non-null    object \n",
      " 16  compression_ratio  205 non-null    float32\n",
      " 17  horsepower         205 non-null    int64  \n",
      " 18  peak_rpm           205 non-null    int64  \n",
      " 19  city_mpg           205 non-null    float16\n",
      " 20  highway_mpg        205 non-null    int16  \n",
      " 21  price              205 non-null    float64\n",
      "dtypes: float16(1), float32(2), float64(5), int16(1), int64(4), int8(1), object(8)\n",
      "memory usage: 31.4+ KB\n"
     ]
    }
   ],
   "source": [
    "df.info()"
   ]
  },
  {
   "cell_type": "code",
   "execution_count": null,
   "id": "31b501fc",
   "metadata": {},
   "outputs": [],
   "source": []
  },
  {
   "cell_type": "markdown",
   "id": "66d13c82",
   "metadata": {},
   "source": [
    "### Outliers"
   ]
  },
  {
   "cell_type": "code",
   "execution_count": 81,
   "id": "8e93616b",
   "metadata": {},
   "outputs": [
    {
     "data": {
      "text/html": [
       "<div>\n",
       "<style scoped>\n",
       "    .dataframe tbody tr th:only-of-type {\n",
       "        vertical-align: middle;\n",
       "    }\n",
       "\n",
       "    .dataframe tbody tr th {\n",
       "        vertical-align: top;\n",
       "    }\n",
       "\n",
       "    .dataframe thead th {\n",
       "        text-align: right;\n",
       "    }\n",
       "</style>\n",
       "<table border=\"1\" class=\"dataframe\">\n",
       "  <thead>\n",
       "    <tr style=\"text-align: right;\">\n",
       "      <th></th>\n",
       "      <th>make</th>\n",
       "      <th>fuel_type</th>\n",
       "      <th>aspiration</th>\n",
       "      <th>num_of_doors</th>\n",
       "      <th>body_style</th>\n",
       "      <th>drive_wheels</th>\n",
       "      <th>engine_location</th>\n",
       "      <th>wheel_base</th>\n",
       "      <th>length</th>\n",
       "      <th>width</th>\n",
       "      <th>...</th>\n",
       "      <th>engine_type</th>\n",
       "      <th>num_of_cylinders</th>\n",
       "      <th>engine_size</th>\n",
       "      <th>fuel_system</th>\n",
       "      <th>compression_ratio</th>\n",
       "      <th>horsepower</th>\n",
       "      <th>peak_rpm</th>\n",
       "      <th>city_mpg</th>\n",
       "      <th>highway_mpg</th>\n",
       "      <th>price</th>\n",
       "    </tr>\n",
       "  </thead>\n",
       "  <tbody>\n",
       "  </tbody>\n",
       "</table>\n",
       "<p>0 rows × 22 columns</p>\n",
       "</div>"
      ],
      "text/plain": [
       "Empty DataFrame\n",
       "Columns: [make, fuel_type, aspiration, num_of_doors, body_style, drive_wheels, engine_location, wheel_base, length, width, height, curb_weight, engine_type, num_of_cylinders, engine_size, fuel_system, compression_ratio, horsepower, peak_rpm, city_mpg, highway_mpg, price]\n",
       "Index: []\n",
       "\n",
       "[0 rows x 22 columns]"
      ]
     },
     "execution_count": 81,
     "metadata": {},
     "output_type": "execute_result"
    }
   ],
   "source": [
    "df[(df['num_of_doors'] < 2) | (df['num_of_doors'] > 4)]"
   ]
  },
  {
   "cell_type": "code",
   "execution_count": 82,
   "id": "a55ed359",
   "metadata": {},
   "outputs": [
    {
     "data": {
      "text/html": [
       "<div>\n",
       "<style scoped>\n",
       "    .dataframe tbody tr th:only-of-type {\n",
       "        vertical-align: middle;\n",
       "    }\n",
       "\n",
       "    .dataframe tbody tr th {\n",
       "        vertical-align: top;\n",
       "    }\n",
       "\n",
       "    .dataframe thead th {\n",
       "        text-align: right;\n",
       "    }\n",
       "</style>\n",
       "<table border=\"1\" class=\"dataframe\">\n",
       "  <thead>\n",
       "    <tr style=\"text-align: right;\">\n",
       "      <th></th>\n",
       "      <th>make</th>\n",
       "      <th>fuel_type</th>\n",
       "      <th>aspiration</th>\n",
       "      <th>num_of_doors</th>\n",
       "      <th>body_style</th>\n",
       "      <th>drive_wheels</th>\n",
       "      <th>engine_location</th>\n",
       "      <th>wheel_base</th>\n",
       "      <th>length</th>\n",
       "      <th>width</th>\n",
       "      <th>...</th>\n",
       "      <th>engine_type</th>\n",
       "      <th>num_of_cylinders</th>\n",
       "      <th>engine_size</th>\n",
       "      <th>fuel_system</th>\n",
       "      <th>compression_ratio</th>\n",
       "      <th>horsepower</th>\n",
       "      <th>peak_rpm</th>\n",
       "      <th>city_mpg</th>\n",
       "      <th>highway_mpg</th>\n",
       "      <th>price</th>\n",
       "    </tr>\n",
       "  </thead>\n",
       "  <tbody>\n",
       "  </tbody>\n",
       "</table>\n",
       "<p>0 rows × 22 columns</p>\n",
       "</div>"
      ],
      "text/plain": [
       "Empty DataFrame\n",
       "Columns: [make, fuel_type, aspiration, num_of_doors, body_style, drive_wheels, engine_location, wheel_base, length, width, height, curb_weight, engine_type, num_of_cylinders, engine_size, fuel_system, compression_ratio, horsepower, peak_rpm, city_mpg, highway_mpg, price]\n",
       "Index: []\n",
       "\n",
       "[0 rows x 22 columns]"
      ]
     },
     "execution_count": 82,
     "metadata": {},
     "output_type": "execute_result"
    }
   ],
   "source": [
    "df[(df['num_of_cylinders'] < 2)| (df['num_of_cylinders'] > 16)]"
   ]
  },
  {
   "cell_type": "code",
   "execution_count": 83,
   "id": "018f1e06",
   "metadata": {},
   "outputs": [],
   "source": [
    "Q1 = df['engine_size'].quantile(0.25)   \n",
    "Q3 = df['engine_size'].quantile(0.75)\n",
    "IQR = Q3 - Q1\n",
    "Lower = Q1 - (1.5*IQR)\n",
    "Upper = Q3 + (1.5*IQR)"
   ]
  },
  {
   "cell_type": "code",
   "execution_count": 84,
   "id": "a03fee6f",
   "metadata": {},
   "outputs": [
    {
     "data": {
      "text/plain": [
       "31.0"
      ]
     },
     "execution_count": 84,
     "metadata": {},
     "output_type": "execute_result"
    }
   ],
   "source": [
    "Lower"
   ]
  },
  {
   "cell_type": "code",
   "execution_count": 85,
   "id": "c468d932",
   "metadata": {},
   "outputs": [
    {
     "data": {
      "text/plain": [
       "207.0"
      ]
     },
     "execution_count": 85,
     "metadata": {},
     "output_type": "execute_result"
    }
   ],
   "source": [
    "Upper"
   ]
  },
  {
   "cell_type": "code",
   "execution_count": 86,
   "id": "f504d705",
   "metadata": {},
   "outputs": [],
   "source": [
    "condition1 = (df['engine_size'] < Lower) | (df['engine_size'] < Lower)"
   ]
  },
  {
   "cell_type": "code",
   "execution_count": 87,
   "id": "32572565",
   "metadata": {},
   "outputs": [],
   "source": [
    "df['engine_size'].where(condition1,df['engine_size'].median(),inplace = True)  "
   ]
  },
  {
   "cell_type": "code",
   "execution_count": 88,
   "id": "191455a9",
   "metadata": {},
   "outputs": [],
   "source": [
    "Q1 = df[\"compression_ratio\"].quantile(0.25)  \n",
    "Q3 = df[\"compression_ratio\"].quantile(0.75)\n",
    "IQR = Q3 - Q1\n",
    "Lower = Q1 - (1.5*IQR)\n",
    "Upper = Q3 + (1.5*IQR)"
   ]
  },
  {
   "cell_type": "code",
   "execution_count": 89,
   "id": "38114879",
   "metadata": {},
   "outputs": [
    {
     "data": {
      "text/plain": [
       "7.400001525878906"
      ]
     },
     "execution_count": 89,
     "metadata": {},
     "output_type": "execute_result"
    }
   ],
   "source": [
    "Lower"
   ]
  },
  {
   "cell_type": "code",
   "execution_count": 90,
   "id": "296b7e14",
   "metadata": {},
   "outputs": [
    {
     "data": {
      "text/plain": [
       "10.599998474121094"
      ]
     },
     "execution_count": 90,
     "metadata": {},
     "output_type": "execute_result"
    }
   ],
   "source": [
    "Upper"
   ]
  },
  {
   "cell_type": "code",
   "execution_count": 91,
   "id": "68389818",
   "metadata": {},
   "outputs": [],
   "source": [
    "condition2 = (df[\"compression_ratio\"] < Lower) | (df[\"compression_ratio\"])"
   ]
  },
  {
   "cell_type": "code",
   "execution_count": 92,
   "id": "1888d066",
   "metadata": {},
   "outputs": [],
   "source": [
    "df[\"compression_ratio\"].where(condition2,df[\"compression_ratio\"].median(),inplace = True)"
   ]
  },
  {
   "cell_type": "code",
   "execution_count": 93,
   "id": "18bbe8c1",
   "metadata": {},
   "outputs": [],
   "source": [
    "Q1 = df[\"city_mpg\"].quantile(0.25)   \n",
    "Q3 = df[\"city_mpg\"].quantile(0.75)\n",
    "IQR = Q3 - Q1\n",
    "Lower = Q1 - (1.5*IQR)\n",
    "Upper = Q3 + (1.5*IQR)"
   ]
  },
  {
   "cell_type": "code",
   "execution_count": 94,
   "id": "4022463d",
   "metadata": {},
   "outputs": [
    {
     "data": {
      "text/plain": [
       "2.5"
      ]
     },
     "execution_count": 94,
     "metadata": {},
     "output_type": "execute_result"
    }
   ],
   "source": [
    "Lower"
   ]
  },
  {
   "cell_type": "code",
   "execution_count": 95,
   "id": "ad9d1f81",
   "metadata": {},
   "outputs": [
    {
     "data": {
      "text/plain": [
       "46.5"
      ]
     },
     "execution_count": 95,
     "metadata": {},
     "output_type": "execute_result"
    }
   ],
   "source": [
    "Upper"
   ]
  },
  {
   "cell_type": "code",
   "execution_count": 96,
   "id": "6fec2239",
   "metadata": {},
   "outputs": [],
   "source": [
    "condition3 = (df[\"city_mpg\"] < Lower) |  (df[\"city_mpg\"] > Upper)"
   ]
  },
  {
   "cell_type": "code",
   "execution_count": 97,
   "id": "1af28031",
   "metadata": {},
   "outputs": [],
   "source": [
    "df[\"city_mpg\"].where(condition3,df[\"city_mpg\"].mean(),inplace = True) "
   ]
  },
  {
   "cell_type": "code",
   "execution_count": 98,
   "id": "a57615b2",
   "metadata": {},
   "outputs": [],
   "source": [
    "Q1 = df['highway_mpg'].quantile(0.25)  \n",
    "Q3 = df['highway_mpg'].quantile(0.75)\n",
    "IQR = Q3 - Q1\n",
    "Lower = Q1 - (1.5*IQR)\n",
    "Upper = Q3 + (1.5*IQR)"
   ]
  },
  {
   "cell_type": "code",
   "execution_count": 99,
   "id": "9feabf27",
   "metadata": {},
   "outputs": [],
   "source": [
    "condition4 = (df['highway_mpg'] < Lower) |  (df['highway_mpg'] > Upper)"
   ]
  },
  {
   "cell_type": "code",
   "execution_count": 100,
   "id": "1e675b98",
   "metadata": {},
   "outputs": [],
   "source": [
    "df['highway_mpg'].where(condition4,df['highway_mpg'].mode(),inplace = True)"
   ]
  },
  {
   "cell_type": "code",
   "execution_count": null,
   "id": "798dc3ee",
   "metadata": {},
   "outputs": [],
   "source": []
  },
  {
   "cell_type": "markdown",
   "id": "818fd8c3",
   "metadata": {},
   "source": [
    "### Data manipulation"
   ]
  },
  {
   "cell_type": "code",
   "execution_count": 101,
   "id": "719fe3e2",
   "metadata": {},
   "outputs": [
    {
     "name": "stdout",
     "output_type": "stream",
     "text": [
      "Object `car` not found.\n"
     ]
    }
   ],
   "source": [
    "1.what is the maximum price of audi car?"
   ]
  },
  {
   "cell_type": "code",
   "execution_count": 102,
   "id": "78bdde5e",
   "metadata": {},
   "outputs": [
    {
     "data": {
      "text/plain": [
       "array(['alfa-romero', 'audi', 'bmw', 'chevrolet', 'dodge', 'honda',\n",
       "       'isuzu', 'jaguar', 'mazda', 'mercedes-benz', 'mercury',\n",
       "       'mitsubishi', 'nissan', 'peugot', 'plymouth', 'porsche', 'renault',\n",
       "       'saab', 'subaru', 'toyota', 'volkswagen', 'volvo'], dtype=object)"
      ]
     },
     "execution_count": 102,
     "metadata": {},
     "output_type": "execute_result"
    }
   ],
   "source": [
    "df['make'].unique()"
   ]
  },
  {
   "cell_type": "code",
   "execution_count": 103,
   "id": "0f2d6f0d",
   "metadata": {},
   "outputs": [
    {
     "data": {
      "text/plain": [
       "23875.0"
      ]
     },
     "execution_count": 103,
     "metadata": {},
     "output_type": "execute_result"
    }
   ],
   "source": [
    "df[df['make'] == 'audi']['price'].max()"
   ]
  },
  {
   "cell_type": "code",
   "execution_count": null,
   "id": "5d303e49",
   "metadata": {},
   "outputs": [],
   "source": []
  },
  {
   "cell_type": "markdown",
   "id": "9b15eb49",
   "metadata": {},
   "source": [
    "### univariate analysis"
   ]
  },
  {
   "cell_type": "markdown",
   "id": "a0cd25f6",
   "metadata": {},
   "source": [
    "### Numerical"
   ]
  },
  {
   "cell_type": "markdown",
   "id": "0bde9226",
   "metadata": {},
   "source": [
    "#### Histogram"
   ]
  },
  {
   "cell_type": "code",
   "execution_count": 104,
   "id": "93db04a7",
   "metadata": {},
   "outputs": [
    {
     "data": {
      "text/plain": [
       "['Solarize_Light2',\n",
       " '_classic_test_patch',\n",
       " '_mpl-gallery',\n",
       " '_mpl-gallery-nogrid',\n",
       " 'bmh',\n",
       " 'classic',\n",
       " 'dark_background',\n",
       " 'fast',\n",
       " 'fivethirtyeight',\n",
       " 'ggplot',\n",
       " 'grayscale',\n",
       " 'seaborn-v0_8',\n",
       " 'seaborn-v0_8-bright',\n",
       " 'seaborn-v0_8-colorblind',\n",
       " 'seaborn-v0_8-dark',\n",
       " 'seaborn-v0_8-dark-palette',\n",
       " 'seaborn-v0_8-darkgrid',\n",
       " 'seaborn-v0_8-deep',\n",
       " 'seaborn-v0_8-muted',\n",
       " 'seaborn-v0_8-notebook',\n",
       " 'seaborn-v0_8-paper',\n",
       " 'seaborn-v0_8-pastel',\n",
       " 'seaborn-v0_8-poster',\n",
       " 'seaborn-v0_8-talk',\n",
       " 'seaborn-v0_8-ticks',\n",
       " 'seaborn-v0_8-white',\n",
       " 'seaborn-v0_8-whitegrid',\n",
       " 'tableau-colorblind10']"
      ]
     },
     "execution_count": 104,
     "metadata": {},
     "output_type": "execute_result"
    }
   ],
   "source": [
    "plt.style.available"
   ]
  },
  {
   "cell_type": "code",
   "execution_count": 105,
   "id": "466e1b79",
   "metadata": {},
   "outputs": [
    {
     "data": {
      "text/plain": [
       "make                  object\n",
       "fuel_type             object\n",
       "aspiration            object\n",
       "num_of_doors            int8\n",
       "body_style            object\n",
       "drive_wheels          object\n",
       "engine_location       object\n",
       "wheel_base           float64\n",
       "length               float64\n",
       "width                float64\n",
       "height               float32\n",
       "curb_weight            int64\n",
       "engine_type           object\n",
       "num_of_cylinders       int64\n",
       "engine_size          float64\n",
       "fuel_system           object\n",
       "compression_ratio    float32\n",
       "horsepower             int64\n",
       "peak_rpm               int64\n",
       "city_mpg             float16\n",
       "highway_mpg          float64\n",
       "price                float64\n",
       "dtype: object"
      ]
     },
     "execution_count": 105,
     "metadata": {},
     "output_type": "execute_result"
    }
   ],
   "source": [
    "df.dtypes"
   ]
  },
  {
   "cell_type": "code",
   "execution_count": null,
   "id": "43f012dc",
   "metadata": {},
   "outputs": [],
   "source": []
  },
  {
   "cell_type": "code",
   "execution_count": 123,
   "id": "96cf41f6",
   "metadata": {},
   "outputs": [
    {
     "data": {
      "text/plain": [
       "array([ 4,  6, 12,  3,  2,  8], dtype=int64)"
      ]
     },
     "execution_count": 123,
     "metadata": {},
     "output_type": "execute_result"
    }
   ],
   "source": [
    "df['num_of_cylinders'].unique()"
   ]
  },
  {
   "cell_type": "code",
   "execution_count": 124,
   "id": "ae7a72ff",
   "metadata": {},
   "outputs": [],
   "source": [
    "plt.style.use('ggplot')"
   ]
  },
  {
   "cell_type": "code",
   "execution_count": 125,
   "id": "eadf2154",
   "metadata": {},
   "outputs": [
    {
     "data": {
      "text/plain": [
       "<Axes: title={'center': 'Histogram of number of cylinders'}, xlabel=' number of cylinderss', ylabel='Frequency'>"
      ]
     },
     "execution_count": 125,
     "metadata": {},
     "output_type": "execute_result"
    },
    {
     "data": {
      "image/png": "[encoded data removed]",
      "text/plain": [
       "<Figure size 320x240 with 1 Axes>"
      ]
     },
     "metadata": {},
     "output_type": "display_data"
    }
   ],
   "source": [
    "df['num_of_cylinders'].plot(kind ='hist',\n",
    "                            xlabel =' number of cylinderss',\n",
    "                            title = 'Histogram of number of cylinders',\n",
    "                            color = 'purple',\n",
    "                            figsize = (4,3)\n",
    "                           \n",
    "                           )"
   ]
  },
  {
   "cell_type": "code",
   "execution_count": 126,
   "id": "4e39c2dc",
   "metadata": {},
   "outputs": [],
   "source": [
    "plt.style.use('ggplot')"
   ]
  },
  {
   "cell_type": "code",
   "execution_count": 127,
   "id": "97b75fbd",
   "metadata": {},
   "outputs": [
    {
     "data": {
      "text/plain": [
       "<Axes: title={'center': 'Histogram of wheel_base'}, xlabel='wheel_base', ylabel='Frequency'>"
      ]
     },
     "execution_count": 127,
     "metadata": {},
     "output_type": "execute_result"
    },
    {
     "data": {
      "image/png": "[encoded data removed]",
      "text/plain": [
       "<Figure size 320x240 with 1 Axes>"
      ]
     },
     "metadata": {},
     "output_type": "display_data"
    }
   ],
   "source": [
    "df['wheel_base'].plot(kind ='hist',\n",
    "                            xlabel ='wheel_base',\n",
    "                            title = 'Histogram of wheel_base',\n",
    "                            color = 'brown',\n",
    "                            figsize = (4,3)\n",
    "                           \n",
    "                           )"
   ]
  },
  {
   "cell_type": "code",
   "execution_count": 128,
   "id": "490d9697",
   "metadata": {},
   "outputs": [],
   "source": [
    "plt.style.use(\"dark_background\")"
   ]
  },
  {
   "cell_type": "code",
   "execution_count": 129,
   "id": "46109434",
   "metadata": {},
   "outputs": [
    {
     "data": {
      "text/plain": [
       "<Axes: title={'center': 'Histogram of Cars Prices'}, xlabel='Prices of cars', ylabel='Frequency'>"
      ]
     },
     "execution_count": 129,
     "metadata": {},
     "output_type": "execute_result"
    },
    {
     "data": {
      "image/png": "[encoded data removed]",
      "text/plain": [
       "<Figure size 320x240 with 1 Axes>"
      ]
     },
     "metadata": {},
     "output_type": "display_data"
    }
   ],
   "source": [
    "df[\"price\"].plot(kind=\"hist\",\n",
    "                 xlabel=\"Prices of cars\",\n",
    "                 title = \"Histogram of Cars Prices\",\n",
    "                 color = \"white\",\n",
    "                 figsize = (4,3)\n",
    "                 \n",
    "                )"
   ]
  },
  {
   "cell_type": "code",
   "execution_count": 130,
   "id": "68182f2a",
   "metadata": {},
   "outputs": [],
   "source": [
    "plt.style.use(\"bmh\")"
   ]
  },
  {
   "cell_type": "code",
   "execution_count": 131,
   "id": "f84ea109",
   "metadata": {},
   "outputs": [
    {
     "data": {
      "text/plain": [
       "<Axes: title={'center': 'Histogram of number of doors'}, xlabel='number of doors', ylabel='Frequency'>"
      ]
     },
     "execution_count": 131,
     "metadata": {},
     "output_type": "execute_result"
    },
    {
     "data": {
      "image/png": "[encoded data removed]",
      "text/plain": [
       "<Figure size 320x240 with 1 Axes>"
      ]
     },
     "metadata": {},
     "output_type": "display_data"
    }
   ],
   "source": [
    "df[\"num_of_doors\"].plot(kind=\"hist\",\n",
    "                            xlabel=\"number of doors\",\n",
    "                            title = \"Histogram of number of doors\",\n",
    "                            color = 'orange',\n",
    "                            figsize = (4,3)\n",
    "                           \n",
    "                           )"
   ]
  },
  {
   "cell_type": "code",
   "execution_count": 132,
   "id": "f95788f4",
   "metadata": {},
   "outputs": [],
   "source": [
    "plt.style.use(\"classic\")"
   ]
  },
  {
   "cell_type": "code",
   "execution_count": 133,
   "id": "1bcfdab1",
   "metadata": {},
   "outputs": [
    {
     "data": {
      "text/plain": [
       "<Axes: title={'center': 'Histogram of horsepower of cars'}, xlabel='horsepower of cars', ylabel='Frequency'>"
      ]
     },
     "execution_count": 133,
     "metadata": {},
     "output_type": "execute_result"
    },
    {
     "data": {
      "image/png": "[encoded data removed]",
      "text/plain": [
       "<Figure size 320x240 with 1 Axes>"
      ]
     },
     "metadata": {},
     "output_type": "display_data"
    }
   ],
   "source": [
    "df[\"horsepower\"].plot(kind=\"hist\",\n",
    "                            xlabel=\"horsepower of cars\",\n",
    "                            title = \"Histogram of horsepower of cars\",\n",
    "                            figsize = (4,3),\n",
    "                            color = \"Green\"\n",
    "                           \n",
    "                           )"
   ]
  },
  {
   "cell_type": "code",
   "execution_count": 134,
   "id": "733e5691",
   "metadata": {},
   "outputs": [],
   "source": [
    "plt.style.use(\"Solarize_Light2\")\n"
   ]
  },
  {
   "cell_type": "code",
   "execution_count": 135,
   "id": "c87bd794",
   "metadata": {},
   "outputs": [
    {
     "data": {
      "text/plain": [
       "<Axes: title={'center': 'Histogram of peak_rpm of cars'}, xlabel='peak_rpm of cars', ylabel='Frequency'>"
      ]
     },
     "execution_count": 135,
     "metadata": {},
     "output_type": "execute_result"
    },
    {
     "data": {
      "image/png": "[encoded data removed]",
      "text/plain": [
       "<Figure size 320x240 with 1 Axes>"
      ]
     },
     "metadata": {},
     "output_type": "display_data"
    }
   ],
   "source": [
    "df['peak_rpm'].plot(kind=\"hist\",\n",
    "                            xlabel=\"peak_rpm of cars\",\n",
    "                            title = \"Histogram of peak_rpm of cars\",\n",
    "                            color = \"purple\",\n",
    "                            figsize = (4,3),\n",
    "                           )"
   ]
  },
  {
   "cell_type": "code",
   "execution_count": null,
   "id": "3b684be1",
   "metadata": {},
   "outputs": [],
   "source": []
  },
  {
   "cell_type": "code",
   "execution_count": null,
   "id": "2a795552",
   "metadata": {},
   "outputs": [],
   "source": []
  }
 ],
 "metadata": {
  "kernelspec": {
   "display_name": "Python 3 (ipykernel)",
   "language": "python",
   "name": "python3"
  },
  "language_info": {
   "codemirror_mode": {
    "name": "ipython",
    "version": 3
   },
   "file_extension": ".py",
   "mimetype": "text/x-python",
   "name": "python",
   "nbconvert_exporter": "python",
   "pygments_lexer": "ipython3",
   "version": "3.11.4"
  }
 },
 "nbformat": 4,
 "nbformat_minor": 5
}
