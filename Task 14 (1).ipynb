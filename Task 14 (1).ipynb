{
 "cells": [
  {
   "cell_type": "markdown",
   "id": "dd9881f5",
   "metadata": {},
   "source": [
    "\n",
    "1. \n",
    "\n",
    "   - Create a lambda function that takes two arguments and returns their sum.\n",
    "   - Create another lambda function that takes a single argument and returns its square.\n",
    "   - Use the `lambda` functions to calculate the sum and square of various numbers and print the results.\n",
    "\n",
    "2. \n",
    "   - Define a list of integers.\n",
    "   - Use the `filter` function to create a new list that contains only the even numbers from the original list.\n",
    "   - Use the `filter` function again to create a new list that contains only numbers greater than 10 from the original list.\n",
    "   - Print both filtered lists.\n",
    "\n",
    "3. \n",
    "   - Define a list of strings where each string represents a number (e.g., `[\"1\", \"2\", \"3\"]`).\n",
    "   - Use the `map` function to convert each string to an integer and store the result in a new list.\n",
    "   - Use the `map` function again to square each integer in the new list and store the result in another new list.\n",
    "   - Print both new lists.\n",
    "\n",
    "4. \n",
    "   - Create a list of dictionaries, where each dictionary represents a person with keys \"name\" and \"age\". Example: ` [{\"name\": \"Alice\", \"age\": 30}, {\"name\": \"Bob\", \"age\": 25}, ...]`\n",
    "   - Use the `filter` function to create a new list that contains only the people who are older than 25.\n",
    "   - Use the `map` function to create a new list that contains the names of the filtered people.\n",
    "   - Print the list of names.\n",
    "\n",
    "5. \n",
    "   - Create a program that reads a list of numbers from the user (you can use the `input` function for this).\n",
    "   - Use `map` and `filter` functions to perform the following operations:\n",
    "     - Square each number.\n",
    "     - Filter out numbers that are not divisible by 3.\n",
    "   - Print the result.\n"
   ]
  },
  {
   "cell_type": "markdown",
   "id": "0b594165",
   "metadata": {},
   "source": [
    " Create a lambda function that takes two arguments and returns their sum.\n",
    "Create another lambda function that takes a single argument and returns its square.\n",
    "Use the lambda functions to calculate the sum and square of various numbers and print the results."
   ]
  },
  {
   "cell_type": "code",
   "execution_count": 2,
   "id": "6ae480e9",
   "metadata": {},
   "outputs": [
    {
     "data": {
      "text/plain": [
       "5"
      ]
     },
     "execution_count": 2,
     "metadata": {},
     "output_type": "execute_result"
    }
   ],
   "source": [
    "s = lambda a,b: a+b    #takes 2 argument and return sum\n",
    "s(2,3)"
   ]
  },
  {
   "cell_type": "code",
   "execution_count": 3,
   "id": "5935a5ab",
   "metadata": {},
   "outputs": [
    {
     "data": {
      "text/plain": [
       "4"
      ]
     },
     "execution_count": 3,
     "metadata": {},
     "output_type": "execute_result"
    }
   ],
   "source": [
    "s = lambda a : a**2    #take single arg. returns square\n",
    "s(2)"
   ]
  },
  {
   "cell_type": "code",
   "execution_count": 16,
   "id": "61150336",
   "metadata": {},
   "outputs": [],
   "source": [
    "s = lambda *n : sum(n)  #sum of various numbers"
   ]
  },
  {
   "cell_type": "code",
   "execution_count": 17,
   "id": "340fa23c",
   "metadata": {},
   "outputs": [
    {
     "data": {
      "text/plain": [
       "17"
      ]
     },
     "execution_count": 17,
     "metadata": {},
     "output_type": "execute_result"
    }
   ],
   "source": [
    "s(2,4,5,6)"
   ]
  },
  {
   "cell_type": "code",
   "execution_count": 22,
   "id": "af2edd40",
   "metadata": {},
   "outputs": [],
   "source": [
    "s = lambda n : n**2   #"
   ]
  },
  {
   "cell_type": "code",
   "execution_count": 24,
   "id": "a23728ab",
   "metadata": {},
   "outputs": [
    {
     "data": {
      "text/plain": [
       "4"
      ]
     },
     "execution_count": 24,
     "metadata": {},
     "output_type": "execute_result"
    }
   ],
   "source": [
    "s(2)"
   ]
  },
  {
   "cell_type": "markdown",
   "id": "77a745e7",
   "metadata": {},
   "source": [
    "#### 2."
   ]
  },
  {
   "cell_type": "code",
   "execution_count": 30,
   "id": "5112c74b",
   "metadata": {},
   "outputs": [],
   "source": [
    "list1 = [1,2,3,4,7,8,12,14,16]     #define a list of integer"
   ]
  },
  {
   "cell_type": "code",
   "execution_count": 32,
   "id": "2d98ab4a",
   "metadata": {},
   "outputs": [
    {
     "data": {
      "text/plain": [
       "[2, 4, 8, 12, 14, 16]"
      ]
     },
     "execution_count": 32,
     "metadata": {},
     "output_type": "execute_result"
    }
   ],
   "source": [
    " list(filter(lambda n: n%2 == 0,list1))  #new list containing only even numbers"
   ]
  },
  {
   "cell_type": "code",
   "execution_count": 33,
   "id": "8d6ebf18",
   "metadata": {},
   "outputs": [
    {
     "data": {
      "text/plain": [
       "[12, 14, 16]"
      ]
     },
     "execution_count": 33,
     "metadata": {},
     "output_type": "execute_result"
    }
   ],
   "source": [
    "list(filter(lambda n: n>10, list1))  #new list containing number greater than 10"
   ]
  },
  {
   "cell_type": "code",
   "execution_count": null,
   "id": "72d7a8bf",
   "metadata": {},
   "outputs": [],
   "source": []
  },
  {
   "cell_type": "markdown",
   "id": "1ff81b2b",
   "metadata": {},
   "source": [
    "### 3.\n",
    "Define a list of strings where each string represents a number (e.g., [\"1\", \"2\", \"3\"]).\n",
    "Use the map function to convert each string to an integer and store the result in a new list.\n",
    "Use the map function again to square each integer in the new list and store the result in another new list.\n",
    "Print both new lists."
   ]
  },
  {
   "cell_type": "code",
   "execution_count": 7,
   "id": "8a9c4de6",
   "metadata": {},
   "outputs": [],
   "source": [
    "list1 = [\"1\",\"2\",\"3\",\"4\",\"5\"]"
   ]
  },
  {
   "cell_type": "code",
   "execution_count": 8,
   "id": "4f8810c7",
   "metadata": {},
   "outputs": [],
   "source": [
    "def num1(n):\n",
    "    return int(n)\n",
    "    "
   ]
  },
  {
   "cell_type": "code",
   "execution_count": 14,
   "id": "8a7367d5",
   "metadata": {},
   "outputs": [
    {
     "data": {
      "text/plain": [
       "[1, 2, 3, 4, 5]"
      ]
     },
     "execution_count": 14,
     "metadata": {},
     "output_type": "execute_result"
    }
   ],
   "source": [
    "list1 = [\"1\",\"2\",\"3\",\"4\",\"5\"]\n",
    "\n",
    "list(map(num1,list1))"
   ]
  },
  {
   "cell_type": "code",
   "execution_count": 25,
   "id": "989b09f4",
   "metadata": {},
   "outputs": [],
   "source": [
    "list1 = [1,2,3,4,5]\n",
    "def num2(n):\n",
    "    return n**2"
   ]
  },
  {
   "cell_type": "code",
   "execution_count": 26,
   "id": "a94fed76",
   "metadata": {},
   "outputs": [
    {
     "data": {
      "text/plain": [
       "[1, 4, 9, 16, 25]"
      ]
     },
     "execution_count": 26,
     "metadata": {},
     "output_type": "execute_result"
    }
   ],
   "source": [
    "list(map(num2,list1))"
   ]
  },
  {
   "cell_type": "markdown",
   "id": "aa0a562c",
   "metadata": {},
   "source": [
    "### 4."
   ]
  },
  {
   "cell_type": "markdown",
   "id": "374c8b73",
   "metadata": {},
   "source": [
    "Create a list of dictionaries, where each dictionary represents a person with keys \"name\" and \"age\". Example:  [{\"name\": \"Alice\", \"age\": 30}, {\"name\": \"Bob\", \"age\": 25}, ...]\n",
    "Use the filter function to create a new list that contains only the people who are older than 25.\n",
    "Use the map function to create a new list that contains the names of the filtered people.\n",
    "Print the list of names."
   ]
  },
  {
   "cell_type": "code",
   "execution_count": 31,
   "id": "20aed8ee",
   "metadata": {},
   "outputs": [],
   "source": [
    "people = [{\"name\":\"priya\", \"age\":28} ,{\"name\":\"riya\",\"age\": 24},{\"name\":\"shri\",\"age\":26}]"
   ]
  },
  {
   "cell_type": "code",
   "execution_count": 35,
   "id": "a3f90e2e",
   "metadata": {},
   "outputs": [
    {
     "name": "stdout",
     "output_type": "stream",
     "text": [
      "[{'name': 'priya', 'age': 28}, {'name': 'shri', 'age': 26}]\n"
     ]
    }
   ],
   "source": [
    "older_than_25 = list(filter(lambda person : person[\"age\"]> 25,people))\n",
    "print(older_than_25)"
   ]
  },
  {
   "cell_type": "code",
   "execution_count": 39,
   "id": "47389c30",
   "metadata": {},
   "outputs": [
    {
     "name": "stdout",
     "output_type": "stream",
     "text": [
      "['priya', 'shri']\n"
     ]
    }
   ],
   "source": [
    "filterd_names = list(map(lambda person: person[\"name\"],older_than_25))\n",
    "print(filterd_names)"
   ]
  },
  {
   "cell_type": "markdown",
   "id": "8238f3af",
   "metadata": {},
   "source": [
    "#### 5."
   ]
  },
  {
   "cell_type": "markdown",
   "id": "59276742",
   "metadata": {},
   "source": [
    "create a program that reads a list of numbers from the user (you can use the input function for this).\n",
    "Use map and filter functions to perform the following operations:\n",
    "Square each number.\n",
    "Filter out numbers that are not divisible by 3."
   ]
  },
  {
   "cell_type": "code",
   "execution_count": 8,
   "id": "d66b35bf",
   "metadata": {},
   "outputs": [],
   "source": [
    "def sqr(n):\n",
    "    return n**2"
   ]
  },
  {
   "cell_type": "code",
   "execution_count": 9,
   "id": "4b7fca66",
   "metadata": {},
   "outputs": [],
   "source": [
    "list1 = [2,4,6,8]"
   ]
  },
  {
   "cell_type": "code",
   "execution_count": 10,
   "id": "cb8e6082",
   "metadata": {},
   "outputs": [
    {
     "data": {
      "text/plain": [
       "[4, 16, 36, 64]"
      ]
     },
     "execution_count": 10,
     "metadata": {},
     "output_type": "execute_result"
    }
   ],
   "source": [
    "list(map(sqr,list1))"
   ]
  },
  {
   "cell_type": "code",
   "execution_count": 12,
   "id": "e5a0239f",
   "metadata": {},
   "outputs": [
    {
     "data": {
      "text/plain": [
       "[2, 4, 8]"
      ]
     },
     "execution_count": 12,
     "metadata": {},
     "output_type": "execute_result"
    }
   ],
   "source": [
    "list(filter(lambda n:n%3 != 0, list1))"
   ]
  },
  {
   "cell_type": "code",
   "execution_count": null,
   "id": "ad9a3875",
   "metadata": {},
   "outputs": [],
   "source": []
  },
  {
   "cell_type": "code",
   "execution_count": null,
   "id": "32622061",
   "metadata": {},
   "outputs": [],
   "source": [
    "#take combination of integers,float and string.print only float values.\n",
    "#print only strings.\n",
    "#replace int value with a name is called integer, float with a name is called float..."
   ]
  },
  {
   "cell_type": "code",
   "execution_count": null,
   "id": "5d146979",
   "metadata": {},
   "outputs": [],
   "source": [
    "list1 = [1,4,0.4,\"hello\",6,\"hii\"]"
   ]
  },
  {
   "cell_type": "code",
   "execution_count": 40,
   "id": "ceb3c414",
   "metadata": {},
   "outputs": [
    {
     "data": {
      "text/plain": [
       "[0.4]"
      ]
     },
     "execution_count": 40,
     "metadata": {},
     "output_type": "execute_result"
    }
   ],
   "source": [
    "list(filter(lambda x: type(x)== float,[1,4,0.4,\"hello\",6,\"hii\"]))"
   ]
  },
  {
   "cell_type": "code",
   "execution_count": 41,
   "id": "2cc30ba5",
   "metadata": {},
   "outputs": [],
   "source": [
    "def flo(n):\n",
    "    if type(n)== float:\n",
    "        return n"
   ]
  },
  {
   "cell_type": "code",
   "execution_count": 42,
   "id": "5873b938",
   "metadata": {},
   "outputs": [],
   "source": [
    "list1 = [1,4,0.4,\"hello\",6,\"hii\"]"
   ]
  },
  {
   "cell_type": "code",
   "execution_count": 43,
   "id": "9d21eb87",
   "metadata": {},
   "outputs": [
    {
     "data": {
      "text/plain": [
       "[0.4]"
      ]
     },
     "execution_count": 43,
     "metadata": {},
     "output_type": "execute_result"
    }
   ],
   "source": [
    "list(filter(flo,list1))"
   ]
  },
  {
   "cell_type": "code",
   "execution_count": 44,
   "id": "efd76d27",
   "metadata": {},
   "outputs": [],
   "source": [
    "def flo(n):\n",
    "    if type(n)== str:    #2nd\n",
    "        return n"
   ]
  },
  {
   "cell_type": "code",
   "execution_count": 45,
   "id": "fdffb511",
   "metadata": {},
   "outputs": [
    {
     "data": {
      "text/plain": [
       "['hello', 'hii']"
      ]
     },
     "execution_count": 45,
     "metadata": {},
     "output_type": "execute_result"
    }
   ],
   "source": [
    "list(filter(flo,list1))"
   ]
  },
  {
   "cell_type": "code",
   "execution_count": 46,
   "id": "ce82bc05",
   "metadata": {},
   "outputs": [],
   "source": [
    "list1 = [1,4,0.4,\"hello\",6,\"hii\"]"
   ]
  },
  {
   "cell_type": "code",
   "execution_count": 47,
   "id": "6602c56e",
   "metadata": {},
   "outputs": [],
   "source": [
    "def fun(n):\n",
    "    if type(n) == float:\n",
    "        return \"float\"     #3rd\n",
    "    elif type(n) == str:\n",
    "        return \"string\"\n",
    "    else:\n",
    "        return \"intiger\"\n",
    "    "
   ]
  },
  {
   "cell_type": "code",
   "execution_count": 48,
   "id": "5b562c03",
   "metadata": {},
   "outputs": [
    {
     "data": {
      "text/plain": [
       "['intiger', 'intiger', 'float', 'string', 'intiger', 'string']"
      ]
     },
     "execution_count": 48,
     "metadata": {},
     "output_type": "execute_result"
    }
   ],
   "source": [
    "list(map(fun,list1))"
   ]
  },
  {
   "cell_type": "code",
   "execution_count": null,
   "id": "e6440951",
   "metadata": {},
   "outputs": [],
   "source": []
  }
 ],
 "metadata": {
  "kernelspec": {
   "display_name": "Python 3 (ipykernel)",
   "language": "python",
   "name": "python3"
  },
  "language_info": {
   "codemirror_mode": {
    "name": "ipython",
    "version": 3
   },
   "file_extension": ".py",
   "mimetype": "text/x-python",
   "name": "python",
   "nbconvert_exporter": "python",
   "pygments_lexer": "ipython3",
   "version": "3.11.4"
  }
 },
 "nbformat": 4,
 "nbformat_minor": 5
}
