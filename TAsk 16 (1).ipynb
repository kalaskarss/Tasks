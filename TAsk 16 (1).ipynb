{
 "cells": [
  {
   "cell_type": "markdown",
   "id": "fd99fb02",
   "metadata": {},
   "source": [
    "**Task 1**:\n",
    "1. Load the file 'about_python.txt'into your jupyter notebook.\n",
    "    a. Correct wrong statements about python fatures\n",
    "    b. How many charactaers present in the data\n",
    "    c. How many times 'Python' word is repeated.\n",
    "    d. after correcting all ..print complete valid features of the python.\n",
    "    \n",
    "**Task2**:\n",
    "\n",
    "2. Create a file 'File.txt'which expalains python file handling whatever you have learnt today(creating,reading,wring and appending...etc) in detail.That reaload the saved file(i.e File.txt) to jupyter notebook."
   ]
  },
  {
   "cell_type": "markdown",
   "id": "0ab3511f",
   "metadata": {},
   "source": [
    "### Task 1."
   ]
  },
  {
   "cell_type": "code",
   "execution_count": 74,
   "id": "f8b66286",
   "metadata": {},
   "outputs": [],
   "source": [
    "f = open('about_python.txt','r')           #load file"
   ]
  },
  {
   "cell_type": "code",
   "execution_count": 69,
   "id": "3d38ca94",
   "metadata": {},
   "outputs": [
    {
     "name": "stdout",
     "output_type": "stream",
     "text": [
      "Python supports object-oriented programming (OOP) concepts.\n",
      "Python is a compiled language.\n",
      "Python has a rich ecosystem of third-party libraries.\n",
      "Python is a paid programming language\n",
      "Python uses indentation for code block structuring.\n",
      "Python is statically Typed Language\n",
      "Python only supports double quotes for string literals.\n",
      "Python can only be used for web development.\n",
      "Python was created by Elon Musk.\n"
     ]
    }
   ],
   "source": [
    "string = f.read()\n",
    "print(string)"
   ]
  },
  {
   "cell_type": "markdown",
   "id": "1e55e4d7",
   "metadata": {},
   "source": [
    "#### a. Correct wrong statements about python features"
   ]
  },
  {
   "cell_type": "code",
   "execution_count": 76,
   "id": "d3c2e395",
   "metadata": {},
   "outputs": [
    {
     "name": "stdout",
     "output_type": "stream",
     "text": [
      "Python supports object-oriented programming (OOP) concepts.\n",
      "Python is a interprited language.\n",
      "Python has a rich ecosystem of third-party libraries.\n",
      "Python is a Freeware and open source programming language\n",
      "Python uses indentation for code block structuring.\n",
      "Python is dynamically Typed Language\n",
      "Python only supports single quotes,double quotes for string literals.\n",
      "Python can can used for developing desktop app,network programming,ML,IOT,AI.\n",
      "Python was created by Guido van Rossum.\n"
     ]
    }
   ],
   "source": [
    "str1 = string.replace(\"compiled\",\"interprited\")\n",
    "str2 = str1.replace(\"paid\",\"Freeware and open source\")\n",
    "str3 = str2.replace(\"statically\",\"dynamically\")\n",
    "str4 = str3.replace(\"only be used for web development\",\" used for developing desktop app,network programming,ML,IOT,AI\")\n",
    "str5 = str4.replace(\"double quotes\",\"single quotes,double quotes\")\n",
    "str6 = str5.replace(\"Elon Musk\",\"Guido van Rossum\")\n",
    "print(str6)"
   ]
  },
  {
   "cell_type": "markdown",
   "id": "18c2e566",
   "metadata": {},
   "source": [
    "#### b. How many characters present in the data"
   ]
  },
  {
   "cell_type": "code",
   "execution_count": 78,
   "id": "f46e9b0f",
   "metadata": {},
   "outputs": [
    {
     "data": {
      "text/plain": [
       "479"
      ]
     },
     "execution_count": 78,
     "metadata": {},
     "output_type": "execute_result"
    }
   ],
   "source": [
    "len(str6)"
   ]
  },
  {
   "cell_type": "markdown",
   "id": "8f080c2d",
   "metadata": {},
   "source": [
    "#### c. How many times 'Python' word is repeated."
   ]
  },
  {
   "cell_type": "code",
   "execution_count": 79,
   "id": "69ef0acd",
   "metadata": {},
   "outputs": [
    {
     "data": {
      "text/plain": [
       "9"
      ]
     },
     "execution_count": 79,
     "metadata": {},
     "output_type": "execute_result"
    }
   ],
   "source": [
    "str6.count(\"Python\")"
   ]
  },
  {
   "cell_type": "markdown",
   "id": "4f39b5b5",
   "metadata": {},
   "source": [
    "#### d. after correcting all ..print complete valid features of the python."
   ]
  },
  {
   "cell_type": "code",
   "execution_count": 80,
   "id": "9b897a2a",
   "metadata": {},
   "outputs": [
    {
     "name": "stdout",
     "output_type": "stream",
     "text": [
      "Python supports object-oriented programming (OOP) concepts.\n",
      "Python is a interprited language.\n",
      "Python has a rich ecosystem of third-party libraries.\n",
      "Python is a Freeware and open source programming language\n",
      "Python uses indentation for code block structuring.\n",
      "Python is dynamically Typed Language\n",
      "Python only supports single quotes,double quotes for string literals.\n",
      "Python can  used for developing desktop app,network programming,ML,IOT,AI.\n",
      "Python was created by Guido van Rossum.\n"
     ]
    }
   ],
   "source": [
    "print(str6)"
   ]
  },
  {
   "cell_type": "markdown",
   "id": "e2b05c7c",
   "metadata": {},
   "source": [
    "### Task 2. "
   ]
  },
  {
   "cell_type": "markdown",
   "id": "c6214e79",
   "metadata": {},
   "source": [
    "2. Create a file 'File.txt'which expalains python file handling whatever you have learnt today(creating,reading,wring and appending...etc) in detail.That reaload the saved file(i.e File.txt) to jupyter notebook."
   ]
  },
  {
   "cell_type": "code",
   "execution_count": 62,
   "id": "4e2f1250",
   "metadata": {},
   "outputs": [],
   "source": [
    "f = open('demo1_file.txt','x')"
   ]
  },
  {
   "cell_type": "code",
   "execution_count": 97,
   "id": "42add350",
   "metadata": {},
   "outputs": [],
   "source": [
    "f = open('demo1_file.txt','r')"
   ]
  },
  {
   "cell_type": "code",
   "execution_count": 84,
   "id": "122eb974",
   "metadata": {},
   "outputs": [
    {
     "name": "stdout",
     "output_type": "stream",
     "text": [
      "*File Handling\n",
      "  \n",
      "There are two types of file\n",
      " 1.text file\n",
      " 2.binary file\n"
     ]
    }
   ],
   "source": [
    "print(f.read())"
   ]
  },
  {
   "cell_type": "code",
   "execution_count": 85,
   "id": "34c178fb",
   "metadata": {},
   "outputs": [
    {
     "data": {
      "text/plain": [
       "''"
      ]
     },
     "execution_count": 85,
     "metadata": {},
     "output_type": "execute_result"
    }
   ],
   "source": [
    "f.readline()"
   ]
  },
  {
   "cell_type": "code",
   "execution_count": 86,
   "id": "7116a816",
   "metadata": {},
   "outputs": [
    {
     "name": "stdout",
     "output_type": "stream",
     "text": [
      "[]\n"
     ]
    }
   ],
   "source": [
    "print(f.readlines())"
   ]
  },
  {
   "cell_type": "code",
   "execution_count": 87,
   "id": "cc69fb03",
   "metadata": {},
   "outputs": [
    {
     "data": {
      "text/plain": [
       "73"
      ]
     },
     "execution_count": 87,
     "metadata": {},
     "output_type": "execute_result"
    }
   ],
   "source": [
    "f.tell()"
   ]
  },
  {
   "cell_type": "code",
   "execution_count": 88,
   "id": "00d707ac",
   "metadata": {},
   "outputs": [
    {
     "data": {
      "text/plain": [
       "14"
      ]
     },
     "execution_count": 88,
     "metadata": {},
     "output_type": "execute_result"
    }
   ],
   "source": [
    "f.seek(14)"
   ]
  },
  {
   "cell_type": "code",
   "execution_count": 89,
   "id": "a59e5316",
   "metadata": {},
   "outputs": [
    {
     "name": "stdout",
     "output_type": "stream",
     "text": [
      "\n",
      "  \n",
      "There are two types of file\n",
      " 1.text file\n",
      " 2.binary file\n"
     ]
    }
   ],
   "source": [
    "print(f.read())"
   ]
  },
  {
   "cell_type": "markdown",
   "id": "b93d82cf",
   "metadata": {},
   "source": [
    "#### writing file"
   ]
  },
  {
   "cell_type": "code",
   "execution_count": 90,
   "id": "b18fb3f9",
   "metadata": {},
   "outputs": [],
   "source": [
    "f = open('demo1_file.txt','w')"
   ]
  },
  {
   "cell_type": "code",
   "execution_count": 91,
   "id": "073f0c07",
   "metadata": {},
   "outputs": [],
   "source": [
    "f.write(\"we have to open a file using open()\")\n",
    "f.close()"
   ]
  },
  {
   "cell_type": "markdown",
   "id": "8571ded3",
   "metadata": {},
   "source": [
    "#### Appending a file"
   ]
  },
  {
   "cell_type": "code",
   "execution_count": 101,
   "id": "0865d177",
   "metadata": {},
   "outputs": [],
   "source": [
    "f = open('demo1_file.txt','a')"
   ]
  },
  {
   "cell_type": "code",
   "execution_count": 102,
   "id": "2b1cfc58",
   "metadata": {},
   "outputs": [
    {
     "data": {
      "text/plain": [
       "73"
      ]
     },
     "execution_count": 102,
     "metadata": {},
     "output_type": "execute_result"
    }
   ],
   "source": [
    "f.write(\"we can specify the mode while opening a file. r-read. w -write, a- append\")"
   ]
  },
  {
   "cell_type": "code",
   "execution_count": 103,
   "id": "428d2d63",
   "metadata": {},
   "outputs": [],
   "source": [
    "f.close()"
   ]
  },
  {
   "cell_type": "code",
   "execution_count": null,
   "id": "d2328a46",
   "metadata": {},
   "outputs": [],
   "source": []
  }
 ],
 "metadata": {
  "kernelspec": {
   "display_name": "Python 3 (ipykernel)",
   "language": "python",
   "name": "python3"
  },
  "language_info": {
   "codemirror_mode": {
    "name": "ipython",
    "version": 3
   },
   "file_extension": ".py",
   "mimetype": "text/x-python",
   "name": "python",
   "nbconvert_exporter": "python",
   "pygments_lexer": "ipython3",
   "version": "3.11.4"
  }
 },
 "nbformat": 4,
 "nbformat_minor": 5
}
