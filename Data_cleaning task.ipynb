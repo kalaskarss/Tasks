{
 "cells": [
  {
   "cell_type": "markdown",
   "id": "114de939",
   "metadata": {},
   "source": [
    "a. Kindly fill the missing values with\n",
    "1. value\n",
    "2. Statistical value\n",
    "3. Filling  method\n",
    "\n",
    "B) Create pivot table for  position and average salary.\n",
    "C) Group the data using group by as per gender  and average age."
   ]
  },
  {
   "cell_type": "code",
   "execution_count": null,
   "id": "06074190",
   "metadata": {},
   "outputs": [],
   "source": []
  },
  {
   "cell_type": "code",
   "execution_count": 1,
   "id": "606283cb",
   "metadata": {},
   "outputs": [],
   "source": [
    "import pandas as pd"
   ]
  },
  {
   "cell_type": "code",
   "execution_count": 2,
   "id": "33131c02",
   "metadata": {},
   "outputs": [],
   "source": [
    "import numpy as np"
   ]
  },
  {
   "cell_type": "code",
   "execution_count": 3,
   "id": "4b4bf825",
   "metadata": {},
   "outputs": [],
   "source": [
    "df = pd.read_excel(r\"C:\\Users\\LENOVO\\Downloads\\ethnic_diversity.xlsx\")"
   ]
  },
  {
   "cell_type": "code",
   "execution_count": 4,
   "id": "acc0242c",
   "metadata": {},
   "outputs": [
    {
     "data": {
      "text/html": [
       "<div>\n",
       "<style scoped>\n",
       "    .dataframe tbody tr th:only-of-type {\n",
       "        vertical-align: middle;\n",
       "    }\n",
       "\n",
       "    .dataframe tbody tr th {\n",
       "        vertical-align: top;\n",
       "    }\n",
       "\n",
       "    .dataframe thead th {\n",
       "        text-align: right;\n",
       "    }\n",
       "</style>\n",
       "<table border=\"1\" class=\"dataframe\">\n",
       "  <thead>\n",
       "    <tr style=\"text-align: right;\">\n",
       "      <th></th>\n",
       "      <th>Employee_Name</th>\n",
       "      <th>EmpID</th>\n",
       "      <th>Position</th>\n",
       "      <th>State</th>\n",
       "      <th>Zip</th>\n",
       "      <th>Gender</th>\n",
       "      <th>MaritalDesc</th>\n",
       "      <th>CitizenDesc</th>\n",
       "      <th>EmploymentStatus</th>\n",
       "      <th>Department</th>\n",
       "      <th>Salaries</th>\n",
       "      <th>age</th>\n",
       "      <th>Race</th>\n",
       "    </tr>\n",
       "  </thead>\n",
       "  <tbody>\n",
       "    <tr>\n",
       "      <th>0</th>\n",
       "      <td>Brown, Mia</td>\n",
       "      <td>1103024456</td>\n",
       "      <td>Accountant I</td>\n",
       "      <td>MA</td>\n",
       "      <td>1450.0</td>\n",
       "      <td>F</td>\n",
       "      <td>Married</td>\n",
       "      <td>US Citizen</td>\n",
       "      <td>Active</td>\n",
       "      <td>Admin Offices</td>\n",
       "      <td>674.28</td>\n",
       "      <td>28</td>\n",
       "      <td>Black or African American</td>\n",
       "    </tr>\n",
       "    <tr>\n",
       "      <th>1</th>\n",
       "      <td>LaRotonda, William</td>\n",
       "      <td>1106026572</td>\n",
       "      <td>Accountant I</td>\n",
       "      <td>MA</td>\n",
       "      <td>1460.0</td>\n",
       "      <td>M</td>\n",
       "      <td>Divorced</td>\n",
       "      <td>US Citizen</td>\n",
       "      <td>Active</td>\n",
       "      <td>Admin Offices</td>\n",
       "      <td>674.28</td>\n",
       "      <td>50</td>\n",
       "      <td>NaN</td>\n",
       "    </tr>\n",
       "    <tr>\n",
       "      <th>2</th>\n",
       "      <td>Steans, Tyrone</td>\n",
       "      <td>1302053333</td>\n",
       "      <td>Accountant I</td>\n",
       "      <td>MA</td>\n",
       "      <td>2703.0</td>\n",
       "      <td>M</td>\n",
       "      <td>Single</td>\n",
       "      <td>US Citizen</td>\n",
       "      <td>Active</td>\n",
       "      <td>Admin Offices</td>\n",
       "      <td>674.28</td>\n",
       "      <td>43</td>\n",
       "      <td>White</td>\n",
       "    </tr>\n",
       "    <tr>\n",
       "      <th>3</th>\n",
       "      <td>Howard, Estelle</td>\n",
       "      <td>1211050782</td>\n",
       "      <td>Administrative Assistant</td>\n",
       "      <td>MA</td>\n",
       "      <td>2170.0</td>\n",
       "      <td>F</td>\n",
       "      <td>Married</td>\n",
       "      <td>US Citizen</td>\n",
       "      <td>Terminated for Cause</td>\n",
       "      <td>Admin Offices</td>\n",
       "      <td>NaN</td>\n",
       "      <td>44</td>\n",
       "      <td>White</td>\n",
       "    </tr>\n",
       "    <tr>\n",
       "      <th>4</th>\n",
       "      <td>Singh, Nan</td>\n",
       "      <td>1307059817</td>\n",
       "      <td>Administrative Assistant</td>\n",
       "      <td>MA</td>\n",
       "      <td>2330.0</td>\n",
       "      <td>F</td>\n",
       "      <td>Single</td>\n",
       "      <td>US Citizen</td>\n",
       "      <td>Active</td>\n",
       "      <td>Admin Offices</td>\n",
       "      <td>61089.35</td>\n",
       "      <td>33</td>\n",
       "      <td>White</td>\n",
       "    </tr>\n",
       "    <tr>\n",
       "      <th>...</th>\n",
       "      <td>...</td>\n",
       "      <td>...</td>\n",
       "      <td>...</td>\n",
       "      <td>...</td>\n",
       "      <td>...</td>\n",
       "      <td>...</td>\n",
       "      <td>...</td>\n",
       "      <td>...</td>\n",
       "      <td>...</td>\n",
       "      <td>...</td>\n",
       "      <td>...</td>\n",
       "      <td>...</td>\n",
       "      <td>...</td>\n",
       "    </tr>\n",
       "    <tr>\n",
       "      <th>305</th>\n",
       "      <td>Daniele, Ann</td>\n",
       "      <td>1411071312</td>\n",
       "      <td>Sr. Network Engineer</td>\n",
       "      <td>CT</td>\n",
       "      <td>6033.0</td>\n",
       "      <td>F</td>\n",
       "      <td>Married</td>\n",
       "      <td>US Citizen</td>\n",
       "      <td>Leave of Absence</td>\n",
       "      <td>IT/IS</td>\n",
       "      <td>37619.01</td>\n",
       "      <td>38</td>\n",
       "      <td>White</td>\n",
       "    </tr>\n",
       "    <tr>\n",
       "      <th>306</th>\n",
       "      <td>Lajiri,  Jyoti</td>\n",
       "      <td>1108028108</td>\n",
       "      <td>Sr. Network Engineer</td>\n",
       "      <td>MA</td>\n",
       "      <td>2169.0</td>\n",
       "      <td>M</td>\n",
       "      <td>Married</td>\n",
       "      <td>US Citizen</td>\n",
       "      <td>Leave of Absence</td>\n",
       "      <td>IT/IS</td>\n",
       "      <td>27603.00</td>\n",
       "      <td>34</td>\n",
       "      <td>White</td>\n",
       "    </tr>\n",
       "    <tr>\n",
       "      <th>307</th>\n",
       "      <td>Semizoglou, Jeremiah</td>\n",
       "      <td>904013591</td>\n",
       "      <td>Sr. Network Engineer</td>\n",
       "      <td>MA</td>\n",
       "      <td>1545.0</td>\n",
       "      <td>M</td>\n",
       "      <td>Married</td>\n",
       "      <td>US Citizen</td>\n",
       "      <td>Future Start</td>\n",
       "      <td>IT/IS</td>\n",
       "      <td>27587.46</td>\n",
       "      <td>24</td>\n",
       "      <td>Asian</td>\n",
       "    </tr>\n",
       "    <tr>\n",
       "      <th>308</th>\n",
       "      <td>South, Joe</td>\n",
       "      <td>1308060959</td>\n",
       "      <td>Sr. Network Engineer</td>\n",
       "      <td>CT</td>\n",
       "      <td>6278.0</td>\n",
       "      <td>M</td>\n",
       "      <td>Single</td>\n",
       "      <td>US Citizen</td>\n",
       "      <td>Active</td>\n",
       "      <td>IT/IS</td>\n",
       "      <td>12126.53</td>\n",
       "      <td>31</td>\n",
       "      <td>White</td>\n",
       "    </tr>\n",
       "    <tr>\n",
       "      <th>309</th>\n",
       "      <td>Warfield, Sarah</td>\n",
       "      <td>1301052347</td>\n",
       "      <td>Sr. Network Engineer</td>\n",
       "      <td>MA</td>\n",
       "      <td>2453.0</td>\n",
       "      <td>F</td>\n",
       "      <td>Widowed</td>\n",
       "      <td>US Citizen</td>\n",
       "      <td>Active</td>\n",
       "      <td>IT/IS</td>\n",
       "      <td>37257.00</td>\n",
       "      <td>46</td>\n",
       "      <td>Asian</td>\n",
       "    </tr>\n",
       "  </tbody>\n",
       "</table>\n",
       "<p>310 rows × 13 columns</p>\n",
       "</div>"
      ],
      "text/plain": [
       "              Employee_Name       EmpID                  Position State  \\\n",
       "0                Brown, Mia  1103024456              Accountant I    MA   \n",
       "1      LaRotonda, William    1106026572              Accountant I    MA   \n",
       "2          Steans, Tyrone    1302053333              Accountant I    MA   \n",
       "3           Howard, Estelle  1211050782  Administrative Assistant    MA   \n",
       "4               Singh, Nan   1307059817  Administrative Assistant    MA   \n",
       "..                      ...         ...                       ...   ...   \n",
       "305          Daniele, Ann    1411071312      Sr. Network Engineer    CT   \n",
       "306          Lajiri,  Jyoti  1108028108      Sr. Network Engineer    MA   \n",
       "307  Semizoglou, Jeremiah     904013591      Sr. Network Engineer    MA   \n",
       "308              South, Joe  1308060959      Sr. Network Engineer    CT   \n",
       "309         Warfield, Sarah  1301052347      Sr. Network Engineer    MA   \n",
       "\n",
       "        Zip Gender MaritalDesc CitizenDesc      EmploymentStatus  \\\n",
       "0    1450.0      F     Married  US Citizen                Active   \n",
       "1    1460.0     M     Divorced  US Citizen                Active   \n",
       "2    2703.0     M       Single  US Citizen                Active   \n",
       "3    2170.0      F     Married  US Citizen  Terminated for Cause   \n",
       "4    2330.0      F      Single  US Citizen                Active   \n",
       "..      ...    ...         ...         ...                   ...   \n",
       "305  6033.0      F     Married  US Citizen      Leave of Absence   \n",
       "306  2169.0     M      Married  US Citizen      Leave of Absence   \n",
       "307  1545.0     M      Married  US Citizen          Future Start   \n",
       "308  6278.0     M       Single  US Citizen                Active   \n",
       "309  2453.0      F     Widowed  US Citizen                Active   \n",
       "\n",
       "        Department  Salaries  age                       Race  \n",
       "0    Admin Offices    674.28   28  Black or African American  \n",
       "1    Admin Offices    674.28   50                        NaN  \n",
       "2    Admin Offices    674.28   43                      White  \n",
       "3    Admin Offices       NaN   44                      White  \n",
       "4    Admin Offices  61089.35   33                      White  \n",
       "..             ...       ...  ...                        ...  \n",
       "305          IT/IS  37619.01   38                      White  \n",
       "306          IT/IS  27603.00   34                      White  \n",
       "307          IT/IS  27587.46   24                      Asian  \n",
       "308          IT/IS  12126.53   31                      White  \n",
       "309          IT/IS  37257.00   46                      Asian  \n",
       "\n",
       "[310 rows x 13 columns]"
      ]
     },
     "execution_count": 4,
     "metadata": {},
     "output_type": "execute_result"
    }
   ],
   "source": [
    "df"
   ]
  },
  {
   "cell_type": "code",
   "execution_count": 5,
   "id": "052f0b27",
   "metadata": {},
   "outputs": [
    {
     "data": {
      "text/plain": [
       "Employee_Name        0\n",
       "EmpID                0\n",
       "Position             3\n",
       "State                2\n",
       "Zip                  2\n",
       "Gender               7\n",
       "MaritalDesc          9\n",
       "CitizenDesc          3\n",
       "EmploymentStatus     0\n",
       "Department           5\n",
       "Salaries            12\n",
       "age                  0\n",
       "Race                 9\n",
       "dtype: int64"
      ]
     },
     "execution_count": 5,
     "metadata": {},
     "output_type": "execute_result"
    }
   ],
   "source": [
    "df.isna().sum()"
   ]
  },
  {
   "cell_type": "code",
   "execution_count": 4,
   "id": "c6706fa5",
   "metadata": {},
   "outputs": [],
   "source": [
    "df['Position'].fillna('Production Technician I',inplace= True)    #value filling for ---Position"
   ]
  },
  {
   "cell_type": "code",
   "execution_count": 5,
   "id": "775a771a",
   "metadata": {},
   "outputs": [
    {
     "data": {
      "text/plain": [
       "Employee_Name        0\n",
       "EmpID                0\n",
       "Position             0\n",
       "State                2\n",
       "Zip                  2\n",
       "Gender               7\n",
       "MaritalDesc          9\n",
       "CitizenDesc          3\n",
       "EmploymentStatus     0\n",
       "Department           5\n",
       "Salaries            12\n",
       "age                  0\n",
       "Race                 9\n",
       "dtype: int64"
      ]
     },
     "execution_count": 5,
     "metadata": {},
     "output_type": "execute_result"
    }
   ],
   "source": [
    "df.isnull().sum()"
   ]
  },
  {
   "cell_type": "code",
   "execution_count": 8,
   "id": "84f7e3ed",
   "metadata": {},
   "outputs": [],
   "source": [
    "df['State'].fillna('MA',inplace= True)     # value filling for --------- State"
   ]
  },
  {
   "cell_type": "code",
   "execution_count": 9,
   "id": "a1b13828",
   "metadata": {},
   "outputs": [
    {
     "data": {
      "text/plain": [
       "0    MA\n",
       "Name: State, dtype: object"
      ]
     },
     "execution_count": 9,
     "metadata": {},
     "output_type": "execute_result"
    }
   ],
   "source": [
    "df['State'].mode()"
   ]
  },
  {
   "cell_type": "markdown",
   "id": "5cd414ea",
   "metadata": {},
   "source": [
    "**filling method( bfill)**"
   ]
  },
  {
   "cell_type": "code",
   "execution_count": 15,
   "id": "2b394ee6",
   "metadata": {},
   "outputs": [
    {
     "name": "stderr",
     "output_type": "stream",
     "text": [
      "C:\\Users\\LENOVO\\AppData\\Local\\Temp\\ipykernel_1612\\2197935733.py:1: FutureWarning: Series.fillna with 'method' is deprecated and will raise in a future version. Use obj.ffill() or obj.bfill() instead.\n",
      "  df['Zip'].fillna(method = 'bfill',inplace = True)\n"
     ]
    }
   ],
   "source": [
    "df['Zip'].fillna(method = 'bfill',inplace = True)"
   ]
  },
  {
   "cell_type": "code",
   "execution_count": 18,
   "id": "42f220b4",
   "metadata": {},
   "outputs": [],
   "source": [
    "df['MaritalDesc'].fillna('Single',inplace= True)   # value fill"
   ]
  },
  {
   "cell_type": "code",
   "execution_count": 17,
   "id": "aa4cd9ac",
   "metadata": {},
   "outputs": [
    {
     "data": {
      "text/plain": [
       "0    Single\n",
       "Name: MaritalDesc, dtype: object"
      ]
     },
     "execution_count": 17,
     "metadata": {},
     "output_type": "execute_result"
    }
   ],
   "source": [
    "df['MaritalDesc'].mode()"
   ]
  },
  {
   "cell_type": "code",
   "execution_count": null,
   "id": "c631f306",
   "metadata": {},
   "outputs": [],
   "source": [
    "df['MaritalDesc'].fillna('Single',inplace= True)   # value filling for ------MaritalDesc"
   ]
  },
  {
   "cell_type": "code",
   "execution_count": 20,
   "id": "37691dc5",
   "metadata": {},
   "outputs": [
    {
     "data": {
      "text/plain": [
       "0    US Citizen\n",
       "Name: CitizenDesc, dtype: object"
      ]
     },
     "execution_count": 20,
     "metadata": {},
     "output_type": "execute_result"
    }
   ],
   "source": [
    "df['CitizenDesc'].mode()"
   ]
  },
  {
   "cell_type": "code",
   "execution_count": 20,
   "id": "c37db27c",
   "metadata": {},
   "outputs": [],
   "source": [
    "df['CitizenDesc'].fillna('US Citizen',inplace = True)   # value filling for ---- CitizenDesc"
   ]
  },
  {
   "cell_type": "code",
   "execution_count": 23,
   "id": "0d22960e",
   "metadata": {},
   "outputs": [],
   "source": [
    "df['Department'].fillna('Production',inplace = True)   "
   ]
  },
  {
   "cell_type": "code",
   "execution_count": 22,
   "id": "66ed519e",
   "metadata": {},
   "outputs": [
    {
     "data": {
      "text/plain": [
       "0    Production       \n",
       "Name: Department, dtype: object"
      ]
     },
     "execution_count": 22,
     "metadata": {},
     "output_type": "execute_result"
    }
   ],
   "source": [
    "df['Department'].mode()"
   ]
  },
  {
   "cell_type": "markdown",
   "id": "c973eac5",
   "metadata": {},
   "source": [
    "**filling method(ffill)**"
   ]
  },
  {
   "cell_type": "code",
   "execution_count": 28,
   "id": "94cfc61c",
   "metadata": {},
   "outputs": [
    {
     "name": "stderr",
     "output_type": "stream",
     "text": [
      "C:\\Users\\LENOVO\\AppData\\Local\\Temp\\ipykernel_1612\\2544603229.py:1: FutureWarning: Series.fillna with 'method' is deprecated and will raise in a future version. Use obj.ffill() or obj.bfill() instead.\n",
      "  df['Salaries'].fillna(method = 'ffill',inplace = True)\n"
     ]
    }
   ],
   "source": [
    "df['Salaries'].fillna(method = 'ffill',inplace = True)"
   ]
  },
  {
   "cell_type": "code",
   "execution_count": null,
   "id": "1eb21c8a",
   "metadata": {},
   "outputs": [],
   "source": []
  },
  {
   "cell_type": "code",
   "execution_count": 31,
   "id": "bbfd88c8",
   "metadata": {},
   "outputs": [],
   "source": [
    "df['Race'].fillna('White',inplace= True)  # filling missing value--for Race using statistical val."
   ]
  },
  {
   "cell_type": "code",
   "execution_count": 19,
   "id": "52d2a540",
   "metadata": {},
   "outputs": [
    {
     "data": {
      "text/plain": [
       "0    White\n",
       "Name: Race, dtype: object"
      ]
     },
     "execution_count": 19,
     "metadata": {},
     "output_type": "execute_result"
    }
   ],
   "source": [
    "df['Race'].mode()"
   ]
  },
  {
   "cell_type": "code",
   "execution_count": null,
   "id": "02fb6996",
   "metadata": {},
   "outputs": [],
   "source": []
  },
  {
   "cell_type": "code",
   "execution_count": 32,
   "id": "955c2b5d",
   "metadata": {
    "scrolled": true
   },
   "outputs": [
    {
     "data": {
      "text/plain": [
       "Employee_Name       0\n",
       "EmpID               0\n",
       "Position            0\n",
       "State               0\n",
       "Zip                 0\n",
       "Gender              0\n",
       "MaritalDesc         0\n",
       "CitizenDesc         0\n",
       "EmploymentStatus    0\n",
       "Department          0\n",
       "Salaries            0\n",
       "age                 0\n",
       "Race                0\n",
       "dtype: int64"
      ]
     },
     "execution_count": 32,
     "metadata": {},
     "output_type": "execute_result"
    }
   ],
   "source": [
    "df.isnull().sum()"
   ]
  },
  {
   "cell_type": "code",
   "execution_count": null,
   "id": "5cccf114",
   "metadata": {},
   "outputs": [],
   "source": []
  },
  {
   "cell_type": "markdown",
   "id": "7b233821",
   "metadata": {},
   "source": [
    "### B )Create pivot table for position and average salary."
   ]
  },
  {
   "cell_type": "code",
   "execution_count": 9,
   "id": "82ddaa0e",
   "metadata": {},
   "outputs": [
    {
     "data": {
      "text/html": [
       "<div>\n",
       "<style scoped>\n",
       "    .dataframe tbody tr th:only-of-type {\n",
       "        vertical-align: middle;\n",
       "    }\n",
       "\n",
       "    .dataframe tbody tr th {\n",
       "        vertical-align: top;\n",
       "    }\n",
       "\n",
       "    .dataframe thead th {\n",
       "        text-align: right;\n",
       "    }\n",
       "</style>\n",
       "<table border=\"1\" class=\"dataframe\">\n",
       "  <thead>\n",
       "    <tr style=\"text-align: right;\">\n",
       "      <th></th>\n",
       "      <th>Salaries</th>\n",
       "    </tr>\n",
       "    <tr>\n",
       "      <th>Position</th>\n",
       "      <th></th>\n",
       "    </tr>\n",
       "  </thead>\n",
       "  <tbody>\n",
       "    <tr>\n",
       "      <th>Accountant I</th>\n",
       "      <td>674.280000</td>\n",
       "    </tr>\n",
       "    <tr>\n",
       "      <th>Administrative Assistant</th>\n",
       "      <td>46747.685000</td>\n",
       "    </tr>\n",
       "    <tr>\n",
       "      <th>Area Sales Manager</th>\n",
       "      <td>42048.275769</td>\n",
       "    </tr>\n",
       "    <tr>\n",
       "      <th>BI Developer</th>\n",
       "      <td>37449.776667</td>\n",
       "    </tr>\n",
       "    <tr>\n",
       "      <th>BI Director</th>\n",
       "      <td>4160.000000</td>\n",
       "    </tr>\n",
       "    <tr>\n",
       "      <th>CIO</th>\n",
       "      <td>26418.010000</td>\n",
       "    </tr>\n",
       "    <tr>\n",
       "      <th>Data Analyst</th>\n",
       "      <td>37772.945714</td>\n",
       "    </tr>\n",
       "    <tr>\n",
       "      <th>Data Analyst</th>\n",
       "      <td>42304.750000</td>\n",
       "    </tr>\n",
       "    <tr>\n",
       "      <th>Data Architect</th>\n",
       "      <td>90016.010000</td>\n",
       "    </tr>\n",
       "    <tr>\n",
       "      <th>Database Administrator</th>\n",
       "      <td>33813.996000</td>\n",
       "    </tr>\n",
       "    <tr>\n",
       "      <th>Director of Sales</th>\n",
       "      <td>27595.700000</td>\n",
       "    </tr>\n",
       "    <tr>\n",
       "      <th>Enterprise Architect</th>\n",
       "      <td>5802.000000</td>\n",
       "    </tr>\n",
       "    <tr>\n",
       "      <th>IT Director</th>\n",
       "      <td>36741.000000</td>\n",
       "    </tr>\n",
       "    <tr>\n",
       "      <th>IT Manager - DB</th>\n",
       "      <td>49791.240000</td>\n",
       "    </tr>\n",
       "    <tr>\n",
       "      <th>IT Manager - Infra</th>\n",
       "      <td>8997.890000</td>\n",
       "    </tr>\n",
       "    <tr>\n",
       "      <th>IT Manager - Support</th>\n",
       "      <td>2143.580000</td>\n",
       "    </tr>\n",
       "    <tr>\n",
       "      <th>IT Support</th>\n",
       "      <td>48646.718571</td>\n",
       "    </tr>\n",
       "    <tr>\n",
       "      <th>Network Engineer</th>\n",
       "      <td>35897.950000</td>\n",
       "    </tr>\n",
       "    <tr>\n",
       "      <th>President &amp; CEO</th>\n",
       "      <td>52633.500000</td>\n",
       "    </tr>\n",
       "    <tr>\n",
       "      <th>Principal Data Architect</th>\n",
       "      <td>24828.700000</td>\n",
       "    </tr>\n",
       "    <tr>\n",
       "      <th>Production Manager</th>\n",
       "      <td>51508.537692</td>\n",
       "    </tr>\n",
       "    <tr>\n",
       "      <th>Production Technician I</th>\n",
       "      <td>35119.069231</td>\n",
       "    </tr>\n",
       "    <tr>\n",
       "      <th>Production Technician II</th>\n",
       "      <td>33803.863333</td>\n",
       "    </tr>\n",
       "    <tr>\n",
       "      <th>Sales Manager</th>\n",
       "      <td>34093.246667</td>\n",
       "    </tr>\n",
       "    <tr>\n",
       "      <th>Senior BI Developer</th>\n",
       "      <td>71293.676667</td>\n",
       "    </tr>\n",
       "    <tr>\n",
       "      <th>Shared Services Manager</th>\n",
       "      <td>45262.975000</td>\n",
       "    </tr>\n",
       "    <tr>\n",
       "      <th>Software Engineer</th>\n",
       "      <td>39892.308889</td>\n",
       "    </tr>\n",
       "    <tr>\n",
       "      <th>Software Engineering Manager</th>\n",
       "      <td>40208.000000</td>\n",
       "    </tr>\n",
       "    <tr>\n",
       "      <th>Sr. Accountant</th>\n",
       "      <td>27349.755000</td>\n",
       "    </tr>\n",
       "    <tr>\n",
       "      <th>Sr. DBA</th>\n",
       "      <td>31954.975000</td>\n",
       "    </tr>\n",
       "    <tr>\n",
       "      <th>Sr. Network Engineer</th>\n",
       "      <td>28438.600000</td>\n",
       "    </tr>\n",
       "  </tbody>\n",
       "</table>\n",
       "</div>"
      ],
      "text/plain": [
       "                                  Salaries\n",
       "Position                                  \n",
       "Accountant I                    674.280000\n",
       "Administrative Assistant      46747.685000\n",
       "Area Sales Manager            42048.275769\n",
       "BI Developer                  37449.776667\n",
       "BI Director                    4160.000000\n",
       "CIO                           26418.010000\n",
       "Data Analyst                  37772.945714\n",
       "Data Analyst                  42304.750000\n",
       "Data Architect                90016.010000\n",
       "Database Administrator        33813.996000\n",
       "Director of Sales             27595.700000\n",
       "Enterprise Architect           5802.000000\n",
       "IT Director                   36741.000000\n",
       "IT Manager - DB               49791.240000\n",
       "IT Manager - Infra             8997.890000\n",
       "IT Manager - Support           2143.580000\n",
       "IT Support                    48646.718571\n",
       "Network Engineer              35897.950000\n",
       "President & CEO               52633.500000\n",
       "Principal Data Architect      24828.700000\n",
       "Production Manager            51508.537692\n",
       "Production Technician I       35119.069231\n",
       "Production Technician II      33803.863333\n",
       "Sales Manager                 34093.246667\n",
       "Senior BI Developer           71293.676667\n",
       "Shared Services Manager       45262.975000\n",
       "Software Engineer             39892.308889\n",
       "Software Engineering Manager  40208.000000\n",
       "Sr. Accountant                27349.755000\n",
       "Sr. DBA                       31954.975000\n",
       "Sr. Network Engineer          28438.600000"
      ]
     },
     "execution_count": 9,
     "metadata": {},
     "output_type": "execute_result"
    }
   ],
   "source": [
    "df.pivot_table(values= \"Salaries\", index= 'Position',aggfunc ='mean')"
   ]
  },
  {
   "cell_type": "code",
   "execution_count": null,
   "id": "4d4568f0",
   "metadata": {},
   "outputs": [],
   "source": []
  },
  {
   "cell_type": "markdown",
   "id": "7d2faee8",
   "metadata": {},
   "source": [
    "### C) Group the data using group by as per gender and average age."
   ]
  },
  {
   "cell_type": "code",
   "execution_count": 17,
   "id": "bb408b98",
   "metadata": {},
   "outputs": [
    {
     "data": {
      "text/plain": [
       "Gender\n",
       "F     38.738372\n",
       "M     38.732824\n",
       "Name: age, dtype: float64"
      ]
     },
     "execution_count": 17,
     "metadata": {},
     "output_type": "execute_result"
    }
   ],
   "source": [
    "grp = df.groupby(by ='Gender')['age'].mean()\n",
    "grp"
   ]
  },
  {
   "cell_type": "code",
   "execution_count": null,
   "id": "81802d69",
   "metadata": {},
   "outputs": [],
   "source": []
  }
 ],
 "metadata": {
  "kernelspec": {
   "display_name": "Python 3 (ipykernel)",
   "language": "python",
   "name": "python3"
  },
  "language_info": {
   "codemirror_mode": {
    "name": "ipython",
    "version": 3
   },
   "file_extension": ".py",
   "mimetype": "text/x-python",
   "name": "python",
   "nbconvert_exporter": "python",
   "pygments_lexer": "ipython3",
   "version": "3.11.4"
  }
 },
 "nbformat": 4,
 "nbformat_minor": 5
}
