{
 "cells": [
  {
   "cell_type": "markdown",
   "id": "bcb3976f",
   "metadata": {},
   "source": [
    "Task 1: `Counting Numbers`\n",
    "    \n",
    "    write a program that prints the numbers from 1 to 10, each on a new line.\n",
    "\n",
    "\n",
    "Task 2: `Even Numbers`\n",
    "\n",
    "    write a program that prints the even numbers from 1 to 20, each on a new line.\n",
    "\n",
    "\n",
    "Task 3: `Square Numbers`\n",
    "\n",
    "    Write a program that calculates and prints the square of each number from 1 to 5.\n",
    "\n",
    "\n",
    "Task 4: `Multiples of Three`\n",
    "\n",
    "    write a program that prints the multiples of 3 from 3 to 30, each on a new line.\n",
    "\n",
    "Task 5: `Reverse Counting`\n",
    "\n",
    "    Write a program that prints the numbers from 10 to 1 in descending order, each on a new line."
   ]
  },
  {
   "cell_type": "markdown",
   "id": "0bd7d471",
   "metadata": {},
   "source": [
    "#### Task 1. counting numbers"
   ]
  },
  {
   "cell_type": "code",
   "execution_count": 2,
   "id": "12286185",
   "metadata": {},
   "outputs": [
    {
     "name": "stdout",
     "output_type": "stream",
     "text": [
      "1\n",
      "2\n",
      "3\n",
      "4\n",
      "5\n",
      "6\n",
      "7\n",
      "8\n",
      "9\n",
      "10\n"
     ]
    }
   ],
   "source": [
    "for i in range(1,11):\n",
    "    print(i)"
   ]
  },
  {
   "cell_type": "markdown",
   "id": "8fefe4aa",
   "metadata": {},
   "source": [
    "#### Task 2. Even numbers"
   ]
  },
  {
   "cell_type": "code",
   "execution_count": 5,
   "id": "7ed8a515",
   "metadata": {},
   "outputs": [
    {
     "name": "stdout",
     "output_type": "stream",
     "text": [
      "2\n",
      "4\n",
      "6\n",
      "8\n",
      "10\n",
      "12\n",
      "14\n",
      "16\n",
      "18\n",
      "20\n"
     ]
    }
   ],
   "source": [
    "n = 20\n",
    "for i in range(1,n+1):\n",
    "    if i % 2 == 0:\n",
    "        print(i)"
   ]
  },
  {
   "cell_type": "markdown",
   "id": "222fe0a7",
   "metadata": {},
   "source": [
    "#### Task 3. square numbers"
   ]
  },
  {
   "cell_type": "code",
   "execution_count": 24,
   "id": "25b3aba6",
   "metadata": {},
   "outputs": [
    {
     "name": "stdout",
     "output_type": "stream",
     "text": [
      "1\n",
      "4\n",
      "9\n",
      "16\n",
      "25\n"
     ]
    }
   ],
   "source": [
    "n = 5\n",
    "for i in range(1,6):\n",
    "    print(i**2)"
   ]
  },
  {
   "cell_type": "markdown",
   "id": "c55b542f",
   "metadata": {},
   "source": [
    "#### Task 4. multiples of 3"
   ]
  },
  {
   "cell_type": "code",
   "execution_count": 27,
   "id": "70493b17",
   "metadata": {},
   "outputs": [
    {
     "name": "stdout",
     "output_type": "stream",
     "text": [
      "3\n",
      "6\n",
      "9\n",
      "12\n",
      "15\n",
      "18\n",
      "21\n",
      "24\n",
      "27\n",
      "30\n"
     ]
    }
   ],
   "source": [
    "for i in range(1,11):\n",
    "    print(i*3)"
   ]
  },
  {
   "cell_type": "markdown",
   "id": "f7284430",
   "metadata": {},
   "source": [
    "#### Task 5. Reverse counting"
   ]
  },
  {
   "cell_type": "code",
   "execution_count": 2,
   "id": "4da138c4",
   "metadata": {},
   "outputs": [
    {
     "name": "stdout",
     "output_type": "stream",
     "text": [
      "10\n",
      "9\n",
      "8\n",
      "7\n",
      "6\n",
      "5\n",
      "4\n",
      "3\n",
      "2\n",
      "1\n"
     ]
    }
   ],
   "source": [
    "a = 10\n",
    "\n",
    "while a >=1:\n",
    "        print(a)\n",
    "        a = a - 1"
   ]
  },
  {
   "cell_type": "code",
   "execution_count": null,
   "id": "158fdaa6",
   "metadata": {},
   "outputs": [],
   "source": []
  }
 ],
 "metadata": {
  "kernelspec": {
   "display_name": "Python 3 (ipykernel)",
   "language": "python",
   "name": "python3"
  },
  "language_info": {
   "codemirror_mode": {
    "name": "ipython",
    "version": 3
   },
   "file_extension": ".py",
   "mimetype": "text/x-python",
   "name": "python",
   "nbconvert_exporter": "python",
   "pygments_lexer": "ipython3",
   "version": "3.11.4"
  }
 },
 "nbformat": 4,
 "nbformat_minor": 5
}
