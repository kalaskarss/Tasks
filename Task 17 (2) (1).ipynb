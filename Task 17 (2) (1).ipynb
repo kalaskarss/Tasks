{
 "cells": [
  {
   "cell_type": "markdown",
   "id": "8dc8a778",
   "metadata": {},
   "source": [
    "\n",
    "`use context manager`\n",
    "\n",
    "**Create a file**\n",
    "Write a Python program that creates a text file named \"data.txt\" and add data about python programming (should contain at least 5 lines)\n",
    "\n",
    "**Read and Display File Contents**\n",
    "Write a Python program that reads a text file named \"data.txt\" and displays its contents on the screen.\n",
    "\n",
    "**Count Words in a File**\n",
    "Write a Python program that reads a text file named \"data.txt\" and counts the total number of words in the file. Display the word count on the screen.\n",
    "\n",
    "**Search and Replace**\n",
    "Create a Python program that reads a text file named \"data.txt\" and asks the user to enter a word to search for. If the word is found in the file, replace all occurrences of the word with a new word provided by the user.\n",
    "\n",
    "**Append to a File**\n",
    "Write a Python program that prompts the user to enter a sentence. Append this sentence to an existing file named \"notes.txt\". Make sure the newly added sentence starts on a new line.\n",
    "\n",
    "\n"
   ]
  },
  {
   "cell_type": "markdown",
   "id": "aae92ac8",
   "metadata": {},
   "source": [
    "### context manager"
   ]
  },
  {
   "cell_type": "markdown",
   "id": "1c2f4951",
   "metadata": {},
   "source": [
    "#### 1.create a file"
   ]
  },
  {
   "cell_type": "code",
   "execution_count": 1,
   "id": "e66d60ae",
   "metadata": {},
   "outputs": [],
   "source": [
    "with open('data.txt','w+') as f10:\n",
    "    f10.write(\"Python is a high-level, general-purpose programming language. Its design philosophy emphasizes code readability with the use of significant indentation. Python is dynamically typed and garbage-collected. It supports multiple programming paradigms, including structured, object-oriented and functional programming.\")"
   ]
  },
  {
   "cell_type": "markdown",
   "id": "f6be88f0",
   "metadata": {},
   "source": [
    "#### 2.Read and Display File Contents "
   ]
  },
  {
   "cell_type": "code",
   "execution_count": 34,
   "id": "707f0e27",
   "metadata": {},
   "outputs": [
    {
     "name": "stdout",
     "output_type": "stream",
     "text": [
      "Python is a high-level, general-purpose programming language. Its design philosophy emphasizes code readability with the use of significant indentation. Python is dynamically typed and garbage-collected. It supports multiple programming paradigms, including structured, object-oriented and functional programming.\n"
     ]
    }
   ],
   "source": [
    "with open('data.txt') as f10:\n",
    "    print(f10.read())"
   ]
  },
  {
   "cell_type": "markdown",
   "id": "c8ab4867",
   "metadata": {},
   "source": [
    "#### 3.Count Words in a File"
   ]
  },
  {
   "cell_type": "code",
   "execution_count": 12,
   "id": "4d87aa9e",
   "metadata": {},
   "outputs": [],
   "source": [
    "f11 = open('data.txt','r+')"
   ]
  },
  {
   "cell_type": "code",
   "execution_count": 13,
   "id": "7255a70e",
   "metadata": {},
   "outputs": [],
   "source": [
    "f11.seek(0)\n",
    "string = f11.read()"
   ]
  },
  {
   "cell_type": "code",
   "execution_count": 14,
   "id": "473a07b5",
   "metadata": {},
   "outputs": [
    {
     "data": {
      "text/plain": [
       "'Python is a high-level, general-purpose programming language. Its design philosophy emphasizes code readability with the use of significant indentation. Python is dynamically typed and garbage-collected. It supports multiple programming paradigms, including structured, object-oriented and functional programming.'"
      ]
     },
     "execution_count": 14,
     "metadata": {},
     "output_type": "execute_result"
    }
   ],
   "source": [
    "string"
   ]
  },
  {
   "cell_type": "code",
   "execution_count": 15,
   "id": "6a9c0a7f",
   "metadata": {},
   "outputs": [
    {
     "data": {
      "text/plain": [
       "36"
      ]
     },
     "execution_count": 15,
     "metadata": {},
     "output_type": "execute_result"
    }
   ],
   "source": [
    "len(string.split())"
   ]
  },
  {
   "cell_type": "markdown",
   "id": "81fc5fc3",
   "metadata": {},
   "source": [
    "#### 4. Search and Replace"
   ]
  },
  {
   "cell_type": "code",
   "execution_count": 25,
   "id": "8fab80af",
   "metadata": {},
   "outputs": [
    {
     "name": "stdout",
     "output_type": "stream",
     "text": [
      "Enter a word to search :Python\n",
      "Enter a word to replace :python\n"
     ]
    }
   ],
   "source": [
    "word = input(\"Enter a word to search :\")\n",
    "word2 = input(\"Enter a word to replace :\")"
   ]
  },
  {
   "cell_type": "code",
   "execution_count": null,
   "id": "089dca70",
   "metadata": {},
   "outputs": [],
   "source": []
  },
  {
   "cell_type": "code",
   "execution_count": 39,
   "id": "9231650e",
   "metadata": {},
   "outputs": [
    {
     "data": {
      "text/plain": [
       "'python is a high-level, general-purpose programming language. Its design philosophy emphasizes code readability with the use of significant indentation. python is dynamically typed and garbage-collected. It supports multiple programming paradigms, including structured, object-oriented and functional programming.'"
      ]
     },
     "execution_count": 39,
     "metadata": {},
     "output_type": "execute_result"
    }
   ],
   "source": [
    "string.replace(\"Python\",\"python\")"
   ]
  },
  {
   "cell_type": "code",
   "execution_count": null,
   "id": "128e5d1b",
   "metadata": {},
   "outputs": [],
   "source": []
  },
  {
   "cell_type": "markdown",
   "id": "0691fb60",
   "metadata": {},
   "source": [
    "#### Append to a File\n",
    "\n",
    "Write a Python program that prompts the user to enter a sentence. Append this sentence to an existing file named \"notes.txt\". Make sure the newly added sentence starts on a new line."
   ]
  },
  {
   "cell_type": "code",
   "execution_count": 22,
   "id": "546372bf",
   "metadata": {},
   "outputs": [
    {
     "name": "stdout",
     "output_type": "stream",
     "text": [
      "enter a sentence: Python was developed by Guido Van Rossam\n"
     ]
    }
   ],
   "source": [
    "line = input(\"enter a sentence: \")\n",
    "\n",
    "with open('notes.txt','a+') as f14:\n",
    "    f14.write(line)  "
   ]
  },
  {
   "cell_type": "code",
   "execution_count": 23,
   "id": "e3f92dad",
   "metadata": {},
   "outputs": [
    {
     "name": "stdout",
     "output_type": "stream",
     "text": [
      "Python was developed by Guido Van Rossam\n"
     ]
    }
   ],
   "source": [
    "f14 = open('notes.txt','r')\n",
    "f14.seek(0)\n",
    "print(f14.read())"
   ]
  },
  {
   "cell_type": "code",
   "execution_count": null,
   "id": "3b75f974",
   "metadata": {},
   "outputs": [],
   "source": []
  }
 ],
 "metadata": {
  "kernelspec": {
   "display_name": "Python 3 (ipykernel)",
   "language": "python",
   "name": "python3"
  },
  "language_info": {
   "codemirror_mode": {
    "name": "ipython",
    "version": 3
   },
   "file_extension": ".py",
   "mimetype": "text/x-python",
   "name": "python",
   "nbconvert_exporter": "python",
   "pygments_lexer": "ipython3",
   "version": "3.11.4"
  }
 },
 "nbformat": 4,
 "nbformat_minor": 5
}
