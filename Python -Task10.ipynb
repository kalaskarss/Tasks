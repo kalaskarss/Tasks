{
 "cells": [
  {
   "cell_type": "code",
   "execution_count": null,
   "id": "400b82d9",
   "metadata": {},
   "outputs": [],
   "source": []
  },
  {
   "cell_type": "markdown",
   "id": "6a089314",
   "metadata": {},
   "source": [
    "1. **Basic List Comprehension:**\n",
    "   Write a Python program that uses list comprehension to generate a list of cubes of the first 10 positive integers.\n",
    "\n",
    "2. **Filtering with List Comprehension:**\n",
    "   Given a list of integers, create a new list using list comprehension that contains only the multiple of 3 and 5 from the original list.\n",
    "\n",
    "3. **String Manipulation with List Comprehension:**\n",
    "   Given a list of strings, create a new list using list comprehension that contains the lengths of each string.\n",
    "\n",
    "\n",
    "4. **List Comprehension with Conditionals:**\n",
    "   Given a list of numbers, create a new list using list comprehension that contains the squares of even numbers \n",
    "\n",
    "\n",
    "5. **Pattern Printing**\n",
    "\n",
    "    Write a Python program that takes an integer 'n' as input and prints the following pattern:\n",
    "\n",
    "    For `n = 4`, the pattern should look like this:\n",
    "\n",
    "    ```\n",
    "    1\n",
    "    1 2\n",
    "    1 2 3\n",
    "    1 2 3 4\n",
    "    ```\n",
    "\n",
    "6. **Multiplication Table**\n",
    "\n",
    "      Create a Python program that generates and prints a multiplication table for a given number 'n'. The table should include values from 1 to 10.\n",
    "\n",
    "For example, if `n = 5`, the output should be:\n",
    "\n",
    "    ```\n",
    "    5 x 1 = 5\n",
    "    5 x 2 = 10\n",
    "    5 x 3 = 15\n",
    "    5 x 4 = 20\n",
    "    5 x 5 = 25\n",
    "    5 x 6 = 30\n",
    "    5 x 7 = 35\n",
    "    5 x 8 = 40\n",
    "    5 x 9 = 45\n",
    "    5 x 10 = 50\n",
    "    ```\n",
    "\n",
    "7. **Star Patterns**\n",
    "\n",
    "    Write a Python program that takes an integer 'n' as input and prints the following patterns:\n",
    "\n",
    "    a) Right-angled triangle pattern:\n",
    "    ```\n",
    "    *\n",
    "    **\n",
    "    ***\n",
    "    ****\n",
    "    *****\n",
    "    ```\n",
    "\n",
    "    b) Inverted right-angled triangle pattern:\n",
    "    ```\n",
    "    *****\n",
    "    ****\n",
    "    ***\n",
    "    **\n",
    "    *\n",
    "    ```\n",
    "\n",
    "\n",
    "8. **Number Pyramid**\n",
    "\n",
    "    Create a Python program that takes an integer 'n' as input and prints a number pyramid as shown below:\n",
    "\n",
    "    For `n = 4`, the output should be:\n",
    "\n",
    "    ```\n",
    "       1\n",
    "      212\n",
    "     32123\n",
    "    4321234\n",
    "    ```\n",
    "\n",
    "\n",
    "\n"
   ]
  },
  {
   "cell_type": "markdown",
   "id": "22f6dd8b",
   "metadata": {},
   "source": [
    "#### Task 1. Basic list comprehension"
   ]
  },
  {
   "cell_type": "code",
   "execution_count": 1,
   "id": "fd33a959",
   "metadata": {},
   "outputs": [
    {
     "data": {
      "text/plain": [
       "[0, 1, 8, 27, 64, 125, 216, 343, 512, 729]"
      ]
     },
     "execution_count": 1,
     "metadata": {},
     "output_type": "execute_result"
    }
   ],
   "source": [
    "[i** 3 for i in range(0,10)]"
   ]
  },
  {
   "cell_type": "markdown",
   "id": "12d1381b",
   "metadata": {},
   "source": [
    "#### Task 2. filtering with list comprehension"
   ]
  },
  {
   "cell_type": "code",
   "execution_count": 4,
   "id": "2e186f4a",
   "metadata": {},
   "outputs": [],
   "source": [
    "list1 = [3,4,5,6,9,10,12,15,20]"
   ]
  },
  {
   "cell_type": "code",
   "execution_count": 5,
   "id": "053b92c0",
   "metadata": {},
   "outputs": [
    {
     "data": {
      "text/plain": [
       "[3, 5, 6, 9, 10, 12, 15, 20]"
      ]
     },
     "execution_count": 5,
     "metadata": {},
     "output_type": "execute_result"
    }
   ],
   "source": [
    "[ i for i in list1 if i % 3 == 0 or i % 5 ==0]"
   ]
  },
  {
   "cell_type": "markdown",
   "id": "dc0f462a",
   "metadata": {},
   "source": [
    "#### Task 3. string manipulation with list comprehension"
   ]
  },
  {
   "cell_type": "code",
   "execution_count": 34,
   "id": "96ddfb03",
   "metadata": {},
   "outputs": [],
   "source": [
    "list1 = [\"Hello\",\"welcome\",\"hi\",\"how are you\"]"
   ]
  },
  {
   "cell_type": "code",
   "execution_count": 35,
   "id": "0a6f4e3a",
   "metadata": {},
   "outputs": [
    {
     "data": {
      "text/plain": [
       "[5, 7, 2, 11]"
      ]
     },
     "execution_count": 35,
     "metadata": {},
     "output_type": "execute_result"
    }
   ],
   "source": [
    "len_str = [len(i) for i in list1]\n",
    "len_str"
   ]
  },
  {
   "cell_type": "markdown",
   "id": "652c31cf",
   "metadata": {},
   "source": [
    "#### Task 4. list comprehension with conditional"
   ]
  },
  {
   "cell_type": "code",
   "execution_count": 35,
   "id": "0165edac",
   "metadata": {},
   "outputs": [],
   "source": [
    "list1 =[2,4,6,7,8,9,10,11,12]"
   ]
  },
  {
   "cell_type": "code",
   "execution_count": 36,
   "id": "5f19fc90",
   "metadata": {},
   "outputs": [
    {
     "data": {
      "text/plain": [
       "[4, 16, 36, 64, 100, 144]"
      ]
     },
     "execution_count": 36,
     "metadata": {},
     "output_type": "execute_result"
    }
   ],
   "source": [
    "[i ** 2 for i in list1 if i % 2 == 0 ]"
   ]
  },
  {
   "cell_type": "markdown",
   "id": "3792a9fc",
   "metadata": {},
   "source": [
    "#### Task. 5 pattern printing"
   ]
  },
  {
   "cell_type": "code",
   "execution_count": 20,
   "id": "02d4539a",
   "metadata": {},
   "outputs": [
    {
     "name": "stdout",
     "output_type": "stream",
     "text": [
      "\n",
      "\n",
      "1 \n",
      "\n",
      "1 2 \n",
      "\n",
      "1 2 3 \n",
      "\n",
      "1 2 3 4 "
     ]
    }
   ],
   "source": [
    "n = 4\n",
    "for i in range(1,n+1):\n",
    "    print(\"\\n\")\n",
    "    for j in range(1, i+1):\n",
    "        print(j, end =' ')"
   ]
  },
  {
   "cell_type": "code",
   "execution_count": null,
   "id": "70c28827",
   "metadata": {},
   "outputs": [],
   "source": []
  },
  {
   "cell_type": "markdown",
   "id": "005d8071",
   "metadata": {},
   "source": [
    "#### Task 6. Multiplication Table"
   ]
  },
  {
   "cell_type": "code",
   "execution_count": 14,
   "id": "472394a7",
   "metadata": {},
   "outputs": [
    {
     "name": "stdout",
     "output_type": "stream",
     "text": [
      "5 x 1 = 5\n",
      "\t\n",
      "5 x 2 = 10\n",
      "\t\n",
      "5 x 3 = 15\n",
      "\t\n",
      "5 x 4 = 20\n",
      "\t\n",
      "5 x 5 = 25\n",
      "\t\n",
      "5 x 6 = 30\n",
      "\t\n",
      "5 x 7 = 35\n",
      "\t\n",
      "5 x 8 = 40\n",
      "\t\n",
      "5 x 9 = 45\n",
      "\t\n",
      "5 x 10 = 50\n",
      "\t\n"
     ]
    }
   ],
   "source": [
    "n = 5\n",
    "for i in range(1,11):\n",
    "        print(f\"{n} x {i} = {n * i}\")\n",
    "        print('\\t')"
   ]
  },
  {
   "cell_type": "code",
   "execution_count": null,
   "id": "f1e67375",
   "metadata": {},
   "outputs": [],
   "source": []
  },
  {
   "cell_type": "markdown",
   "id": "de91b0c3",
   "metadata": {},
   "source": [
    "#### Task. 7. star pattern"
   ]
  },
  {
   "cell_type": "code",
   "execution_count": null,
   "id": "f6d56e6f",
   "metadata": {},
   "outputs": [],
   "source": [
    "#Right angled tringle pattern"
   ]
  },
  {
   "cell_type": "code",
   "execution_count": 38,
   "id": "648dee20",
   "metadata": {},
   "outputs": [
    {
     "name": "stdout",
     "output_type": "stream",
     "text": [
      "*\n",
      "**\n",
      "***\n",
      "****\n",
      "*****\n"
     ]
    }
   ],
   "source": [
    "n = 6\n",
    "for i in range(1,n):\n",
    "    print(\"*\" * i)"
   ]
  },
  {
   "cell_type": "markdown",
   "id": "6f80e821",
   "metadata": {},
   "source": [
    "b) Inverted right-angled triangle pattern:"
   ]
  },
  {
   "cell_type": "code",
   "execution_count": 39,
   "id": "bfa21848",
   "metadata": {},
   "outputs": [
    {
     "name": "stdout",
     "output_type": "stream",
     "text": [
      "******\n",
      "*****\n",
      "****\n",
      "***\n",
      "**\n",
      "*\n"
     ]
    }
   ],
   "source": [
    "for i in range(n,0,-1):     #\n",
    "    print(\"*\" * i )"
   ]
  },
  {
   "cell_type": "code",
   "execution_count": null,
   "id": "60d1d6dc",
   "metadata": {},
   "outputs": [],
   "source": []
  },
  {
   "cell_type": "markdown",
   "id": "0755014e",
   "metadata": {},
   "source": [
    "#### Task 8. Number pyramid"
   ]
  },
  {
   "cell_type": "markdown",
   "id": "9ae93936",
   "metadata": {},
   "source": [
    "Create a Python program that takes an integer 'n' as input and prints a number pyramid as shown below:\n",
    "\n",
    "For n = 4, the output should be:"
   ]
  },
  {
   "cell_type": "code",
   "execution_count": 3,
   "id": "8fc0c117",
   "metadata": {},
   "outputs": [
    {
     "name": "stdout",
     "output_type": "stream",
     "text": [
      "   1\n",
      "  212\n",
      " 32123\n",
      "4321234\n"
     ]
    }
   ],
   "source": [
    "n = 4\n",
    "\n",
    "for i in range (1,n+1):\n",
    "    for j in range (n,i,-1):\n",
    "        print(' ',end = '')\n",
    "        \n",
    "    for j in range(i,0,-1):\n",
    "        print(j,end = '')\n",
    "        \n",
    "    for j in range (2,i+1):\n",
    "        print(j,end='')\n",
    "        \n",
    "    print()"
   ]
  },
  {
   "cell_type": "code",
   "execution_count": null,
   "id": "637583d5",
   "metadata": {},
   "outputs": [],
   "source": []
  }
 ],
 "metadata": {
  "kernelspec": {
   "display_name": "Python 3 (ipykernel)",
   "language": "python",
   "name": "python3"
  },
  "language_info": {
   "codemirror_mode": {
    "name": "ipython",
    "version": 3
   },
   "file_extension": ".py",
   "mimetype": "text/x-python",
   "name": "python",
   "nbconvert_exporter": "python",
   "pygments_lexer": "ipython3",
   "version": "3.11.4"
  }
 },
 "nbformat": 4,
 "nbformat_minor": 5
}
