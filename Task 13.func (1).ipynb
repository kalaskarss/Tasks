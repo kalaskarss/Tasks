{
 "cells": [
  {
   "cell_type": "markdown",
   "id": "89ffda57",
   "metadata": {},
   "source": [
    "1. Write a function called \"add_numbers\" that takes two integers as input and returns their sum.\n",
    "\n",
    "2. Write a function called \"multiply_numbers\" that takes two integers as input and returns their product.\n",
    "\n",
    "3. Write a function called \"calculate_average\" that takes a list of numbers as input and returns the average of thosenumbers.\n",
    "\n",
    "4. Write a function called \"is_even\" that takes an integer as input and returns True if the number is even, and False otherwise.\n",
    "\n",
    "5. Write a function called \"reverse_string\" that takes a string as input and returns the reverse of that string.\n",
    "\n",
    "6. Write a function called \"count_vowels\" that takes a string as input and returns the number of vowels (a, e, i, o, u) in that string.\n",
    "\n",
    "7. Write a function called \"find_max\" that takes a list of numbers as input and returns the maximum value in that list.\n",
    "\n",
    "8. Write a function called \"find_min\" that takes a list of numbers as input and returns the minimum value in that list."
   ]
  },
  {
   "cell_type": "markdown",
   "id": "95946c69",
   "metadata": {},
   "source": [
    "### task 1."
   ]
  },
  {
   "cell_type": "code",
   "execution_count": 1,
   "id": "0333756a",
   "metadata": {},
   "outputs": [],
   "source": [
    "def add_numbers(x,y):\n",
    "    return(x + y)"
   ]
  },
  {
   "cell_type": "code",
   "execution_count": 2,
   "id": "96675a3e",
   "metadata": {},
   "outputs": [
    {
     "data": {
      "text/plain": [
       "30"
      ]
     },
     "execution_count": 2,
     "metadata": {},
     "output_type": "execute_result"
    }
   ],
   "source": [
    "add_numbers(10,20)"
   ]
  },
  {
   "cell_type": "markdown",
   "id": "43d6a76e",
   "metadata": {},
   "source": [
    "#### task2."
   ]
  },
  {
   "cell_type": "code",
   "execution_count": 5,
   "id": "9a8cd081",
   "metadata": {},
   "outputs": [],
   "source": [
    "def multiply_numbers(a,b):\n",
    "    return(a*b)"
   ]
  },
  {
   "cell_type": "code",
   "execution_count": 6,
   "id": "85e39e1f",
   "metadata": {},
   "outputs": [
    {
     "data": {
      "text/plain": [
       "24"
      ]
     },
     "execution_count": 6,
     "metadata": {},
     "output_type": "execute_result"
    }
   ],
   "source": [
    "multiply_numbers(4,6)"
   ]
  },
  {
   "cell_type": "markdown",
   "id": "94a8299f",
   "metadata": {},
   "source": [
    "#### Task3."
   ]
  },
  {
   "cell_type": "code",
   "execution_count": 9,
   "id": "dcd60b80",
   "metadata": {},
   "outputs": [],
   "source": [
    "def calculate_average():\n",
    "    return(sum(num)/len(num))\n",
    "    "
   ]
  },
  {
   "cell_type": "code",
   "execution_count": 10,
   "id": "1d489414",
   "metadata": {},
   "outputs": [],
   "source": [
    "num = [1,2,3,4]"
   ]
  },
  {
   "cell_type": "code",
   "execution_count": 11,
   "id": "d4b0e52d",
   "metadata": {},
   "outputs": [
    {
     "data": {
      "text/plain": [
       "4"
      ]
     },
     "execution_count": 11,
     "metadata": {},
     "output_type": "execute_result"
    }
   ],
   "source": [
    "len(num)"
   ]
  },
  {
   "cell_type": "code",
   "execution_count": 12,
   "id": "7ea5b1dd",
   "metadata": {},
   "outputs": [
    {
     "data": {
      "text/plain": [
       "2.5"
      ]
     },
     "execution_count": 12,
     "metadata": {},
     "output_type": "execute_result"
    }
   ],
   "source": [
    "calculate_average()"
   ]
  },
  {
   "cell_type": "markdown",
   "id": "4dcc0916",
   "metadata": {},
   "source": [
    "#### task4"
   ]
  },
  {
   "cell_type": "code",
   "execution_count": 14,
   "id": "24b8b669",
   "metadata": {},
   "outputs": [],
   "source": [
    "def is_even():\n",
    "    if n%2 == 0:\n",
    "        return(\"True\")\n",
    "    else:\n",
    "        return(\"False\")\n",
    "        "
   ]
  },
  {
   "cell_type": "code",
   "execution_count": 15,
   "id": "268fa482",
   "metadata": {},
   "outputs": [],
   "source": [
    "n = 10"
   ]
  },
  {
   "cell_type": "code",
   "execution_count": 16,
   "id": "94648e66",
   "metadata": {},
   "outputs": [
    {
     "data": {
      "text/plain": [
       "'True'"
      ]
     },
     "execution_count": 16,
     "metadata": {},
     "output_type": "execute_result"
    }
   ],
   "source": [
    "is_even()"
   ]
  },
  {
   "cell_type": "markdown",
   "id": "1a681354",
   "metadata": {},
   "source": [
    "#### Task5."
   ]
  },
  {
   "cell_type": "code",
   "execution_count": 10,
   "id": "bb4e0630",
   "metadata": {},
   "outputs": [],
   "source": [
    "def revers_string():\n",
    "    return(str1[-1::-1])\n",
    "     \n",
    "    "
   ]
  },
  {
   "cell_type": "code",
   "execution_count": 11,
   "id": "e6d537b9",
   "metadata": {},
   "outputs": [],
   "source": [
    "str1 = \"Hello\""
   ]
  },
  {
   "cell_type": "code",
   "execution_count": 12,
   "id": "69024434",
   "metadata": {},
   "outputs": [
    {
     "data": {
      "text/plain": [
       "'olleH'"
      ]
     },
     "execution_count": 12,
     "metadata": {},
     "output_type": "execute_result"
    }
   ],
   "source": [
    "revers_string()"
   ]
  },
  {
   "cell_type": "markdown",
   "id": "403802b9",
   "metadata": {},
   "source": [
    "#### Task6."
   ]
  },
  {
   "cell_type": "code",
   "execution_count": 23,
   "id": "8e0d159b",
   "metadata": {},
   "outputs": [],
   "source": [
    "vow = [\"a\",\"e\",\"i\",\"o\",\"u\",\"A\",\"E\",\"I\",\"O\",\"U\"]\n",
    "\n",
    "v =[]\n",
    "\n",
    "def count_vowels(vow2):\n",
    "    for i in vow2:\n",
    "        if i in vow:\n",
    "            v.append(i)\n",
    "    print(\"number of vowels in string: \", len(v))\n",
    "      "
   ]
  },
  {
   "cell_type": "code",
   "execution_count": 24,
   "id": "006410b6",
   "metadata": {},
   "outputs": [
    {
     "name": "stdout",
     "output_type": "stream",
     "text": [
      "number of vowels in string:  8\n"
     ]
    }
   ],
   "source": [
    "count_vowels(\"Innomatics research labs\")"
   ]
  },
  {
   "cell_type": "markdown",
   "id": "7b44d9bf",
   "metadata": {},
   "source": [
    "#### Task.7"
   ]
  },
  {
   "cell_type": "code",
   "execution_count": 25,
   "id": "64283a4b",
   "metadata": {},
   "outputs": [],
   "source": [
    "def find_max(a,b,c,d):\n",
    "    return(max(a,b,c,d))\n",
    "    \n"
   ]
  },
  {
   "cell_type": "code",
   "execution_count": 26,
   "id": "04dee011",
   "metadata": {},
   "outputs": [
    {
     "data": {
      "text/plain": [
       "4"
      ]
     },
     "execution_count": 26,
     "metadata": {},
     "output_type": "execute_result"
    }
   ],
   "source": [
    "find_max(1,2,3,4)"
   ]
  },
  {
   "cell_type": "markdown",
   "id": "63f12edc",
   "metadata": {},
   "source": [
    "#### Task.8"
   ]
  },
  {
   "cell_type": "code",
   "execution_count": 27,
   "id": "237a57c4",
   "metadata": {},
   "outputs": [],
   "source": [
    "def find_min(a,b,c,d):\n",
    "    return(min(a,b,c,d))"
   ]
  },
  {
   "cell_type": "code",
   "execution_count": 28,
   "id": "334e7eb9",
   "metadata": {},
   "outputs": [
    {
     "data": {
      "text/plain": [
       "3"
      ]
     },
     "execution_count": 28,
     "metadata": {},
     "output_type": "execute_result"
    }
   ],
   "source": [
    "find_min(3,4,5,6)"
   ]
  },
  {
   "cell_type": "code",
   "execution_count": null,
   "id": "575727d9",
   "metadata": {},
   "outputs": [],
   "source": []
  }
 ],
 "metadata": {
  "kernelspec": {
   "display_name": "Python 3 (ipykernel)",
   "language": "python",
   "name": "python3"
  },
  "language_info": {
   "codemirror_mode": {
    "name": "ipython",
    "version": 3
   },
   "file_extension": ".py",
   "mimetype": "text/x-python",
   "name": "python",
   "nbconvert_exporter": "python",
   "pygments_lexer": "ipython3",
   "version": "3.11.4"
  }
 },
 "nbformat": 4,
 "nbformat_minor": 5
}
