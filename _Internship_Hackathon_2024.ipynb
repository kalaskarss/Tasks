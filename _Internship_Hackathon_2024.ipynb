{
 "cells": [
  {
   "cell_type": "code",
   "execution_count": 28,
   "id": "633cc94e",
   "metadata": {},
   "outputs": [],
   "source": [
    "import numpy as np\n",
    "import pandas as pd\n",
    "import matplotlib.pyplot as plt"
   ]
  },
  {
   "cell_type": "code",
   "execution_count": 29,
   "id": "68bc9116",
   "metadata": {},
   "outputs": [],
   "source": [
    "movies = pd.read_csv(r\"C:\\Users\\LENOVO\\Downloads\\movie_data\\movies.csv\")\n",
    "links = pd.read_csv(r\"C:\\Users\\LENOVO\\Downloads\\movie_data\\links.csv\")\n",
    "ratings = pd.read_csv(r\"C:\\Users\\LENOVO\\Downloads\\movie_data\\ratings.csv\")\n",
    "tags = pd.read_csv(r\"C:\\Users\\LENOVO\\Downloads\\movie_data\\tags.csv\")"
   ]
  },
  {
   "cell_type": "code",
   "execution_count": 30,
   "id": "39030624",
   "metadata": {},
   "outputs": [
    {
     "data": {
      "text/html": [
       "<div>\n",
       "<style scoped>\n",
       "    .dataframe tbody tr th:only-of-type {\n",
       "        vertical-align: middle;\n",
       "    }\n",
       "\n",
       "    .dataframe tbody tr th {\n",
       "        vertical-align: top;\n",
       "    }\n",
       "\n",
       "    .dataframe thead th {\n",
       "        text-align: right;\n",
       "    }\n",
       "</style>\n",
       "<table border=\"1\" class=\"dataframe\">\n",
       "  <thead>\n",
       "    <tr style=\"text-align: right;\">\n",
       "      <th></th>\n",
       "      <th>movieId</th>\n",
       "      <th>title</th>\n",
       "      <th>genres</th>\n",
       "    </tr>\n",
       "  </thead>\n",
       "  <tbody>\n",
       "    <tr>\n",
       "      <th>0</th>\n",
       "      <td>1</td>\n",
       "      <td>Toy Story (1995)</td>\n",
       "      <td>Adventure|Animation|Children|Comedy|Fantasy</td>\n",
       "    </tr>\n",
       "    <tr>\n",
       "      <th>1</th>\n",
       "      <td>2</td>\n",
       "      <td>Jumanji (1995)</td>\n",
       "      <td>Adventure|Children|Fantasy</td>\n",
       "    </tr>\n",
       "    <tr>\n",
       "      <th>2</th>\n",
       "      <td>3</td>\n",
       "      <td>Grumpier Old Men (1995)</td>\n",
       "      <td>Comedy|Romance</td>\n",
       "    </tr>\n",
       "    <tr>\n",
       "      <th>3</th>\n",
       "      <td>4</td>\n",
       "      <td>Waiting to Exhale (1995)</td>\n",
       "      <td>Comedy|Drama|Romance</td>\n",
       "    </tr>\n",
       "    <tr>\n",
       "      <th>4</th>\n",
       "      <td>5</td>\n",
       "      <td>Father of the Bride Part II (1995)</td>\n",
       "      <td>Comedy</td>\n",
       "    </tr>\n",
       "  </tbody>\n",
       "</table>\n",
       "</div>"
      ],
      "text/plain": [
       "   movieId                               title  \\\n",
       "0        1                    Toy Story (1995)   \n",
       "1        2                      Jumanji (1995)   \n",
       "2        3             Grumpier Old Men (1995)   \n",
       "3        4            Waiting to Exhale (1995)   \n",
       "4        5  Father of the Bride Part II (1995)   \n",
       "\n",
       "                                        genres  \n",
       "0  Adventure|Animation|Children|Comedy|Fantasy  \n",
       "1                   Adventure|Children|Fantasy  \n",
       "2                               Comedy|Romance  \n",
       "3                         Comedy|Drama|Romance  \n",
       "4                                       Comedy  "
      ]
     },
     "execution_count": 30,
     "metadata": {},
     "output_type": "execute_result"
    }
   ],
   "source": [
    "movies.head()"
   ]
  },
  {
   "cell_type": "code",
   "execution_count": 31,
   "id": "106a3862",
   "metadata": {},
   "outputs": [
    {
     "data": {
      "text/plain": [
       "(9742, 3)"
      ]
     },
     "execution_count": 31,
     "metadata": {},
     "output_type": "execute_result"
    }
   ],
   "source": [
    "movies.shape"
   ]
  },
  {
   "cell_type": "code",
   "execution_count": 32,
   "id": "e1a78d05",
   "metadata": {},
   "outputs": [
    {
     "data": {
      "text/html": [
       "<div>\n",
       "<style scoped>\n",
       "    .dataframe tbody tr th:only-of-type {\n",
       "        vertical-align: middle;\n",
       "    }\n",
       "\n",
       "    .dataframe tbody tr th {\n",
       "        vertical-align: top;\n",
       "    }\n",
       "\n",
       "    .dataframe thead th {\n",
       "        text-align: right;\n",
       "    }\n",
       "</style>\n",
       "<table border=\"1\" class=\"dataframe\">\n",
       "  <thead>\n",
       "    <tr style=\"text-align: right;\">\n",
       "      <th></th>\n",
       "      <th>userId</th>\n",
       "      <th>movieId</th>\n",
       "      <th>rating</th>\n",
       "      <th>timestamp</th>\n",
       "    </tr>\n",
       "  </thead>\n",
       "  <tbody>\n",
       "    <tr>\n",
       "      <th>0</th>\n",
       "      <td>1</td>\n",
       "      <td>1</td>\n",
       "      <td>4.0</td>\n",
       "      <td>964982703</td>\n",
       "    </tr>\n",
       "    <tr>\n",
       "      <th>1</th>\n",
       "      <td>1</td>\n",
       "      <td>3</td>\n",
       "      <td>4.0</td>\n",
       "      <td>964981247</td>\n",
       "    </tr>\n",
       "    <tr>\n",
       "      <th>2</th>\n",
       "      <td>1</td>\n",
       "      <td>6</td>\n",
       "      <td>4.0</td>\n",
       "      <td>964982224</td>\n",
       "    </tr>\n",
       "    <tr>\n",
       "      <th>3</th>\n",
       "      <td>1</td>\n",
       "      <td>47</td>\n",
       "      <td>5.0</td>\n",
       "      <td>964983815</td>\n",
       "    </tr>\n",
       "    <tr>\n",
       "      <th>4</th>\n",
       "      <td>1</td>\n",
       "      <td>50</td>\n",
       "      <td>5.0</td>\n",
       "      <td>964982931</td>\n",
       "    </tr>\n",
       "  </tbody>\n",
       "</table>\n",
       "</div>"
      ],
      "text/plain": [
       "   userId  movieId  rating  timestamp\n",
       "0       1        1     4.0  964982703\n",
       "1       1        3     4.0  964981247\n",
       "2       1        6     4.0  964982224\n",
       "3       1       47     5.0  964983815\n",
       "4       1       50     5.0  964982931"
      ]
     },
     "execution_count": 32,
     "metadata": {},
     "output_type": "execute_result"
    }
   ],
   "source": [
    "ratings.head()"
   ]
  },
  {
   "cell_type": "code",
   "execution_count": 33,
   "id": "2a50b92b",
   "metadata": {},
   "outputs": [
    {
     "data": {
      "text/plain": [
       "(100836, 4)"
      ]
     },
     "execution_count": 33,
     "metadata": {},
     "output_type": "execute_result"
    }
   ],
   "source": [
    "ratings.shape"
   ]
  },
  {
   "cell_type": "code",
   "execution_count": 34,
   "id": "ca55d2bb",
   "metadata": {},
   "outputs": [
    {
     "data": {
      "text/plain": [
       "610"
      ]
     },
     "execution_count": 34,
     "metadata": {},
     "output_type": "execute_result"
    }
   ],
   "source": [
    "unique = ratings['userId'].nunique()\n",
    "unique"
   ]
  },
  {
   "cell_type": "markdown",
   "id": "b1e9c888",
   "metadata": {},
   "source": [
    "### Which movie has recieved maximum number of user ratings?"
   ]
  },
  {
   "cell_type": "code",
   "execution_count": 35,
   "id": "d6978e4f",
   "metadata": {},
   "outputs": [
    {
     "data": {
      "text/html": [
       "<div>\n",
       "<style scoped>\n",
       "    .dataframe tbody tr th:only-of-type {\n",
       "        vertical-align: middle;\n",
       "    }\n",
       "\n",
       "    .dataframe tbody tr th {\n",
       "        vertical-align: top;\n",
       "    }\n",
       "\n",
       "    .dataframe thead th {\n",
       "        text-align: right;\n",
       "    }\n",
       "</style>\n",
       "<table border=\"1\" class=\"dataframe\">\n",
       "  <thead>\n",
       "    <tr style=\"text-align: right;\">\n",
       "      <th></th>\n",
       "      <th>title</th>\n",
       "      <th>rating</th>\n",
       "    </tr>\n",
       "  </thead>\n",
       "  <tbody>\n",
       "    <tr>\n",
       "      <th>3158</th>\n",
       "      <td>Forrest Gump (1994)</td>\n",
       "      <td>329</td>\n",
       "    </tr>\n",
       "  </tbody>\n",
       "</table>\n",
       "</div>"
      ],
      "text/plain": [
       "                    title  rating\n",
       "3158  Forrest Gump (1994)     329"
      ]
     },
     "execution_count": 35,
     "metadata": {},
     "output_type": "execute_result"
    }
   ],
   "source": [
    "movies.merge(ratings,on =\"movieId\").groupby(\"title\")\\\n",
    "[\"rating\"].count().reset_index()\\\n",
    ".sort_values(by ='rating',ascending= False).head(1)"
   ]
  },
  {
   "cell_type": "code",
   "execution_count": 36,
   "id": "a0b24c9a",
   "metadata": {},
   "outputs": [
    {
     "data": {
      "text/plain": [
       "'Forrest Gump (1994)'"
      ]
     },
     "execution_count": 36,
     "metadata": {},
     "output_type": "execute_result"
    }
   ],
   "source": [
    "merged = pd.merge(ratings, movies, on='movieId')\n",
    "rating_count = merged.groupby('title')['rating'].count()\n",
    "max_rating_movie = rating_count.idxmax()\n",
    "\n",
    "max_rating_movie"
   ]
  },
  {
   "cell_type": "markdown",
   "id": "959da10a",
   "metadata": {},
   "source": [
    "### Select all the correct tags submitted by users to \"Matrix, The (1999)\" movie?"
   ]
  },
  {
   "cell_type": "code",
   "execution_count": 37,
   "id": "4a662c9a",
   "metadata": {},
   "outputs": [
    {
     "data": {
      "text/plain": [
       "array(['martial arts', 'sci-fi', 'alternate universe', 'philosophy',\n",
       "       'post apocalyptic'], dtype=object)"
      ]
     },
     "execution_count": 37,
     "metadata": {},
     "output_type": "execute_result"
    }
   ],
   "source": [
    "matrix_movie_id = movies[movies['title'] == 'Matrix, The (1999)']['movieId'].values[0]\n",
    "matrix_tags = tags[tags['movieId'] == matrix_movie_id]['tag']\n",
    "unique_tags = matrix_tags.unique()\n",
    "\n",
    "unique_tags"
   ]
  },
  {
   "cell_type": "markdown",
   "id": "26699cb4",
   "metadata": {},
   "source": [
    "### What is the average user rating for movie named \"Terminator 2: Judgment Day (1991)\"?"
   ]
  },
  {
   "cell_type": "code",
   "execution_count": 38,
   "id": "cc03d584",
   "metadata": {},
   "outputs": [
    {
     "data": {
      "text/plain": [
       "3.970982142857143"
      ]
     },
     "execution_count": 38,
     "metadata": {},
     "output_type": "execute_result"
    }
   ],
   "source": [
    "terminator2_movie_id = movies[movies['title'] == 'Terminator 2: Judgment Day (1991)']['movieId'].values[0]\n",
    "terminator2_ratings = ratings[ratings['movieId'] == terminator2_movie_id]['rating']\n",
    "average_rating = terminator2_ratings.mean()\n",
    "\n",
    "average_rating"
   ]
  },
  {
   "cell_type": "markdown",
   "id": "165adad0",
   "metadata": {},
   "source": [
    "### How does the data distribution of user ratings for \"Fight Club (1999)\" movie looks like?"
   ]
  },
  {
   "cell_type": "code",
   "execution_count": 16,
   "id": "c073e38b",
   "metadata": {},
   "outputs": [
    {
     "data": {
      "image/png": "[encoded data removed]",
      "text/plain": [
       "<Figure size 640x480 with 1 Axes>"
      ]
     },
     "metadata": {},
     "output_type": "display_data"
    }
   ],
   "source": [
    "fight_club_movie_id = movies[movies['title'] == 'Fight Club (1999)']['movieId'].values[0]\n",
    "fight_club_ratings = ratings[ratings['movieId'] == fight_club_movie_id]['rating']\n",
    "plt.hist(fight_club_ratings, bins=[0.5, 1.5, 2.5, 3.5, 4.5, 5.5], edgecolor='black')\n",
    "plt.title('User Ratings Distribution for Fight Club (1999)')\n",
    "plt.xlabel('Rating')\n",
    "plt.ylabel('Number of Users')\n",
    "plt.show()"
   ]
  },
  {
   "cell_type": "markdown",
   "id": "8d9ba212",
   "metadata": {},
   "source": [
    "### Which movie is the most popular based on  average user ratings?"
   ]
  },
  {
   "cell_type": "code",
   "execution_count": 17,
   "id": "3ca1f31a",
   "metadata": {},
   "outputs": [
    {
     "name": "stdout",
     "output_type": "stream",
     "text": [
      "                                title      mean\n",
      "277  Shawshank Redemption, The (1994)  4.429022\n"
     ]
    }
   ],
   "source": [
    "group_ratings = ratings.groupby('movieId')['rating'].agg(['count', 'mean'])\n",
    "merged = pd.merge(movies, group_ratings, on='movieId', how='inner')\n",
    "filtered = merged[merged['count'] > 50]\n",
    "most_pop_movie = filtered[filtered['mean'] == filtered['mean'].max()]\n",
    "\n",
    "\n",
    "print(most_pop_movie[['title', 'mean']])"
   ]
  },
  {
   "cell_type": "markdown",
   "id": "0f9f65e9",
   "metadata": {},
   "source": [
    "#### Select all the correct options which comes under top 5 popular movies based on number of user ratings."
   ]
  },
  {
   "cell_type": "code",
   "execution_count": 18,
   "id": "eb416655",
   "metadata": {},
   "outputs": [
    {
     "name": "stdout",
     "output_type": "stream",
     "text": [
      "                                 title  count\n",
      "314                Forrest Gump (1994)    329\n",
      "277   Shawshank Redemption, The (1994)    317\n",
      "257                Pulp Fiction (1994)    307\n",
      "510   Silence of the Lambs, The (1991)    279\n",
      "1938                Matrix, The (1999)    278\n"
     ]
    }
   ],
   "source": [
    "group_rating = ratings.groupby('movieId')['rating'].agg(['count', 'mean'])\n",
    "merged = pd.merge(movies, group_rating, on='movieId', how='inner')\n",
    "filtered = merged[merged['count'] > 50]\n",
    "top5_pop_movies = filtered.nlargest(5, 'count')\n",
    "\n",
    "\n",
    "print(top5_pop_movies[['title', 'count']])"
   ]
  },
  {
   "cell_type": "markdown",
   "id": "982550da",
   "metadata": {},
   "source": [
    "#### Which Sci-Fi movie is \"third most popular\" based on the number of user ratings?"
   ]
  },
  {
   "cell_type": "code",
   "execution_count": 22,
   "id": "e95e8679",
   "metadata": {},
   "outputs": [
    {
     "name": "stdout",
     "output_type": "stream",
     "text": [
      "title    Jurassic Park (1993)\n",
      "count                     238\n",
      "Name: 418, dtype: object\n"
     ]
    }
   ],
   "source": [
    "group_rating = ratings.groupby('movieId')['rating'].agg(['count', 'mean'])\n",
    "merged = pd.merge(movies, group_rating, on='movieId', how='inner')\n",
    "filtered = merged[merged['count'] > 50]\n",
    "scifi_movies = filtered[filtered['genres'].str.contains('Sci-Fi')]\n",
    "third_most_pop_scifi_movie = scifi_movies.nlargest(3, 'count').iloc[-1]\n",
    "\n",
    "\n",
    "print(third_most_pop_scifi_movie[['title', 'count']])"
   ]
  },
  {
   "cell_type": "markdown",
   "id": "201fdaa0",
   "metadata": {},
   "source": [
    "### Mention the movieId of the movie which has the highest IMDB rating."
   ]
  },
  {
   "cell_type": "code",
   "execution_count": 23,
   "id": "c416557d",
   "metadata": {},
   "outputs": [
    {
     "data": {
      "text/plain": [
       "53"
      ]
     },
     "execution_count": 23,
     "metadata": {},
     "output_type": "execute_result"
    }
   ],
   "source": [
    "merged = pd.merge(movies, ratings, on='movieId', how='inner')\n",
    "avg_rating = merged.groupby('movieId')['rating'].mean()\n",
    "high_rated_movie_id = avg_rating.idxmax()\n",
    "\n",
    "high_rated_movie_id"
   ]
  },
  {
   "cell_type": "markdown",
   "id": "f1d6a368",
   "metadata": {},
   "source": [
    "### Mention the movieId of the \"Sci-Fi\" movie which has the highest IMDB rating."
   ]
  },
  {
   "cell_type": "code",
   "execution_count": 24,
   "id": "cb07b460",
   "metadata": {},
   "outputs": [
    {
     "data": {
      "text/plain": [
       "3687"
      ]
     },
     "execution_count": 24,
     "metadata": {},
     "output_type": "execute_result"
    }
   ],
   "source": [
    "merged = pd.merge(movies, ratings, on='movieId', how='inner')\n",
    "avg_rating = merged.groupby('movieId')['rating'].mean()\n",
    "\n",
    "high_rated_scifi_movie_id = (\n",
    "    merged[merged['genres'].str.contains('Sci-Fi')]\n",
    "    .groupby('movieId')['rating']\n",
    "    .mean()\n",
    "    .idxmax()\n",
    ")\n",
    "\n",
    "high_rated_scifi_movie_id"
   ]
  },
  {
   "cell_type": "code",
   "execution_count": null,
   "id": "764d382a",
   "metadata": {},
   "outputs": [],
   "source": []
  }
 ],
 "metadata": {
  "kernelspec": {
   "display_name": "Python 3 (ipykernel)",
   "language": "python",
   "name": "python3"
  },
  "language_info": {
   "codemirror_mode": {
    "name": "ipython",
    "version": 3
   },
   "file_extension": ".py",
   "mimetype": "text/x-python",
   "name": "python",
   "nbconvert_exporter": "python",
   "pygments_lexer": "ipython3",
   "version": "3.11.4"
  }
 },
 "nbformat": 4,
 "nbformat_minor": 5
}
