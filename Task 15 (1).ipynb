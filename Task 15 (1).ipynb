{
 "cells": [
  {
   "cell_type": "markdown",
   "id": "985dd64b",
   "metadata": {},
   "source": [
    "Task 1: **Leap Year Checker**\n",
    "\n",
    "Write a program that takes a year as input and determines whether it is a leap year or not. A leap year is a year that is divisible by 4, but not divisible by 100, unless it is also divisible by 400. Display an appropriate message indicating whether the year is a leap year or not.\n",
    "\n",
    "Task 2: **Grade Calculator**\n",
    "\n",
    "Write a program that takes a student's score as input (out of 100) and determines their grade based on the following conditions:\n",
    "If the score is 90 or above, the grade is 'A'.\n",
    "If the score is between 80 and 89, the grade is 'B'.\n",
    "If the score is between 70 and 79, the grade is 'C'.\n",
    "If the score is between 60 and 69, the grade is 'D'. If the score is below 60, the grade is 'F'.\n",
    "Display the grade corresponding to the entered score.\n",
    "\n",
    "Task 3: **Calculator**\n",
    "Write a program that takes two numbers as input and performs a mathematical operation (+, -, *, /) based on the user's choice. Use a conditional statement to determine the operation to be performed. Display the result of the calculation.\n",
    "\n",
    "Task 4: **Reverse String**\n",
    "Write a Python function to reverse a string.\n",
    "\n",
    "Task 5: **Palindrome**\n",
    "Write a Python function that checks whether a passed string is a palindrome or not.\n",
    "\n",
    "Task 6: **Counting**\n",
    "Write a Python function that accepts a string and counts the number of upper and lower case letters.\n",
    "\n",
    "Task 7: **"
   ]
  },
  {
   "cell_type": "markdown",
   "id": "44aa649a",
   "metadata": {},
   "source": [
    "#### Task 1: Leap Year Checker\n",
    "\n",
    "Write a program that takes a year as input and determines whether it is a leap year or not. A leap year is a year that is divisible by 4, but not divisible by 100, unless it is also divisible by 400. Display an appropriate message indicating whether the year is a leap year or not."
   ]
  },
  {
   "cell_type": "code",
   "execution_count": 4,
   "id": "85241734",
   "metadata": {},
   "outputs": [
    {
     "name": "stdout",
     "output_type": "stream",
     "text": [
      "Enter the year 2000\n",
      "year is  a leap year\n"
     ]
    }
   ],
   "source": [
    "year = int(input(\"Enter the year \"))\n",
    "\n",
    "if year %4 == 0 or year % 400 == 0 and year % 100 != 0:\n",
    "    print(\"year is  a leap year\")\n",
    "else:\n",
    "    print(\"year is not a leap year\")"
   ]
  },
  {
   "cell_type": "code",
   "execution_count": 28,
   "id": "f4ddbaf6",
   "metadata": {},
   "outputs": [],
   "source": [
    "def leap_year(*year):\n",
    "    for i in year:\n",
    "        if i %4 ==0 or i%400 == 0 and i %100 != 0:\n",
    "            print (\"year is a leap year\")\n",
    "        else:\n",
    "            print(\"year is not a leap year\")\n",
    "            \n",
    "            "
   ]
  },
  {
   "cell_type": "code",
   "execution_count": 29,
   "id": "a75a2561",
   "metadata": {},
   "outputs": [
    {
     "name": "stdout",
     "output_type": "stream",
     "text": [
      "year is a leap year\n",
      "year is not a leap year\n",
      "year is not a leap year\n",
      "year is not a leap year\n",
      "year is not a leap year\n"
     ]
    }
   ],
   "source": [
    "leap_year(2000,2023,2005,2010,2019)"
   ]
  },
  {
   "cell_type": "code",
   "execution_count": 10,
   "id": "73dedff4",
   "metadata": {},
   "outputs": [
    {
     "name": "stdout",
     "output_type": "stream",
     "text": [
      "year is leap year\n",
      "year is not leap year\n",
      "year is not leap year\n",
      "year is leap year\n"
     ]
    }
   ],
   "source": [
    "list1 = [2000,2010,2023,2004]\n",
    "y = lambda year : year%4 == 0 or year%400 == 0 and year%100 != 0\n",
    "for i in list1:\n",
    "    if y(i) == True:\n",
    "        print(\"year is leap year\")\n",
    "    else:\n",
    "        print(\"year is not leap year\")\n",
    "    "
   ]
  },
  {
   "cell_type": "code",
   "execution_count": null,
   "id": "e0771079",
   "metadata": {},
   "outputs": [],
   "source": []
  },
  {
   "cell_type": "markdown",
   "id": "ef6f94d1",
   "metadata": {},
   "source": [
    "Task 2: Grade Calculator\n",
    "\n",
    "Write a program that takes a student's score as input (out of 100) and determines their grade based on the following conditions: If the score is 90 or above, the grade is 'A'. If the score is between 80 and 89, the grade is 'B'. If the score is between 70 and 79, the grade is 'C'. If the score is between 60 and 69, the grade is 'D'. If the score is below 60, the grade is 'F'. Display the grade corresponding to the entered score."
   ]
  },
  {
   "cell_type": "code",
   "execution_count": 2,
   "id": "89cad827",
   "metadata": {},
   "outputs": [
    {
     "name": "stdout",
     "output_type": "stream",
     "text": [
      "Enter your marks: 90\n",
      "grade'A'\n"
     ]
    }
   ],
   "source": [
    "marks = float(input(\"Enter your marks: \"))\n",
    "if (marks >= 90) and (marks <= 100):\n",
    "    print(\"grade'A'\")\n",
    "elif (marks >= 80) and (marks <= 89):\n",
    "    print (\"grade B\")\n",
    "elif (marks >= 70) and (marks <= 79):\n",
    "    print(\"grade C\")\n",
    "elif (marks >= 60) and (marks <= 69):\n",
    "    print(\"grade D\")\n",
    "elif (marks < 60) and (marks > 0):\n",
    "    print(\"grade F\")\n",
    "else:\n",
    "    (marks <= 0) or (marks > 100)\n",
    "    print(\"Enter valid marks\")\n"
   ]
  },
  {
   "cell_type": "markdown",
   "id": "df49f9d9",
   "metadata": {},
   "source": [
    "Task 3: Calculator Write a program that takes two numbers as input and performs a mathematical operation (+, -, *, /) based on the user's choice. Use a conditional statement to determine the operation to be performed. Display the result of the calculation.\n"
   ]
  },
  {
   "cell_type": "code",
   "execution_count": null,
   "id": "fb90e8d9",
   "metadata": {},
   "outputs": [],
   "source": []
  },
  {
   "cell_type": "code",
   "execution_count": null,
   "id": "d112c227",
   "metadata": {},
   "outputs": [
    {
     "name": "stdout",
     "output_type": "stream",
     "text": [
      "Enter a number 4\n",
      "Enter a number 6\n"
     ]
    }
   ],
   "source": [
    "num1 = int(input(\"Enter a number \"))\n",
    "num2 = int(input(\"Enter a number \"))\n",
    "operation = input (\"Enter an opratoration to do \")\n",
    "if operation == \"addition\" :\n",
    "    addition = num1 + num2\n",
    "    print(f\" value is {addition}\")\n",
    "elif operation == \"subtraction\":\n",
    "    subtration = num1 - num2\n",
    "    print(f\"value is {subtraction}\")\n",
    "elif operation == \"multiplication\":\n",
    "    multiplication = num1 * num2\n",
    "    print(f\"value is {multiplication}\")\n",
    "elif operation == division:\n",
    "    division = num1 /num2\n",
    "    print(f\"value is {division}\")"
   ]
  },
  {
   "cell_type": "markdown",
   "id": "8e47968b",
   "metadata": {},
   "source": [
    "Task 4: Reverse String Write a Python function to reverse a string."
   ]
  },
  {
   "cell_type": "code",
   "execution_count": 1,
   "id": "3e4bf2e9",
   "metadata": {},
   "outputs": [
    {
     "name": "stdout",
     "output_type": "stream",
     "text": [
      "enter a stringHello\n"
     ]
    },
    {
     "data": {
      "text/plain": [
       "'olleH'"
      ]
     },
     "execution_count": 1,
     "metadata": {},
     "output_type": "execute_result"
    }
   ],
   "source": [
    "def string(n):\n",
    "    return n[-1::-1]\n",
    "reverse = input(\"enter a string\")\n",
    "string(reverse)"
   ]
  },
  {
   "cell_type": "code",
   "execution_count": 14,
   "id": "fc2f585f",
   "metadata": {},
   "outputs": [],
   "source": [
    "reverse = lambda n:n[-1::-1]           #using lambda function"
   ]
  },
  {
   "cell_type": "code",
   "execution_count": 16,
   "id": "2bb8c605",
   "metadata": {},
   "outputs": [
    {
     "data": {
      "text/plain": [
       "'olleH'"
      ]
     },
     "execution_count": 16,
     "metadata": {},
     "output_type": "execute_result"
    }
   ],
   "source": [
    "reverse(\"Hello\")"
   ]
  },
  {
   "cell_type": "markdown",
   "id": "ba49809f",
   "metadata": {},
   "source": [
    "Task 5: Palindrome Write a Python function that checks whether a passed string is a palindrome or not."
   ]
  },
  {
   "cell_type": "code",
   "execution_count": 19,
   "id": "e47c3492",
   "metadata": {},
   "outputs": [
    {
     "name": "stdout",
     "output_type": "stream",
     "text": [
      "enter string: mom\n",
      "it is palindrome\n"
     ]
    }
   ],
   "source": [
    "def palindrome(name):\n",
    "    while name:\n",
    "        if name == name[-1::-1]:\n",
    "            print(\"it is palindrome\")\n",
    "            break\n",
    "        else:\n",
    "            print(\"it is not palindrome\")\n",
    "            break\n",
    "name = input(\"enter string: \")\n",
    "palindrome(name)\n",
    "        "
   ]
  },
  {
   "cell_type": "code",
   "execution_count": null,
   "id": "1b340060",
   "metadata": {},
   "outputs": [],
   "source": []
  },
  {
   "cell_type": "markdown",
   "id": "4ff67d1e",
   "metadata": {},
   "source": [
    "Task 6: Counting Write a Python function that accepts a string and counts the number of upper and lower case letters."
   ]
  },
  {
   "cell_type": "code",
   "execution_count": 45,
   "id": "0b8e46cd",
   "metadata": {},
   "outputs": [
    {
     "name": "stdout",
     "output_type": "stream",
     "text": [
      "enter a string\"Hello World\"\n"
     ]
    }
   ],
   "source": [
    "def count_upper_low(string):\n",
    "    upper_count = 0\n",
    "    lower_count = 0\n",
    "    for char in string:\n",
    "        if char.isupper():\n",
    "            upper_count += 1\n",
    "        elif char.islower():\n",
    "            lower_count += 1\n",
    "    return upper_count,lower_count\n",
    "s = input(\"enter a string\")"
   ]
  },
  {
   "cell_type": "code",
   "execution_count": 47,
   "id": "280b4c7b",
   "metadata": {},
   "outputs": [
    {
     "data": {
      "text/plain": [
       "(2, 8)"
      ]
     },
     "execution_count": 47,
     "metadata": {},
     "output_type": "execute_result"
    }
   ],
   "source": [
    "count_upper_low(s)"
   ]
  },
  {
   "cell_type": "code",
   "execution_count": null,
   "id": "982a15af",
   "metadata": {},
   "outputs": [],
   "source": []
  }
 ],
 "metadata": {
  "kernelspec": {
   "display_name": "Python 3 (ipykernel)",
   "language": "python",
   "name": "python3"
  },
  "language_info": {
   "codemirror_mode": {
    "name": "ipython",
    "version": 3
   },
   "file_extension": ".py",
   "mimetype": "text/x-python",
   "name": "python",
   "nbconvert_exporter": "python",
   "pygments_lexer": "ipython3",
   "version": "3.11.4"
  }
 },
 "nbformat": 4,
 "nbformat_minor": 5
}
